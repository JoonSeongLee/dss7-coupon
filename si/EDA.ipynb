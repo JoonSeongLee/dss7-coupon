{
 "cells": [
  {
   "cell_type": "markdown",
   "metadata": {},
   "source": [
    "# Coupon Purchase Prediction\n",
    "\n",
    "[LINK](https://www.kaggle.com/c/coupon-purchase-prediction#description)"
   ]
  },
  {
   "cell_type": "markdown",
   "metadata": {},
   "source": [
    "## 0. Setting"
   ]
  },
  {
   "cell_type": "code",
   "execution_count": 1,
   "metadata": {},
   "outputs": [],
   "source": [
    "import matplotlib as mpl\n",
    "import matplotlib.pylab as plt\n",
    "from mpl_toolkits.mplot3d import Axes3D\n",
    "import seaborn as sns\n",
    "sns.set()\n",
    "sns.set_style(\"whitegrid\")\n",
    "sns.set_color_codes(palette=\"muted\")\n",
    "import warnings\n",
    "warnings.filterwarnings(\"ignore\")\n",
    "import datetime as dt"
   ]
  },
  {
   "cell_type": "markdown",
   "metadata": {},
   "source": [
    "## 1. Ponpare (폰파레)"
   ]
  },
  {
   "cell_type": "markdown",
   "metadata": {},
   "source": [
    "- 일본의 주요 소셜 커머스 사이트\n",
    "\n",
    "\n",
    "- this competition asks you to predict which coupons a customer will buy in a given period of time."
   ]
  },
  {
   "cell_type": "markdown",
   "metadata": {},
   "source": [
    "## 2. User_list"
   ]
  },
  {
   "cell_type": "code",
   "execution_count": 3,
   "metadata": {
    "scrolled": false
   },
   "outputs": [
    {
     "data": {
      "text/html": [
       "<div>\n",
       "<style scoped>\n",
       "    .dataframe tbody tr th:only-of-type {\n",
       "        vertical-align: middle;\n",
       "    }\n",
       "\n",
       "    .dataframe tbody tr th {\n",
       "        vertical-align: top;\n",
       "    }\n",
       "\n",
       "    .dataframe thead th {\n",
       "        text-align: right;\n",
       "    }\n",
       "</style>\n",
       "<table border=\"1\" class=\"dataframe\">\n",
       "  <thead>\n",
       "    <tr style=\"text-align: right;\">\n",
       "      <th></th>\n",
       "      <th>REG_DATE</th>\n",
       "      <th>SEX_ID</th>\n",
       "      <th>AGE</th>\n",
       "      <th>WITHDRAW_DATE</th>\n",
       "      <th>PREF_NAME</th>\n",
       "      <th>USER_ID_hash</th>\n",
       "    </tr>\n",
       "  </thead>\n",
       "  <tbody>\n",
       "    <tr>\n",
       "      <th>22868</th>\n",
       "      <td>2011-12-12 15:42:56</td>\n",
       "      <td>f</td>\n",
       "      <td>24</td>\n",
       "      <td>NaN</td>\n",
       "      <td>NaN</td>\n",
       "      <td>2f0a2f36a9f63b6ba2fa3a7e53bef906</td>\n",
       "    </tr>\n",
       "    <tr>\n",
       "      <th>22869</th>\n",
       "      <td>2011-08-10 00:49:55</td>\n",
       "      <td>m</td>\n",
       "      <td>41</td>\n",
       "      <td>NaN</td>\n",
       "      <td>京都府</td>\n",
       "      <td>6ae7811a9c7c58546d6a1567ab098c21</td>\n",
       "    </tr>\n",
       "    <tr>\n",
       "      <th>22870</th>\n",
       "      <td>2012-04-05 12:24:23</td>\n",
       "      <td>f</td>\n",
       "      <td>35</td>\n",
       "      <td>NaN</td>\n",
       "      <td>NaN</td>\n",
       "      <td>a417308c6a79ae0d86976401ec2e3b04</td>\n",
       "    </tr>\n",
       "    <tr>\n",
       "      <th>22871</th>\n",
       "      <td>2011-02-20 10:34:22</td>\n",
       "      <td>f</td>\n",
       "      <td>59</td>\n",
       "      <td>NaN</td>\n",
       "      <td>NaN</td>\n",
       "      <td>4937ec1c86e71d901c4ccc0357cff0b1</td>\n",
       "    </tr>\n",
       "    <tr>\n",
       "      <th>22872</th>\n",
       "      <td>2011-02-24 15:43:18</td>\n",
       "      <td>f</td>\n",
       "      <td>38</td>\n",
       "      <td>NaN</td>\n",
       "      <td>埼玉県</td>\n",
       "      <td>280f0cedda5c4b171ee6245889659571</td>\n",
       "    </tr>\n",
       "  </tbody>\n",
       "</table>\n",
       "</div>"
      ],
      "text/plain": [
       "                  REG_DATE SEX_ID  AGE WITHDRAW_DATE PREF_NAME  \\\n",
       "22868  2011-12-12 15:42:56      f   24           NaN       NaN   \n",
       "22869  2011-08-10 00:49:55      m   41           NaN       京都府   \n",
       "22870  2012-04-05 12:24:23      f   35           NaN       NaN   \n",
       "22871  2011-02-20 10:34:22      f   59           NaN       NaN   \n",
       "22872  2011-02-24 15:43:18      f   38           NaN       埼玉県   \n",
       "\n",
       "                           USER_ID_hash  \n",
       "22868  2f0a2f36a9f63b6ba2fa3a7e53bef906  \n",
       "22869  6ae7811a9c7c58546d6a1567ab098c21  \n",
       "22870  a417308c6a79ae0d86976401ec2e3b04  \n",
       "22871  4937ec1c86e71d901c4ccc0357cff0b1  \n",
       "22872  280f0cedda5c4b171ee6245889659571  "
      ]
     },
     "execution_count": 3,
     "metadata": {},
     "output_type": "execute_result"
    }
   ],
   "source": [
    "user_list = pd.read_csv('../data/user_list.csv')\n",
    "user_list.tail()"
   ]
  },
  {
   "cell_type": "code",
   "execution_count": 4,
   "metadata": {
    "scrolled": false
   },
   "outputs": [
    {
     "name": "stdout",
     "output_type": "stream",
     "text": [
      "<class 'pandas.core.frame.DataFrame'>\n",
      "RangeIndex: 22873 entries, 0 to 22872\n",
      "Data columns (total 6 columns):\n",
      "REG_DATE         22873 non-null object\n",
      "SEX_ID           22873 non-null object\n",
      "AGE              22873 non-null int64\n",
      "WITHDRAW_DATE    922 non-null object\n",
      "PREF_NAME        15617 non-null object\n",
      "USER_ID_hash     22873 non-null object\n",
      "dtypes: int64(1), object(5)\n",
      "memory usage: 1.0+ MB\n"
     ]
    }
   ],
   "source": [
    "user_list.info()"
   ]
  },
  {
   "cell_type": "markdown",
   "metadata": {},
   "source": [
    "- REG_DATE : 등록날짜\n",
    "- SEX_ID : 성별\n",
    "- AGE : 나이\n",
    "- WITHDRAW_DATE : 탈퇴날짜\n",
    "- PREF_NAME : 행정구역\n",
    "- USER_ID_hash : ID값 (고유값)"
   ]
  },
  {
   "cell_type": "code",
   "execution_count": 5,
   "metadata": {
    "scrolled": true
   },
   "outputs": [
    {
     "name": "stdout",
     "output_type": "stream",
     "text": [
      "22842\n",
      "2\n",
      "66\n",
      "920\n",
      "48\n",
      "22873\n"
     ]
    }
   ],
   "source": [
    "# Unique한 갯수\n",
    "print(len(set(user_list['REG_DATE'])))\n",
    "print(len(set(user_list['SEX_ID'])))\n",
    "print(len(set(user_list['AGE'])))\n",
    "print(len(set(user_list['WITHDRAW_DATE'])))\n",
    "print(len(set(user_list['PREF_NAME']))) # 닉네임 갯수가 생각보다 적네..\n",
    "print(len(set(user_list['USER_ID_hash'])))"
   ]
  },
  {
   "cell_type": "markdown",
   "metadata": {},
   "source": [
    "### 2.1 REG_DATE (등록날짜)"
   ]
  },
  {
   "cell_type": "code",
   "execution_count": 6,
   "metadata": {},
   "outputs": [],
   "source": [
    "# 날짜를 나눠서 보기\n",
    "user_list[\"REG_DATE\"] = pd.to_datetime(user_list[\"REG_DATE\"]) \n",
    "user_list[\"REG_YEAR\"] = user_list[\"REG_DATE\"].dt.year \n",
    "user_list[\"REG_MONTH\"] = user_list[\"REG_DATE\"].dt.month \n",
    "user_list[\"REG_HOUR\"] = user_list[\"REG_DATE\"].dt.hour\n",
    "user_list[\"REG_WEEKDAY\"] = user_list[\"REG_DATE\"].dt.weekday"
   ]
  },
  {
   "cell_type": "code",
   "execution_count": 7,
   "metadata": {
    "scrolled": false
   },
   "outputs": [
    {
     "data": {
      "text/html": [
       "<div>\n",
       "<style scoped>\n",
       "    .dataframe tbody tr th:only-of-type {\n",
       "        vertical-align: middle;\n",
       "    }\n",
       "\n",
       "    .dataframe tbody tr th {\n",
       "        vertical-align: top;\n",
       "    }\n",
       "\n",
       "    .dataframe thead th {\n",
       "        text-align: right;\n",
       "    }\n",
       "</style>\n",
       "<table border=\"1\" class=\"dataframe\">\n",
       "  <thead>\n",
       "    <tr style=\"text-align: right;\">\n",
       "      <th></th>\n",
       "      <th>REG_DATE</th>\n",
       "      <th>SEX_ID</th>\n",
       "      <th>AGE</th>\n",
       "      <th>WITHDRAW_DATE</th>\n",
       "      <th>PREF_NAME</th>\n",
       "      <th>USER_ID_hash</th>\n",
       "      <th>REG_YEAR</th>\n",
       "      <th>REG_MONTH</th>\n",
       "      <th>REG_HOUR</th>\n",
       "      <th>REG_WEEKDAY</th>\n",
       "    </tr>\n",
       "  </thead>\n",
       "  <tbody>\n",
       "    <tr>\n",
       "      <th>22868</th>\n",
       "      <td>2011-12-12 15:42:56</td>\n",
       "      <td>f</td>\n",
       "      <td>24</td>\n",
       "      <td>NaN</td>\n",
       "      <td>NaN</td>\n",
       "      <td>2f0a2f36a9f63b6ba2fa3a7e53bef906</td>\n",
       "      <td>2011</td>\n",
       "      <td>12</td>\n",
       "      <td>15</td>\n",
       "      <td>0</td>\n",
       "    </tr>\n",
       "    <tr>\n",
       "      <th>22869</th>\n",
       "      <td>2011-08-10 00:49:55</td>\n",
       "      <td>m</td>\n",
       "      <td>41</td>\n",
       "      <td>NaN</td>\n",
       "      <td>京都府</td>\n",
       "      <td>6ae7811a9c7c58546d6a1567ab098c21</td>\n",
       "      <td>2011</td>\n",
       "      <td>8</td>\n",
       "      <td>0</td>\n",
       "      <td>2</td>\n",
       "    </tr>\n",
       "    <tr>\n",
       "      <th>22870</th>\n",
       "      <td>2012-04-05 12:24:23</td>\n",
       "      <td>f</td>\n",
       "      <td>35</td>\n",
       "      <td>NaN</td>\n",
       "      <td>NaN</td>\n",
       "      <td>a417308c6a79ae0d86976401ec2e3b04</td>\n",
       "      <td>2012</td>\n",
       "      <td>4</td>\n",
       "      <td>12</td>\n",
       "      <td>3</td>\n",
       "    </tr>\n",
       "    <tr>\n",
       "      <th>22871</th>\n",
       "      <td>2011-02-20 10:34:22</td>\n",
       "      <td>f</td>\n",
       "      <td>59</td>\n",
       "      <td>NaN</td>\n",
       "      <td>NaN</td>\n",
       "      <td>4937ec1c86e71d901c4ccc0357cff0b1</td>\n",
       "      <td>2011</td>\n",
       "      <td>2</td>\n",
       "      <td>10</td>\n",
       "      <td>6</td>\n",
       "    </tr>\n",
       "    <tr>\n",
       "      <th>22872</th>\n",
       "      <td>2011-02-24 15:43:18</td>\n",
       "      <td>f</td>\n",
       "      <td>38</td>\n",
       "      <td>NaN</td>\n",
       "      <td>埼玉県</td>\n",
       "      <td>280f0cedda5c4b171ee6245889659571</td>\n",
       "      <td>2011</td>\n",
       "      <td>2</td>\n",
       "      <td>15</td>\n",
       "      <td>3</td>\n",
       "    </tr>\n",
       "  </tbody>\n",
       "</table>\n",
       "</div>"
      ],
      "text/plain": [
       "                 REG_DATE SEX_ID  AGE WITHDRAW_DATE PREF_NAME  \\\n",
       "22868 2011-12-12 15:42:56      f   24           NaN       NaN   \n",
       "22869 2011-08-10 00:49:55      m   41           NaN       京都府   \n",
       "22870 2012-04-05 12:24:23      f   35           NaN       NaN   \n",
       "22871 2011-02-20 10:34:22      f   59           NaN       NaN   \n",
       "22872 2011-02-24 15:43:18      f   38           NaN       埼玉県   \n",
       "\n",
       "                           USER_ID_hash  REG_YEAR  REG_MONTH  REG_HOUR  \\\n",
       "22868  2f0a2f36a9f63b6ba2fa3a7e53bef906      2011         12        15   \n",
       "22869  6ae7811a9c7c58546d6a1567ab098c21      2011          8         0   \n",
       "22870  a417308c6a79ae0d86976401ec2e3b04      2012          4        12   \n",
       "22871  4937ec1c86e71d901c4ccc0357cff0b1      2011          2        10   \n",
       "22872  280f0cedda5c4b171ee6245889659571      2011          2        15   \n",
       "\n",
       "       REG_WEEKDAY  \n",
       "22868            0  \n",
       "22869            2  \n",
       "22870            3  \n",
       "22871            6  \n",
       "22872            3  "
      ]
     },
     "execution_count": 7,
     "metadata": {},
     "output_type": "execute_result"
    }
   ],
   "source": [
    "user_list.tail()"
   ]
  },
  {
   "cell_type": "code",
   "execution_count": 8,
   "metadata": {
    "scrolled": false
   },
   "outputs": [
    {
     "data": {
      "image/png": "[encoded data removed]",
      "text/plain": [
       "<matplotlib.figure.Figure at 0x1144266d8>"
      ]
     },
     "metadata": {
      "image/png": {
       "height": 697,
       "width": 1179
      }
     },
     "output_type": "display_data"
    }
   ],
   "source": [
    "# normal distribution\n",
    "plt.figure(figsize=(20, 12))\n",
    "plt.subplots_adjust(hspace = 0.5, wspace = 0.3)\n",
    "\n",
    "for i in range(6, 9+1):\n",
    "    plt.subplot(2,2,i-5)\n",
    "    sns.countplot(x = user_list.columns[i], data = user_list)\n",
    "    \n",
    "plt.show()"
   ]
  },
  {
   "cell_type": "markdown",
   "metadata": {},
   "source": [
    "### 2.2 SEX_ID (성별)"
   ]
  },
  {
   "cell_type": "code",
   "execution_count": 9,
   "metadata": {},
   "outputs": [
    {
     "data": {
      "image/png": "[encoded data removed]",
      "text/plain": [
       "<matplotlib.figure.Figure at 0x10ef465f8>"
      ]
     },
     "metadata": {
      "image/png": {
       "height": 262,
       "width": 398
      }
     },
     "output_type": "display_data"
    }
   ],
   "source": [
    "sns.countplot(x = 'SEX_ID', data = user_list)\n",
    "plt.show()"
   ]
  },
  {
   "cell_type": "markdown",
   "metadata": {},
   "source": [
    "### 2.3 AGE (나이)"
   ]
  },
  {
   "cell_type": "code",
   "execution_count": 13,
   "metadata": {
    "scrolled": false
   },
   "outputs": [
    {
     "data": {
      "image/png": "[encoded data removed]",
      "text/plain": [
       "<matplotlib.figure.Figure at 0x116e71518>"
      ]
     },
     "metadata": {
      "image/png": {
       "height": 262,
       "width": 349
      }
     },
     "output_type": "display_data"
    },
    {
     "name": "stdout",
     "output_type": "stream",
     "text": [
      "count    22873.000000\n",
      "mean        42.497836\n",
      "std         11.843465\n",
      "min         15.000000\n",
      "25%         33.000000\n",
      "50%         41.000000\n",
      "75%         51.000000\n",
      "max         80.000000\n",
      "Name: AGE, dtype: float64\n"
     ]
    }
   ],
   "source": [
    "# AGE Boxplot\n",
    "sns.boxplot(user_list['AGE'])\n",
    "plt.show()\n",
    "\n",
    "print(user_list['AGE'].describe())"
   ]
  },
  {
   "cell_type": "markdown",
   "metadata": {},
   "source": [
    "### 2.4 WITHDRAW_DATE (탈퇴날짜)"
   ]
  },
  {
   "cell_type": "code",
   "execution_count": 11,
   "metadata": {},
   "outputs": [],
   "source": [
    "# 날짜를 나눠서 보기\n",
    "user_list[\"WITHDRAW_DATE\"] = pd.to_datetime(user_list[\"WITHDRAW_DATE\"]) \n",
    "user_list[\"WD_YEAR\"] = user_list[\"WITHDRAW_DATE\"].dt.year \n",
    "user_list[\"WD_MONTH\"] = user_list[\"WITHDRAW_DATE\"].dt.month \n",
    "user_list[\"WD_HOUR\"] = user_list[\"WITHDRAW_DATE\"].dt.hour\n",
    "user_list[\"WD_WEEKDAY\"] = user_list[\"WITHDRAW_DATE\"].dt.weekday"
   ]
  },
  {
   "cell_type": "code",
   "execution_count": 12,
   "metadata": {},
   "outputs": [
    {
     "data": {
      "image/png": "[encoded data removed]",
      "text/plain": [
       "<matplotlib.figure.Figure at 0x11689cc88>"
      ]
     },
     "metadata": {
      "image/png": {
       "height": 697,
       "width": 1168
      }
     },
     "output_type": "display_data"
    }
   ],
   "source": [
    "# normal distribution\n",
    "plt.figure(figsize=(20, 12))\n",
    "plt.subplots_adjust(hspace = 0.5, wspace = 0.3)\n",
    "\n",
    "for i in range(10, 13+1):\n",
    "    plt.subplot(2,2,i-9)\n",
    "    sns.countplot(x = user_list.columns[i], data = user_list)\n",
    "    \n",
    "plt.show()"
   ]
  },
  {
   "cell_type": "markdown",
   "metadata": {},
   "source": [
    "### 2.5 PREF_NAME (행정구역)"
   ]
  },
  {
   "cell_type": "code",
   "execution_count": 25,
   "metadata": {},
   "outputs": [
    {
     "data": {
      "text/html": [
       "<div>\n",
       "<style scoped>\n",
       "    .dataframe tbody tr th:only-of-type {\n",
       "        vertical-align: middle;\n",
       "    }\n",
       "\n",
       "    .dataframe tbody tr th {\n",
       "        vertical-align: top;\n",
       "    }\n",
       "\n",
       "    .dataframe thead th {\n",
       "        text-align: right;\n",
       "    }\n",
       "</style>\n",
       "<table border=\"1\" class=\"dataframe\">\n",
       "  <thead>\n",
       "    <tr style=\"text-align: right;\">\n",
       "      <th></th>\n",
       "      <th>PREF_NAME</th>\n",
       "      <th>counts</th>\n",
       "    </tr>\n",
       "  </thead>\n",
       "  <tbody>\n",
       "    <tr>\n",
       "      <th>0</th>\n",
       "      <td>東京都</td>\n",
       "      <td>2830</td>\n",
       "    </tr>\n",
       "    <tr>\n",
       "      <th>1</th>\n",
       "      <td>神奈川県</td>\n",
       "      <td>1653</td>\n",
       "    </tr>\n",
       "    <tr>\n",
       "      <th>2</th>\n",
       "      <td>大阪府</td>\n",
       "      <td>1638</td>\n",
       "    </tr>\n",
       "    <tr>\n",
       "      <th>3</th>\n",
       "      <td>愛知県</td>\n",
       "      <td>938</td>\n",
       "    </tr>\n",
       "    <tr>\n",
       "      <th>4</th>\n",
       "      <td>兵庫県</td>\n",
       "      <td>879</td>\n",
       "    </tr>\n",
       "  </tbody>\n",
       "</table>\n",
       "</div>"
      ],
      "text/plain": [
       "  PREF_NAME  counts\n",
       "0       東京都    2830\n",
       "1      神奈川県    1653\n",
       "2       大阪府    1638\n",
       "3       愛知県     938\n",
       "4       兵庫県     879"
      ]
     },
     "execution_count": 25,
     "metadata": {},
     "output_type": "execute_result"
    }
   ],
   "source": [
    "prefectual_name = user_list.groupby(\"PREF_NAME\").size().reset_index(name='counts')\n",
    "prefectual_name = preff_name.sort_values(by=['counts'], ascending=False)\n",
    "prefectual_name = preff_name.reset_index(drop=True)\n",
    "prefectual_name.head()"
   ]
  },
  {
   "cell_type": "markdown",
   "metadata": {},
   "source": [
    "---"
   ]
  },
  {
   "cell_type": "markdown",
   "metadata": {},
   "source": [
    "## 3. Coupon_List"
   ]
  },
  {
   "cell_type": "code",
   "execution_count": 23,
   "metadata": {
    "scrolled": false
   },
   "outputs": [
    {
     "data": {
      "text/html": [
       "<div>\n",
       "<style scoped>\n",
       "    .dataframe tbody tr th:only-of-type {\n",
       "        vertical-align: middle;\n",
       "    }\n",
       "\n",
       "    .dataframe tbody tr th {\n",
       "        vertical-align: top;\n",
       "    }\n",
       "\n",
       "    .dataframe thead th {\n",
       "        text-align: right;\n",
       "    }\n",
       "</style>\n",
       "<table border=\"1\" class=\"dataframe\">\n",
       "  <thead>\n",
       "    <tr style=\"text-align: right;\">\n",
       "      <th></th>\n",
       "      <th>CAPSULE_TEXT</th>\n",
       "      <th>GENRE_NAME</th>\n",
       "      <th>PRICE_RATE</th>\n",
       "      <th>CATALOG_PRICE</th>\n",
       "      <th>DISCOUNT_PRICE</th>\n",
       "      <th>DISPFROM</th>\n",
       "      <th>DISPEND</th>\n",
       "      <th>DISPPERIOD</th>\n",
       "      <th>VALIDFROM</th>\n",
       "      <th>VALIDEND</th>\n",
       "      <th>...</th>\n",
       "      <th>USABLE_DATE_THU</th>\n",
       "      <th>USABLE_DATE_FRI</th>\n",
       "      <th>USABLE_DATE_SAT</th>\n",
       "      <th>USABLE_DATE_SUN</th>\n",
       "      <th>USABLE_DATE_HOLIDAY</th>\n",
       "      <th>USABLE_DATE_BEFORE_HOLIDAY</th>\n",
       "      <th>large_area_name</th>\n",
       "      <th>ken_name</th>\n",
       "      <th>small_area_name</th>\n",
       "      <th>COUPON_ID_hash</th>\n",
       "    </tr>\n",
       "  </thead>\n",
       "  <tbody>\n",
       "    <tr>\n",
       "      <th>19408</th>\n",
       "      <td>ネイル・アイ</td>\n",
       "      <td>ネイル・アイ</td>\n",
       "      <td>65</td>\n",
       "      <td>10000</td>\n",
       "      <td>3500</td>\n",
       "      <td>2011-07-14 12:00:00</td>\n",
       "      <td>2011-07-17 12:00:00</td>\n",
       "      <td>3</td>\n",
       "      <td>2011-07-18</td>\n",
       "      <td>2011-12-30</td>\n",
       "      <td>...</td>\n",
       "      <td>1.0</td>\n",
       "      <td>1.0</td>\n",
       "      <td>1.0</td>\n",
       "      <td>1.0</td>\n",
       "      <td>1.0</td>\n",
       "      <td>1.0</td>\n",
       "      <td>北信越</td>\n",
       "      <td>新潟県</td>\n",
       "      <td>新潟</td>\n",
       "      <td>fe334f1a5e0dc54eca76b9dd9559661b</td>\n",
       "    </tr>\n",
       "    <tr>\n",
       "      <th>19409</th>\n",
       "      <td>グルメ</td>\n",
       "      <td>グルメ</td>\n",
       "      <td>50</td>\n",
       "      <td>5980</td>\n",
       "      <td>2990</td>\n",
       "      <td>2011-09-30 12:00:00</td>\n",
       "      <td>2011-10-03 12:00:00</td>\n",
       "      <td>3</td>\n",
       "      <td>2011-10-04</td>\n",
       "      <td>2012-02-29</td>\n",
       "      <td>...</td>\n",
       "      <td>1.0</td>\n",
       "      <td>1.0</td>\n",
       "      <td>1.0</td>\n",
       "      <td>1.0</td>\n",
       "      <td>1.0</td>\n",
       "      <td>1.0</td>\n",
       "      <td>関東</td>\n",
       "      <td>東京都</td>\n",
       "      <td>新宿・高田馬場・中野・吉祥寺</td>\n",
       "      <td>8dc11b257cb1c5b98e7b7c66d9b2b779</td>\n",
       "    </tr>\n",
       "    <tr>\n",
       "      <th>19410</th>\n",
       "      <td>グルメ</td>\n",
       "      <td>グルメ</td>\n",
       "      <td>50</td>\n",
       "      <td>6300</td>\n",
       "      <td>3150</td>\n",
       "      <td>2011-09-03 12:00:00</td>\n",
       "      <td>2011-09-05 12:00:00</td>\n",
       "      <td>2</td>\n",
       "      <td>2011-09-06</td>\n",
       "      <td>2011-11-30</td>\n",
       "      <td>...</td>\n",
       "      <td>1.0</td>\n",
       "      <td>2.0</td>\n",
       "      <td>2.0</td>\n",
       "      <td>1.0</td>\n",
       "      <td>1.0</td>\n",
       "      <td>2.0</td>\n",
       "      <td>関東</td>\n",
       "      <td>東京都</td>\n",
       "      <td>渋谷・青山・自由が丘</td>\n",
       "      <td>b15e2d7619c3fd9c6be567c971bdf4f4</td>\n",
       "    </tr>\n",
       "    <tr>\n",
       "      <th>19411</th>\n",
       "      <td>グルメ</td>\n",
       "      <td>グルメ</td>\n",
       "      <td>50</td>\n",
       "      <td>2400</td>\n",
       "      <td>1200</td>\n",
       "      <td>2011-07-15 12:00:00</td>\n",
       "      <td>2011-07-17 12:00:00</td>\n",
       "      <td>2</td>\n",
       "      <td>2011-07-18</td>\n",
       "      <td>2011-10-31</td>\n",
       "      <td>...</td>\n",
       "      <td>1.0</td>\n",
       "      <td>1.0</td>\n",
       "      <td>1.0</td>\n",
       "      <td>1.0</td>\n",
       "      <td>1.0</td>\n",
       "      <td>1.0</td>\n",
       "      <td>関東</td>\n",
       "      <td>東京都</td>\n",
       "      <td>銀座・新橋・東京・上野</td>\n",
       "      <td>e1141a4b2798450f36e40090659c0b07</td>\n",
       "    </tr>\n",
       "    <tr>\n",
       "      <th>19412</th>\n",
       "      <td>グルメ</td>\n",
       "      <td>グルメ</td>\n",
       "      <td>60</td>\n",
       "      <td>6000</td>\n",
       "      <td>2400</td>\n",
       "      <td>2011-07-23 12:00:00</td>\n",
       "      <td>2011-07-26 12:00:00</td>\n",
       "      <td>3</td>\n",
       "      <td>2011-07-27</td>\n",
       "      <td>2011-11-30</td>\n",
       "      <td>...</td>\n",
       "      <td>1.0</td>\n",
       "      <td>0.0</td>\n",
       "      <td>0.0</td>\n",
       "      <td>1.0</td>\n",
       "      <td>1.0</td>\n",
       "      <td>0.0</td>\n",
       "      <td>関東</td>\n",
       "      <td>東京都</td>\n",
       "      <td>新宿・高田馬場・中野・吉祥寺</td>\n",
       "      <td>79303de03e3af7105cded55960d62ac3</td>\n",
       "    </tr>\n",
       "  </tbody>\n",
       "</table>\n",
       "<p>5 rows × 24 columns</p>\n",
       "</div>"
      ],
      "text/plain": [
       "      CAPSULE_TEXT GENRE_NAME  PRICE_RATE  CATALOG_PRICE  DISCOUNT_PRICE  \\\n",
       "19408       ネイル・アイ     ネイル・アイ          65          10000            3500   \n",
       "19409          グルメ        グルメ          50           5980            2990   \n",
       "19410          グルメ        グルメ          50           6300            3150   \n",
       "19411          グルメ        グルメ          50           2400            1200   \n",
       "19412          グルメ        グルメ          60           6000            2400   \n",
       "\n",
       "                  DISPFROM              DISPEND  DISPPERIOD   VALIDFROM  \\\n",
       "19408  2011-07-14 12:00:00  2011-07-17 12:00:00           3  2011-07-18   \n",
       "19409  2011-09-30 12:00:00  2011-10-03 12:00:00           3  2011-10-04   \n",
       "19410  2011-09-03 12:00:00  2011-09-05 12:00:00           2  2011-09-06   \n",
       "19411  2011-07-15 12:00:00  2011-07-17 12:00:00           2  2011-07-18   \n",
       "19412  2011-07-23 12:00:00  2011-07-26 12:00:00           3  2011-07-27   \n",
       "\n",
       "         VALIDEND                ...                 USABLE_DATE_THU  \\\n",
       "19408  2011-12-30                ...                             1.0   \n",
       "19409  2012-02-29                ...                             1.0   \n",
       "19410  2011-11-30                ...                             1.0   \n",
       "19411  2011-10-31                ...                             1.0   \n",
       "19412  2011-11-30                ...                             1.0   \n",
       "\n",
       "       USABLE_DATE_FRI  USABLE_DATE_SAT  USABLE_DATE_SUN  USABLE_DATE_HOLIDAY  \\\n",
       "19408              1.0              1.0              1.0                  1.0   \n",
       "19409              1.0              1.0              1.0                  1.0   \n",
       "19410              2.0              2.0              1.0                  1.0   \n",
       "19411              1.0              1.0              1.0                  1.0   \n",
       "19412              0.0              0.0              1.0                  1.0   \n",
       "\n",
       "       USABLE_DATE_BEFORE_HOLIDAY  large_area_name  ken_name  small_area_name  \\\n",
       "19408                         1.0              北信越       新潟県               新潟   \n",
       "19409                         1.0               関東       東京都   新宿・高田馬場・中野・吉祥寺   \n",
       "19410                         2.0               関東       東京都       渋谷・青山・自由が丘   \n",
       "19411                         1.0               関東       東京都      銀座・新橋・東京・上野   \n",
       "19412                         0.0               関東       東京都   新宿・高田馬場・中野・吉祥寺   \n",
       "\n",
       "                         COUPON_ID_hash  \n",
       "19408  fe334f1a5e0dc54eca76b9dd9559661b  \n",
       "19409  8dc11b257cb1c5b98e7b7c66d9b2b779  \n",
       "19410  b15e2d7619c3fd9c6be567c971bdf4f4  \n",
       "19411  e1141a4b2798450f36e40090659c0b07  \n",
       "19412  79303de03e3af7105cded55960d62ac3  \n",
       "\n",
       "[5 rows x 24 columns]"
      ]
     },
     "execution_count": 23,
     "metadata": {},
     "output_type": "execute_result"
    }
   ],
   "source": [
    "coupon_list = pd.read_csv('../data/coupon_list_train.csv')\n",
    "coupon_list.tail()"
   ]
  },
  {
   "cell_type": "code",
   "execution_count": 24,
   "metadata": {
    "scrolled": false
   },
   "outputs": [
    {
     "name": "stdout",
     "output_type": "stream",
     "text": [
      "<class 'pandas.core.frame.DataFrame'>\n",
      "RangeIndex: 19413 entries, 0 to 19412\n",
      "Data columns (total 24 columns):\n",
      "CAPSULE_TEXT                  19413 non-null object\n",
      "GENRE_NAME                    19413 non-null object\n",
      "PRICE_RATE                    19413 non-null int64\n",
      "CATALOG_PRICE                 19413 non-null int64\n",
      "DISCOUNT_PRICE                19413 non-null int64\n",
      "DISPFROM                      19413 non-null object\n",
      "DISPEND                       19413 non-null object\n",
      "DISPPERIOD                    19413 non-null int64\n",
      "VALIDFROM                     13266 non-null object\n",
      "VALIDEND                      13266 non-null object\n",
      "VALIDPERIOD                   13266 non-null float64\n",
      "USABLE_DATE_MON               12408 non-null float64\n",
      "USABLE_DATE_TUE               12408 non-null float64\n",
      "USABLE_DATE_WED               12408 non-null float64\n",
      "USABLE_DATE_THU               12408 non-null float64\n",
      "USABLE_DATE_FRI               12408 non-null float64\n",
      "USABLE_DATE_SAT               12408 non-null float64\n",
      "USABLE_DATE_SUN               12408 non-null float64\n",
      "USABLE_DATE_HOLIDAY           12408 non-null float64\n",
      "USABLE_DATE_BEFORE_HOLIDAY    12408 non-null float64\n",
      "large_area_name               19413 non-null object\n",
      "ken_name                      19413 non-null object\n",
      "small_area_name               19413 non-null object\n",
      "COUPON_ID_hash                19413 non-null object\n",
      "dtypes: float64(10), int64(4), object(10)\n",
      "memory usage: 3.6+ MB\n"
     ]
    }
   ],
   "source": [
    "coupon_list.info()"
   ]
  },
  {
   "cell_type": "markdown",
   "metadata": {},
   "source": [
    "|Column Name|\tDescription|\tType|\tLength|\tDecimal\tNote|\n",
    "|-|-|-|-|-|\n",
    "|CAPSULE_TEXT|Capsule text|VARCHAR220||[JPN]|\n",
    "|GENRE_NAME|Category name|VARCHAR250||[JPN]|\t \t \t \n",
    "|PRICE_RATE|Discount rate|NUMBER4 |0||\t \t \t \t \n",
    "|CATALOG_PRICE|List price|NUMBER10| 0|\t| \t \t \t \n",
    "|DISCOUNT_PRICE|Discount price|\tNUMBER10| 0||\t \t \t \t \n",
    "|DISPFROM|Sales release date|DATE|\t||\t \t \t \t \t \n",
    "|DISPEND|Sales end date |DATE|\t ||\t \t \t \t \t \n",
    "|DISPPERIOD|Sales period (day)|\tNUMBER4|\t0|\t |\t \t \t \n",
    "|VALIDFROM|\tThe term of validity starts|DATE| |\t |\t \t \t \t \n",
    "|VALIDEND|\tThe term of validity ends|\tDATE|\t| \t \t \t \t \t \n",
    "|VALIDPERIOD\t|Validity period (day)|\tNUMBER4|0\t|| \t \t \t \n",
    "|USABLE_DATE_MON|\tIs available on Monday|\tCHAR|\t1|\t| \t \t \t \t \n",
    "|USABLE_DATE_TUE|\tIs available on Tuesday\t|CHAR|\t1|\t| \t| \t \t \t \n",
    "|USABLE_DATE_WED|\tIs available on Wednesday|\tCHAR|\t1| ||\t \t \t \t \n",
    "|USABLE_DATE_THU|\tIs available on Thursday|\tCHAR|\t1||\t \t \t \t \t \n",
    "|USABLE_DATE_FRI|\tIs available on Friday|\tCHAR|\t1|\t |\t \t \t \t \n",
    "|USABLE_DATE_SAT|\tIs available on Saturday|\tCHAR|\t1||\t \t \t \t \t \n",
    "|USABLE_DATE_SUN|\tIs available on Sunday|\tCHAR|\t1|\t |\t \t \t \t \n",
    "|USABLE_DATE_HOLIDAY|\tIs available on holiday|CHAR|\t1|\t| \t \t \t \t \n",
    "|USABLE_DATE_BEFORE_HOLIDAY|\tIs available on the day before holiday|\tCHAR|\t1|\t| \t \t \t \t \n",
    "|large_area_name|\tLarge area name of shop location|VARCHAR230||[JPN]| \t \t \n",
    "|ken_name|\tPrefecture name of shop\t|VARCHAR28||\t \t[JPN]\t| \t \t \n",
    "|small_area_name|Small area name of shop location|VARCHAR230||[JPN]|\t \t \t \n",
    "|COUPON_ID_hash|\tCoupon ID|VARCHAR232|\t |"
   ]
  },
  {
   "cell_type": "code",
   "execution_count": 8,
   "metadata": {
    "scrolled": false
   },
   "outputs": [
    {
     "data": {
      "text/html": [
       "<div>\n",
       "<style scoped>\n",
       "    .dataframe tbody tr th:only-of-type {\n",
       "        vertical-align: middle;\n",
       "    }\n",
       "\n",
       "    .dataframe tbody tr th {\n",
       "        vertical-align: top;\n",
       "    }\n",
       "\n",
       "    .dataframe thead th {\n",
       "        text-align: right;\n",
       "    }\n",
       "</style>\n",
       "<table border=\"1\" class=\"dataframe\">\n",
       "  <thead>\n",
       "    <tr style=\"text-align: right;\">\n",
       "      <th></th>\n",
       "      <th>PRICE_RATE</th>\n",
       "      <th>CATALOG_PRICE</th>\n",
       "      <th>DISCOUNT_PRICE</th>\n",
       "      <th>DISPPERIOD</th>\n",
       "      <th>VALIDPERIOD</th>\n",
       "      <th>USABLE_DATE_MON</th>\n",
       "      <th>USABLE_DATE_TUE</th>\n",
       "      <th>USABLE_DATE_WED</th>\n",
       "      <th>USABLE_DATE_THU</th>\n",
       "      <th>USABLE_DATE_FRI</th>\n",
       "      <th>USABLE_DATE_SAT</th>\n",
       "      <th>USABLE_DATE_SUN</th>\n",
       "      <th>USABLE_DATE_HOLIDAY</th>\n",
       "      <th>USABLE_DATE_BEFORE_HOLIDAY</th>\n",
       "    </tr>\n",
       "  </thead>\n",
       "  <tbody>\n",
       "    <tr>\n",
       "      <th>count</th>\n",
       "      <td>19413.000000</td>\n",
       "      <td>19413.000000</td>\n",
       "      <td>19413.000000</td>\n",
       "      <td>19413.000000</td>\n",
       "      <td>13266.000000</td>\n",
       "      <td>12408.000000</td>\n",
       "      <td>12408.000000</td>\n",
       "      <td>12408.000000</td>\n",
       "      <td>12408.000000</td>\n",
       "      <td>12408.000000</td>\n",
       "      <td>12408.000000</td>\n",
       "      <td>12408.000000</td>\n",
       "      <td>12408.000000</td>\n",
       "      <td>12408.000000</td>\n",
       "    </tr>\n",
       "    <tr>\n",
       "      <th>mean</th>\n",
       "      <td>58.478391</td>\n",
       "      <td>11818.368258</td>\n",
       "      <td>4332.877659</td>\n",
       "      <td>3.166950</td>\n",
       "      <td>125.955902</td>\n",
       "      <td>0.936009</td>\n",
       "      <td>0.953901</td>\n",
       "      <td>0.982189</td>\n",
       "      <td>0.981867</td>\n",
       "      <td>1.000242</td>\n",
       "      <td>1.067618</td>\n",
       "      <td>0.921422</td>\n",
       "      <td>0.938024</td>\n",
       "      <td>1.044246</td>\n",
       "    </tr>\n",
       "    <tr>\n",
       "      <th>std</th>\n",
       "      <td>11.266571</td>\n",
       "      <td>16881.898880</td>\n",
       "      <td>5459.667448</td>\n",
       "      <td>1.346859</td>\n",
       "      <td>46.599249</td>\n",
       "      <td>0.309854</td>\n",
       "      <td>0.314045</td>\n",
       "      <td>0.217525</td>\n",
       "      <td>0.198105</td>\n",
       "      <td>0.319562</td>\n",
       "      <td>0.563260</td>\n",
       "      <td>0.424181</td>\n",
       "      <td>0.399619</td>\n",
       "      <td>0.534511</td>\n",
       "    </tr>\n",
       "    <tr>\n",
       "      <th>min</th>\n",
       "      <td>0.000000</td>\n",
       "      <td>1.000000</td>\n",
       "      <td>0.000000</td>\n",
       "      <td>0.000000</td>\n",
       "      <td>0.000000</td>\n",
       "      <td>0.000000</td>\n",
       "      <td>0.000000</td>\n",
       "      <td>0.000000</td>\n",
       "      <td>0.000000</td>\n",
       "      <td>0.000000</td>\n",
       "      <td>0.000000</td>\n",
       "      <td>0.000000</td>\n",
       "      <td>0.000000</td>\n",
       "      <td>0.000000</td>\n",
       "    </tr>\n",
       "    <tr>\n",
       "      <th>25%</th>\n",
       "      <td>50.000000</td>\n",
       "      <td>3675.000000</td>\n",
       "      <td>1550.000000</td>\n",
       "      <td>2.000000</td>\n",
       "      <td>89.000000</td>\n",
       "      <td>1.000000</td>\n",
       "      <td>1.000000</td>\n",
       "      <td>1.000000</td>\n",
       "      <td>1.000000</td>\n",
       "      <td>1.000000</td>\n",
       "      <td>1.000000</td>\n",
       "      <td>1.000000</td>\n",
       "      <td>1.000000</td>\n",
       "      <td>1.000000</td>\n",
       "    </tr>\n",
       "    <tr>\n",
       "      <th>50%</th>\n",
       "      <td>53.000000</td>\n",
       "      <td>6500.000000</td>\n",
       "      <td>2750.000000</td>\n",
       "      <td>3.000000</td>\n",
       "      <td>128.000000</td>\n",
       "      <td>1.000000</td>\n",
       "      <td>1.000000</td>\n",
       "      <td>1.000000</td>\n",
       "      <td>1.000000</td>\n",
       "      <td>1.000000</td>\n",
       "      <td>1.000000</td>\n",
       "      <td>1.000000</td>\n",
       "      <td>1.000000</td>\n",
       "      <td>1.000000</td>\n",
       "    </tr>\n",
       "    <tr>\n",
       "      <th>75%</th>\n",
       "      <td>65.000000</td>\n",
       "      <td>13650.000000</td>\n",
       "      <td>4800.000000</td>\n",
       "      <td>4.000000</td>\n",
       "      <td>177.000000</td>\n",
       "      <td>1.000000</td>\n",
       "      <td>1.000000</td>\n",
       "      <td>1.000000</td>\n",
       "      <td>1.000000</td>\n",
       "      <td>1.000000</td>\n",
       "      <td>1.000000</td>\n",
       "      <td>1.000000</td>\n",
       "      <td>1.000000</td>\n",
       "      <td>1.000000</td>\n",
       "    </tr>\n",
       "    <tr>\n",
       "      <th>max</th>\n",
       "      <td>100.000000</td>\n",
       "      <td>680000.000000</td>\n",
       "      <td>100000.000000</td>\n",
       "      <td>36.000000</td>\n",
       "      <td>179.000000</td>\n",
       "      <td>2.000000</td>\n",
       "      <td>2.000000</td>\n",
       "      <td>2.000000</td>\n",
       "      <td>2.000000</td>\n",
       "      <td>2.000000</td>\n",
       "      <td>2.000000</td>\n",
       "      <td>2.000000</td>\n",
       "      <td>2.000000</td>\n",
       "      <td>2.000000</td>\n",
       "    </tr>\n",
       "  </tbody>\n",
       "</table>\n",
       "</div>"
      ],
      "text/plain": [
       "         PRICE_RATE  CATALOG_PRICE  DISCOUNT_PRICE    DISPPERIOD  \\\n",
       "count  19413.000000   19413.000000    19413.000000  19413.000000   \n",
       "mean      58.478391   11818.368258     4332.877659      3.166950   \n",
       "std       11.266571   16881.898880     5459.667448      1.346859   \n",
       "min        0.000000       1.000000        0.000000      0.000000   \n",
       "25%       50.000000    3675.000000     1550.000000      2.000000   \n",
       "50%       53.000000    6500.000000     2750.000000      3.000000   \n",
       "75%       65.000000   13650.000000     4800.000000      4.000000   \n",
       "max      100.000000  680000.000000   100000.000000     36.000000   \n",
       "\n",
       "        VALIDPERIOD  USABLE_DATE_MON  USABLE_DATE_TUE  USABLE_DATE_WED  \\\n",
       "count  13266.000000     12408.000000     12408.000000     12408.000000   \n",
       "mean     125.955902         0.936009         0.953901         0.982189   \n",
       "std       46.599249         0.309854         0.314045         0.217525   \n",
       "min        0.000000         0.000000         0.000000         0.000000   \n",
       "25%       89.000000         1.000000         1.000000         1.000000   \n",
       "50%      128.000000         1.000000         1.000000         1.000000   \n",
       "75%      177.000000         1.000000         1.000000         1.000000   \n",
       "max      179.000000         2.000000         2.000000         2.000000   \n",
       "\n",
       "       USABLE_DATE_THU  USABLE_DATE_FRI  USABLE_DATE_SAT  USABLE_DATE_SUN  \\\n",
       "count     12408.000000     12408.000000     12408.000000     12408.000000   \n",
       "mean          0.981867         1.000242         1.067618         0.921422   \n",
       "std           0.198105         0.319562         0.563260         0.424181   \n",
       "min           0.000000         0.000000         0.000000         0.000000   \n",
       "25%           1.000000         1.000000         1.000000         1.000000   \n",
       "50%           1.000000         1.000000         1.000000         1.000000   \n",
       "75%           1.000000         1.000000         1.000000         1.000000   \n",
       "max           2.000000         2.000000         2.000000         2.000000   \n",
       "\n",
       "       USABLE_DATE_HOLIDAY  USABLE_DATE_BEFORE_HOLIDAY  \n",
       "count         12408.000000                12408.000000  \n",
       "mean              0.938024                    1.044246  \n",
       "std               0.399619                    0.534511  \n",
       "min               0.000000                    0.000000  \n",
       "25%               1.000000                    1.000000  \n",
       "50%               1.000000                    1.000000  \n",
       "75%               1.000000                    1.000000  \n",
       "max               2.000000                    2.000000  "
      ]
     },
     "execution_count": 8,
     "metadata": {},
     "output_type": "execute_result"
    }
   ],
   "source": [
    "coupon_list.describe()"
   ]
  },
  {
   "cell_type": "code",
   "execution_count": null,
   "metadata": {},
   "outputs": [],
   "source": []
  }
 ],
 "metadata": {
  "kernelspec": {
   "display_name": "Python 3",
   "language": "python",
   "name": "python3"
  },
  "language_info": {
   "codemirror_mode": {
    "name": "ipython",
    "version": 3
   },
   "file_extension": ".py",
   "mimetype": "text/x-python",
   "name": "python",
   "nbconvert_exporter": "python",
   "pygments_lexer": "ipython3",
   "version": "3.6.4"
  }
 },
 "nbformat": 4,
 "nbformat_minor": 2
}
