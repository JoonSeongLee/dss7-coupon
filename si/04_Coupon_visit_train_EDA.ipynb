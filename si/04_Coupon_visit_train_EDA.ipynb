{
 "cells": [
  {
   "cell_type": "markdown",
   "metadata": {},
   "source": [
    "## Coupon_Visit\n",
    "\n",
    ": 쿠폰 인터넷 방문기록 관련 속성"
   ]
  },
  {
   "cell_type": "code",
   "execution_count": 1,
   "metadata": {},
   "outputs": [],
   "source": [
    "from ml_config import *"
   ]
  },
  {
   "cell_type": "markdown",
   "metadata": {},
   "source": [
    "### 1. Data Load"
   ]
  },
  {
   "cell_type": "code",
   "execution_count": 2,
   "metadata": {},
   "outputs": [
    {
     "data": {
      "text/html": [
       "<div>\n",
       "<style scoped>\n",
       "    .dataframe tbody tr th:only-of-type {\n",
       "        vertical-align: middle;\n",
       "    }\n",
       "\n",
       "    .dataframe tbody tr th {\n",
       "        vertical-align: top;\n",
       "    }\n",
       "\n",
       "    .dataframe thead th {\n",
       "        text-align: right;\n",
       "    }\n",
       "</style>\n",
       "<table border=\"1\" class=\"dataframe\">\n",
       "  <thead>\n",
       "    <tr style=\"text-align: right;\">\n",
       "      <th></th>\n",
       "      <th>PURCHASE_FLG</th>\n",
       "      <th>I_DATE</th>\n",
       "      <th>PAGE_SERIAL</th>\n",
       "      <th>REFERRER_hash</th>\n",
       "      <th>VIEW_COUPON_ID_hash</th>\n",
       "      <th>USER_ID_hash</th>\n",
       "      <th>SESSION_ID_hash</th>\n",
       "      <th>PURCHASEID_hash</th>\n",
       "    </tr>\n",
       "  </thead>\n",
       "  <tbody>\n",
       "    <tr>\n",
       "      <th>2833175</th>\n",
       "      <td>0</td>\n",
       "      <td>2011-08-20 12:13:21</td>\n",
       "      <td>4</td>\n",
       "      <td>ae75a8764951d2454273df8348dac8f3</td>\n",
       "      <td>8d91be4a8b5b02cf7117cb2b8e2d5a16</td>\n",
       "      <td>280f0cedda5c4b171ee6245889659571</td>\n",
       "      <td>f3261882332ac0d622d74ba067deb026</td>\n",
       "      <td>NaN</td>\n",
       "    </tr>\n",
       "    <tr>\n",
       "      <th>2833176</th>\n",
       "      <td>0</td>\n",
       "      <td>2011-08-20 12:19:05</td>\n",
       "      <td>7</td>\n",
       "      <td>48243ea50a35bb107fafd46a461b0b28</td>\n",
       "      <td>0fc7873f2a0bd451b97e97bd6b792ba9</td>\n",
       "      <td>280f0cedda5c4b171ee6245889659571</td>\n",
       "      <td>f3261882332ac0d622d74ba067deb026</td>\n",
       "      <td>NaN</td>\n",
       "    </tr>\n",
       "    <tr>\n",
       "      <th>2833177</th>\n",
       "      <td>0</td>\n",
       "      <td>2011-07-12 08:48:09</td>\n",
       "      <td>5</td>\n",
       "      <td>7d3892e54acb559ae36c459978489330</td>\n",
       "      <td>5cf5b9e5d600314a40a9fbac846ac15e</td>\n",
       "      <td>280f0cedda5c4b171ee6245889659571</td>\n",
       "      <td>cb624517ccc8fd90120bcfeb73d83758</td>\n",
       "      <td>NaN</td>\n",
       "    </tr>\n",
       "    <tr>\n",
       "      <th>2833178</th>\n",
       "      <td>0</td>\n",
       "      <td>2011-07-12 08:50:03</td>\n",
       "      <td>8</td>\n",
       "      <td>7d3892e54acb559ae36c459978489330</td>\n",
       "      <td>5cf5b9e5d600314a40a9fbac846ac15e</td>\n",
       "      <td>280f0cedda5c4b171ee6245889659571</td>\n",
       "      <td>cb624517ccc8fd90120bcfeb73d83758</td>\n",
       "      <td>NaN</td>\n",
       "    </tr>\n",
       "    <tr>\n",
       "      <th>2833179</th>\n",
       "      <td>0</td>\n",
       "      <td>2011-07-18 07:03:37</td>\n",
       "      <td>4</td>\n",
       "      <td>7d3892e54acb559ae36c459978489330</td>\n",
       "      <td>4ef82e25c2740e4ab55affbe5a003f50</td>\n",
       "      <td>280f0cedda5c4b171ee6245889659571</td>\n",
       "      <td>2a34fb9a7ea95bc5483d43a7295e5ee0</td>\n",
       "      <td>NaN</td>\n",
       "    </tr>\n",
       "  </tbody>\n",
       "</table>\n",
       "</div>"
      ],
      "text/plain": [
       "         PURCHASE_FLG               I_DATE  PAGE_SERIAL  \\\n",
       "2833175             0  2011-08-20 12:13:21            4   \n",
       "2833176             0  2011-08-20 12:19:05            7   \n",
       "2833177             0  2011-07-12 08:48:09            5   \n",
       "2833178             0  2011-07-12 08:50:03            8   \n",
       "2833179             0  2011-07-18 07:03:37            4   \n",
       "\n",
       "                            REFERRER_hash               VIEW_COUPON_ID_hash  \\\n",
       "2833175  ae75a8764951d2454273df8348dac8f3  8d91be4a8b5b02cf7117cb2b8e2d5a16   \n",
       "2833176  48243ea50a35bb107fafd46a461b0b28  0fc7873f2a0bd451b97e97bd6b792ba9   \n",
       "2833177  7d3892e54acb559ae36c459978489330  5cf5b9e5d600314a40a9fbac846ac15e   \n",
       "2833178  7d3892e54acb559ae36c459978489330  5cf5b9e5d600314a40a9fbac846ac15e   \n",
       "2833179  7d3892e54acb559ae36c459978489330  4ef82e25c2740e4ab55affbe5a003f50   \n",
       "\n",
       "                             USER_ID_hash                   SESSION_ID_hash  \\\n",
       "2833175  280f0cedda5c4b171ee6245889659571  f3261882332ac0d622d74ba067deb026   \n",
       "2833176  280f0cedda5c4b171ee6245889659571  f3261882332ac0d622d74ba067deb026   \n",
       "2833177  280f0cedda5c4b171ee6245889659571  cb624517ccc8fd90120bcfeb73d83758   \n",
       "2833178  280f0cedda5c4b171ee6245889659571  cb624517ccc8fd90120bcfeb73d83758   \n",
       "2833179  280f0cedda5c4b171ee6245889659571  2a34fb9a7ea95bc5483d43a7295e5ee0   \n",
       "\n",
       "        PURCHASEID_hash  \n",
       "2833175             NaN  \n",
       "2833176             NaN  \n",
       "2833177             NaN  \n",
       "2833178             NaN  \n",
       "2833179             NaN  "
      ]
     },
     "execution_count": 2,
     "metadata": {},
     "output_type": "execute_result"
    }
   ],
   "source": [
    "coupon_visit = pd.read_csv('../data/coupon_visit_train.csv')\n",
    "coupon_visit.tail()"
   ]
  },
  {
   "cell_type": "markdown",
   "metadata": {},
   "source": [
    "#### Note :\n",
    "\n",
    "1. Column은 PURCHASE_FLG, I_DATE, PAGE_SERIAL, REFERRER_hash, VIEW_COUPON_ID_hash, USER_ID_hash, SESSION_ID_hash, PURCHASEID_hash (총 8개)로 이뤄짐\n",
    "2. Column별 데이터 타입이 다양함"
   ]
  },
  {
   "cell_type": "markdown",
   "metadata": {},
   "source": [
    "### 2. Overall EDA"
   ]
  },
  {
   "cell_type": "code",
   "execution_count": 3,
   "metadata": {},
   "outputs": [
    {
     "name": "stdout",
     "output_type": "stream",
     "text": [
      "<class 'pandas.core.frame.DataFrame'>\n",
      "RangeIndex: 2833180 entries, 0 to 2833179\n",
      "Data columns (total 8 columns):\n",
      "PURCHASE_FLG           int64\n",
      "I_DATE                 object\n",
      "PAGE_SERIAL            int64\n",
      "REFERRER_hash          object\n",
      "VIEW_COUPON_ID_hash    object\n",
      "USER_ID_hash           object\n",
      "SESSION_ID_hash        object\n",
      "PURCHASEID_hash        object\n",
      "dtypes: int64(2), object(6)\n",
      "memory usage: 172.9+ MB\n"
     ]
    }
   ],
   "source": [
    "coupon_visit.info()"
   ]
  },
  {
   "cell_type": "code",
   "execution_count": 4,
   "metadata": {},
   "outputs": [
    {
     "name": "stdout",
     "output_type": "stream",
     "text": [
      "PURCHASE_FLG : 2\n",
      "I_DATE : 2638744\n",
      "PAGE_SERIAL : 466\n",
      "REFERRER_hash : 97319\n",
      "VIEW_COUPON_ID_hash : 32628\n",
      "USER_ID_hash : 22805\n",
      "SESSION_ID_hash : 1046179\n",
      "PURCHASEID_hash : 114775\n"
     ]
    }
   ],
   "source": [
    "# Unique\n",
    "for i in range(0, 7+1):\n",
    "    print('{} : {}'.format(coupon_visit.columns[i], len(set(coupon_visit[coupon_visit.columns[i]]))))"
   ]
  },
  {
   "cell_type": "markdown",
   "metadata": {},
   "source": [
    "### 3. PURCHASE_FLG"
   ]
  },
  {
   "cell_type": "code",
   "execution_count": 5,
   "metadata": {
    "scrolled": true
   },
   "outputs": [
    {
     "data": {
      "image/png": "[encoded data removed]",
      "text/plain": [
       "<matplotlib.figure.Figure at 0x137b88c18>"
      ]
     },
     "metadata": {
      "image/png": {
       "height": 262,
       "width": 409
      }
     },
     "output_type": "display_data"
    }
   ],
   "source": [
    "sns.countplot(x = coupon_visit['PURCHASE_FLG'], data = coupon_visit)\n",
    "plt.show()"
   ]
  },
  {
   "cell_type": "markdown",
   "metadata": {},
   "source": [
    "### 4. I_DATE"
   ]
  },
  {
   "cell_type": "code",
   "execution_count": 6,
   "metadata": {},
   "outputs": [
    {
     "data": {
      "text/html": [
       "<div>\n",
       "<style scoped>\n",
       "    .dataframe tbody tr th:only-of-type {\n",
       "        vertical-align: middle;\n",
       "    }\n",
       "\n",
       "    .dataframe tbody tr th {\n",
       "        vertical-align: top;\n",
       "    }\n",
       "\n",
       "    .dataframe thead th {\n",
       "        text-align: right;\n",
       "    }\n",
       "</style>\n",
       "<table border=\"1\" class=\"dataframe\">\n",
       "  <thead>\n",
       "    <tr style=\"text-align: right;\">\n",
       "      <th></th>\n",
       "      <th>PURCHASE_FLG</th>\n",
       "      <th>I_DATE</th>\n",
       "      <th>PAGE_SERIAL</th>\n",
       "      <th>REFERRER_hash</th>\n",
       "      <th>VIEW_COUPON_ID_hash</th>\n",
       "      <th>USER_ID_hash</th>\n",
       "      <th>SESSION_ID_hash</th>\n",
       "      <th>PURCHASEID_hash</th>\n",
       "      <th>I_YEAR</th>\n",
       "      <th>I_MONTH</th>\n",
       "      <th>I_WEEKDAY</th>\n",
       "      <th>I_HOUR</th>\n",
       "    </tr>\n",
       "  </thead>\n",
       "  <tbody>\n",
       "    <tr>\n",
       "      <th>2833175</th>\n",
       "      <td>0</td>\n",
       "      <td>2011-08-20 12:13:21</td>\n",
       "      <td>4</td>\n",
       "      <td>ae75a8764951d2454273df8348dac8f3</td>\n",
       "      <td>8d91be4a8b5b02cf7117cb2b8e2d5a16</td>\n",
       "      <td>280f0cedda5c4b171ee6245889659571</td>\n",
       "      <td>f3261882332ac0d622d74ba067deb026</td>\n",
       "      <td>NaN</td>\n",
       "      <td>2011</td>\n",
       "      <td>8</td>\n",
       "      <td>5</td>\n",
       "      <td>12</td>\n",
       "    </tr>\n",
       "    <tr>\n",
       "      <th>2833176</th>\n",
       "      <td>0</td>\n",
       "      <td>2011-08-20 12:19:05</td>\n",
       "      <td>7</td>\n",
       "      <td>48243ea50a35bb107fafd46a461b0b28</td>\n",
       "      <td>0fc7873f2a0bd451b97e97bd6b792ba9</td>\n",
       "      <td>280f0cedda5c4b171ee6245889659571</td>\n",
       "      <td>f3261882332ac0d622d74ba067deb026</td>\n",
       "      <td>NaN</td>\n",
       "      <td>2011</td>\n",
       "      <td>8</td>\n",
       "      <td>5</td>\n",
       "      <td>12</td>\n",
       "    </tr>\n",
       "    <tr>\n",
       "      <th>2833177</th>\n",
       "      <td>0</td>\n",
       "      <td>2011-07-12 08:48:09</td>\n",
       "      <td>5</td>\n",
       "      <td>7d3892e54acb559ae36c459978489330</td>\n",
       "      <td>5cf5b9e5d600314a40a9fbac846ac15e</td>\n",
       "      <td>280f0cedda5c4b171ee6245889659571</td>\n",
       "      <td>cb624517ccc8fd90120bcfeb73d83758</td>\n",
       "      <td>NaN</td>\n",
       "      <td>2011</td>\n",
       "      <td>7</td>\n",
       "      <td>1</td>\n",
       "      <td>8</td>\n",
       "    </tr>\n",
       "    <tr>\n",
       "      <th>2833178</th>\n",
       "      <td>0</td>\n",
       "      <td>2011-07-12 08:50:03</td>\n",
       "      <td>8</td>\n",
       "      <td>7d3892e54acb559ae36c459978489330</td>\n",
       "      <td>5cf5b9e5d600314a40a9fbac846ac15e</td>\n",
       "      <td>280f0cedda5c4b171ee6245889659571</td>\n",
       "      <td>cb624517ccc8fd90120bcfeb73d83758</td>\n",
       "      <td>NaN</td>\n",
       "      <td>2011</td>\n",
       "      <td>7</td>\n",
       "      <td>1</td>\n",
       "      <td>8</td>\n",
       "    </tr>\n",
       "    <tr>\n",
       "      <th>2833179</th>\n",
       "      <td>0</td>\n",
       "      <td>2011-07-18 07:03:37</td>\n",
       "      <td>4</td>\n",
       "      <td>7d3892e54acb559ae36c459978489330</td>\n",
       "      <td>4ef82e25c2740e4ab55affbe5a003f50</td>\n",
       "      <td>280f0cedda5c4b171ee6245889659571</td>\n",
       "      <td>2a34fb9a7ea95bc5483d43a7295e5ee0</td>\n",
       "      <td>NaN</td>\n",
       "      <td>2011</td>\n",
       "      <td>7</td>\n",
       "      <td>0</td>\n",
       "      <td>7</td>\n",
       "    </tr>\n",
       "  </tbody>\n",
       "</table>\n",
       "</div>"
      ],
      "text/plain": [
       "         PURCHASE_FLG              I_DATE  PAGE_SERIAL  \\\n",
       "2833175             0 2011-08-20 12:13:21            4   \n",
       "2833176             0 2011-08-20 12:19:05            7   \n",
       "2833177             0 2011-07-12 08:48:09            5   \n",
       "2833178             0 2011-07-12 08:50:03            8   \n",
       "2833179             0 2011-07-18 07:03:37            4   \n",
       "\n",
       "                            REFERRER_hash               VIEW_COUPON_ID_hash  \\\n",
       "2833175  ae75a8764951d2454273df8348dac8f3  8d91be4a8b5b02cf7117cb2b8e2d5a16   \n",
       "2833176  48243ea50a35bb107fafd46a461b0b28  0fc7873f2a0bd451b97e97bd6b792ba9   \n",
       "2833177  7d3892e54acb559ae36c459978489330  5cf5b9e5d600314a40a9fbac846ac15e   \n",
       "2833178  7d3892e54acb559ae36c459978489330  5cf5b9e5d600314a40a9fbac846ac15e   \n",
       "2833179  7d3892e54acb559ae36c459978489330  4ef82e25c2740e4ab55affbe5a003f50   \n",
       "\n",
       "                             USER_ID_hash                   SESSION_ID_hash  \\\n",
       "2833175  280f0cedda5c4b171ee6245889659571  f3261882332ac0d622d74ba067deb026   \n",
       "2833176  280f0cedda5c4b171ee6245889659571  f3261882332ac0d622d74ba067deb026   \n",
       "2833177  280f0cedda5c4b171ee6245889659571  cb624517ccc8fd90120bcfeb73d83758   \n",
       "2833178  280f0cedda5c4b171ee6245889659571  cb624517ccc8fd90120bcfeb73d83758   \n",
       "2833179  280f0cedda5c4b171ee6245889659571  2a34fb9a7ea95bc5483d43a7295e5ee0   \n",
       "\n",
       "        PURCHASEID_hash  I_YEAR  I_MONTH  I_WEEKDAY  I_HOUR  \n",
       "2833175             NaN    2011        8          5      12  \n",
       "2833176             NaN    2011        8          5      12  \n",
       "2833177             NaN    2011        7          1       8  \n",
       "2833178             NaN    2011        7          1       8  \n",
       "2833179             NaN    2011        7          0       7  "
      ]
     },
     "execution_count": 6,
     "metadata": {},
     "output_type": "execute_result"
    }
   ],
   "source": [
    "coupon_visit[\"I_DATE\"] = pd.to_datetime(coupon_visit[\"I_DATE\"]) # date_time으로 변환\n",
    "coupon_visit[\"I_YEAR\"] = coupon_visit[\"I_DATE\"].dt.year # 년\n",
    "coupon_visit[\"I_MONTH\"] = coupon_visit[\"I_DATE\"].dt.month # 월\n",
    "coupon_visit[\"I_WEEKDAY\"] = coupon_visit[\"I_DATE\"].dt.weekday # 일\n",
    "coupon_visit[\"I_HOUR\"] = coupon_visit[\"I_DATE\"].dt.hour # 시간\n",
    "coupon_visit.tail()"
   ]
  },
  {
   "cell_type": "code",
   "execution_count": 7,
   "metadata": {},
   "outputs": [
    {
     "data": {
      "image/png": "[encoded data removed]",
      "text/plain": [
       "<matplotlib.figure.Figure at 0x109ca8128>"
      ]
     },
     "metadata": {
      "image/png": {
       "height": 697,
       "width": 1190
      }
     },
     "output_type": "display_data"
    }
   ],
   "source": [
    "# countplot\n",
    "plt.figure(figsize=(20, 12))\n",
    "plt.subplots_adjust(hspace = 0.5, wspace = 0.3)\n",
    "\n",
    "for i in range(8, 11+1):\n",
    "    plt.subplot(2,2,i-7)\n",
    "    sns.countplot(x = coupon_visit.columns[i], data = coupon_visit)\n",
    "    \n",
    "plt.show()"
   ]
  },
  {
   "cell_type": "markdown",
   "metadata": {},
   "source": [
    "### 5. PAGE_SERIAL"
   ]
  },
  {
   "cell_type": "code",
   "execution_count": 8,
   "metadata": {},
   "outputs": [
    {
     "data": {
      "image/png": "[encoded data removed]",
      "text/plain": [
       "<matplotlib.figure.Figure at 0x111ee06d8>"
      ]
     },
     "metadata": {
      "image/png": {
       "height": 371,
       "width": 1130
      }
     },
     "output_type": "display_data"
    },
    {
     "name": "stdout",
     "output_type": "stream",
     "text": [
      "count    2.833180e+06\n",
      "mean     7.654980e+00\n",
      "std      1.215241e+01\n",
      "min      1.000000e+00\n",
      "25%      2.000000e+00\n",
      "50%      4.000000e+00\n",
      "75%      9.000000e+00\n",
      "max      1.368000e+03\n",
      "Name: PAGE_SERIAL, dtype: float64\n"
     ]
    }
   ],
   "source": [
    "# PAGE_SERIAL Boxplot\n",
    "plt.figure(figsize=(20, 6))\n",
    "plt.subplot(1,2,1)\n",
    "sns.boxplot(coupon_visit['PAGE_SERIAL'])\n",
    "\n",
    "plt.subplot(1,2,2)\n",
    "plt.hist(coupon_visit['PAGE_SERIAL'], bins = 8)\n",
    "\n",
    "plt.show()\n",
    "\n",
    "print(coupon_visit['PAGE_SERIAL'].describe())"
   ]
  },
  {
   "cell_type": "markdown",
   "metadata": {},
   "source": [
    "### 6. REFERRER_hash  "
   ]
  },
  {
   "cell_type": "code",
   "execution_count": 9,
   "metadata": {},
   "outputs": [
    {
     "data": {
      "text/html": [
       "<div>\n",
       "<style scoped>\n",
       "    .dataframe tbody tr th:only-of-type {\n",
       "        vertical-align: middle;\n",
       "    }\n",
       "\n",
       "    .dataframe tbody tr th {\n",
       "        vertical-align: top;\n",
       "    }\n",
       "\n",
       "    .dataframe thead th {\n",
       "        text-align: right;\n",
       "    }\n",
       "</style>\n",
       "<table border=\"1\" class=\"dataframe\">\n",
       "  <thead>\n",
       "    <tr style=\"text-align: right;\">\n",
       "      <th></th>\n",
       "      <th>REFERRER_hash</th>\n",
       "      <th>counts</th>\n",
       "    </tr>\n",
       "  </thead>\n",
       "  <tbody>\n",
       "    <tr>\n",
       "      <th>0</th>\n",
       "      <td>7d3892e54acb559ae36c459978489330</td>\n",
       "      <td>1261367</td>\n",
       "    </tr>\n",
       "    <tr>\n",
       "      <th>1</th>\n",
       "      <td>48243ea50a35bb107fafd46a461b0b28</td>\n",
       "      <td>165289</td>\n",
       "    </tr>\n",
       "    <tr>\n",
       "      <th>2</th>\n",
       "      <td>e9aa24dbfd84b5ba97ebd8c0f50e7949</td>\n",
       "      <td>115895</td>\n",
       "    </tr>\n",
       "    <tr>\n",
       "      <th>3</th>\n",
       "      <td>6c5616ced18d79fa5a97c5c8f3e65f8f</td>\n",
       "      <td>112544</td>\n",
       "    </tr>\n",
       "    <tr>\n",
       "      <th>4</th>\n",
       "      <td>1280d2e94c507864438af604104545e4</td>\n",
       "      <td>67473</td>\n",
       "    </tr>\n",
       "    <tr>\n",
       "      <th>5</th>\n",
       "      <td>ae75a8764951d2454273df8348dac8f3</td>\n",
       "      <td>40910</td>\n",
       "    </tr>\n",
       "    <tr>\n",
       "      <th>6</th>\n",
       "      <td>34b357076e88128c3c7c44db4ca46f6d</td>\n",
       "      <td>35968</td>\n",
       "    </tr>\n",
       "    <tr>\n",
       "      <th>7</th>\n",
       "      <td>433d6b23c26acffa5f274a207c8d32dd</td>\n",
       "      <td>33667</td>\n",
       "    </tr>\n",
       "    <tr>\n",
       "      <th>8</th>\n",
       "      <td>016e6957e926fedcca374f0239071091</td>\n",
       "      <td>25876</td>\n",
       "    </tr>\n",
       "    <tr>\n",
       "      <th>9</th>\n",
       "      <td>e22658af183aecda55018767625544d9</td>\n",
       "      <td>21055</td>\n",
       "    </tr>\n",
       "  </tbody>\n",
       "</table>\n",
       "</div>"
      ],
      "text/plain": [
       "                      REFERRER_hash   counts\n",
       "0  7d3892e54acb559ae36c459978489330  1261367\n",
       "1  48243ea50a35bb107fafd46a461b0b28   165289\n",
       "2  e9aa24dbfd84b5ba97ebd8c0f50e7949   115895\n",
       "3  6c5616ced18d79fa5a97c5c8f3e65f8f   112544\n",
       "4  1280d2e94c507864438af604104545e4    67473\n",
       "5  ae75a8764951d2454273df8348dac8f3    40910\n",
       "6  34b357076e88128c3c7c44db4ca46f6d    35968\n",
       "7  433d6b23c26acffa5f274a207c8d32dd    33667\n",
       "8  016e6957e926fedcca374f0239071091    25876\n",
       "9  e22658af183aecda55018767625544d9    21055"
      ]
     },
     "execution_count": 9,
     "metadata": {},
     "output_type": "execute_result"
    }
   ],
   "source": [
    "REFERRER_hash = coupon_visit.groupby(\"REFERRER_hash\").size().reset_index(name='counts')\n",
    "REFERRER_hash = REFERRER_hash.sort_values(by=['counts'], ascending=False)\n",
    "REFERRER_hash = REFERRER_hash.reset_index(drop=True)\n",
    "REFERRER_hash.head(10)"
   ]
  },
  {
   "cell_type": "markdown",
   "metadata": {},
   "source": [
    "### 7. VIEW_COUPON_ID_hash"
   ]
  },
  {
   "cell_type": "code",
   "execution_count": 10,
   "metadata": {
    "scrolled": true
   },
   "outputs": [
    {
     "data": {
      "text/html": [
       "<div>\n",
       "<style scoped>\n",
       "    .dataframe tbody tr th:only-of-type {\n",
       "        vertical-align: middle;\n",
       "    }\n",
       "\n",
       "    .dataframe tbody tr th {\n",
       "        vertical-align: top;\n",
       "    }\n",
       "\n",
       "    .dataframe thead th {\n",
       "        text-align: right;\n",
       "    }\n",
       "</style>\n",
       "<table border=\"1\" class=\"dataframe\">\n",
       "  <thead>\n",
       "    <tr style=\"text-align: right;\">\n",
       "      <th></th>\n",
       "      <th>VIEW_COUPON_ID_hash</th>\n",
       "      <th>counts</th>\n",
       "    </tr>\n",
       "  </thead>\n",
       "  <tbody>\n",
       "    <tr>\n",
       "      <th>0</th>\n",
       "      <td>a262c7ff56a5cd3de3c5c40443f3018c</td>\n",
       "      <td>14779</td>\n",
       "    </tr>\n",
       "    <tr>\n",
       "      <th>1</th>\n",
       "      <td>d0e1b63cb7cc32edc3a6c619e4215368</td>\n",
       "      <td>3368</td>\n",
       "    </tr>\n",
       "    <tr>\n",
       "      <th>2</th>\n",
       "      <td>3d9029d3ec66802b11ee2645dc16e8cb</td>\n",
       "      <td>3126</td>\n",
       "    </tr>\n",
       "    <tr>\n",
       "      <th>3</th>\n",
       "      <td>39c215bfdebc9c2e945d4f63cb25a58d</td>\n",
       "      <td>2751</td>\n",
       "    </tr>\n",
       "    <tr>\n",
       "      <th>4</th>\n",
       "      <td>09411858ae07c0be91aeeddacf4556b4</td>\n",
       "      <td>2645</td>\n",
       "    </tr>\n",
       "    <tr>\n",
       "      <th>5</th>\n",
       "      <td>229ff5cc21c8d26615493be7f3b42841</td>\n",
       "      <td>2626</td>\n",
       "    </tr>\n",
       "    <tr>\n",
       "      <th>6</th>\n",
       "      <td>4a79cd05ecb2bf8672e1d955f5faa7fa</td>\n",
       "      <td>2624</td>\n",
       "    </tr>\n",
       "    <tr>\n",
       "      <th>7</th>\n",
       "      <td>3fcfe22490030c9497ce1bfd3f5570eb</td>\n",
       "      <td>2615</td>\n",
       "    </tr>\n",
       "    <tr>\n",
       "      <th>8</th>\n",
       "      <td>909303b9db946c7a744083d054ad08ed</td>\n",
       "      <td>2417</td>\n",
       "    </tr>\n",
       "    <tr>\n",
       "      <th>9</th>\n",
       "      <td>fccfc9d19e93e1712855bfdaf47b0b73</td>\n",
       "      <td>2379</td>\n",
       "    </tr>\n",
       "  </tbody>\n",
       "</table>\n",
       "</div>"
      ],
      "text/plain": [
       "                VIEW_COUPON_ID_hash  counts\n",
       "0  a262c7ff56a5cd3de3c5c40443f3018c   14779\n",
       "1  d0e1b63cb7cc32edc3a6c619e4215368    3368\n",
       "2  3d9029d3ec66802b11ee2645dc16e8cb    3126\n",
       "3  39c215bfdebc9c2e945d4f63cb25a58d    2751\n",
       "4  09411858ae07c0be91aeeddacf4556b4    2645\n",
       "5  229ff5cc21c8d26615493be7f3b42841    2626\n",
       "6  4a79cd05ecb2bf8672e1d955f5faa7fa    2624\n",
       "7  3fcfe22490030c9497ce1bfd3f5570eb    2615\n",
       "8  909303b9db946c7a744083d054ad08ed    2417\n",
       "9  fccfc9d19e93e1712855bfdaf47b0b73    2379"
      ]
     },
     "execution_count": 10,
     "metadata": {},
     "output_type": "execute_result"
    }
   ],
   "source": [
    "VIEW_COUPON_ID = coupon_visit.groupby(\"VIEW_COUPON_ID_hash\").size().reset_index(name='counts')\n",
    "VIEW_COUPON_ID = VIEW_COUPON_ID.sort_values(by=['counts'], ascending=False)\n",
    "VIEW_COUPON_ID = VIEW_COUPON_ID.reset_index(drop=True)\n",
    "VIEW_COUPON_ID.head(10)"
   ]
  },
  {
   "cell_type": "markdown",
   "metadata": {},
   "source": [
    "### 8. USER_ID_hash"
   ]
  },
  {
   "cell_type": "code",
   "execution_count": 11,
   "metadata": {
    "scrolled": true
   },
   "outputs": [
    {
     "data": {
      "text/html": [
       "<div>\n",
       "<style scoped>\n",
       "    .dataframe tbody tr th:only-of-type {\n",
       "        vertical-align: middle;\n",
       "    }\n",
       "\n",
       "    .dataframe tbody tr th {\n",
       "        vertical-align: top;\n",
       "    }\n",
       "\n",
       "    .dataframe thead th {\n",
       "        text-align: right;\n",
       "    }\n",
       "</style>\n",
       "<table border=\"1\" class=\"dataframe\">\n",
       "  <thead>\n",
       "    <tr style=\"text-align: right;\">\n",
       "      <th></th>\n",
       "      <th>USER_ID_hash</th>\n",
       "      <th>counts</th>\n",
       "    </tr>\n",
       "  </thead>\n",
       "  <tbody>\n",
       "    <tr>\n",
       "      <th>0</th>\n",
       "      <td>322a3a65e6683b6881eeb0b1a889e3f4</td>\n",
       "      <td>3629</td>\n",
       "    </tr>\n",
       "    <tr>\n",
       "      <th>1</th>\n",
       "      <td>070a8c47e1ced81abe33aec7fe371f96</td>\n",
       "      <td>3437</td>\n",
       "    </tr>\n",
       "    <tr>\n",
       "      <th>2</th>\n",
       "      <td>9ec57756932f97bb57a02c4ad864ad3e</td>\n",
       "      <td>2968</td>\n",
       "    </tr>\n",
       "    <tr>\n",
       "      <th>3</th>\n",
       "      <td>9e8986dddf308bb2a8873e5084fbf355</td>\n",
       "      <td>2756</td>\n",
       "    </tr>\n",
       "    <tr>\n",
       "      <th>4</th>\n",
       "      <td>8b4acd809e6714ac4ad267d0d2dd86c6</td>\n",
       "      <td>2749</td>\n",
       "    </tr>\n",
       "    <tr>\n",
       "      <th>5</th>\n",
       "      <td>16c2d6f1c98ee2095abedac8b70d1df5</td>\n",
       "      <td>2739</td>\n",
       "    </tr>\n",
       "    <tr>\n",
       "      <th>6</th>\n",
       "      <td>faa6af52e6bb405fe0ad957612f51795</td>\n",
       "      <td>2724</td>\n",
       "    </tr>\n",
       "    <tr>\n",
       "      <th>7</th>\n",
       "      <td>de8217c46dc7d49c79251b2ac09f55e6</td>\n",
       "      <td>2677</td>\n",
       "    </tr>\n",
       "    <tr>\n",
       "      <th>8</th>\n",
       "      <td>0f20decaff5a127ad70005c5ba568279</td>\n",
       "      <td>2555</td>\n",
       "    </tr>\n",
       "    <tr>\n",
       "      <th>9</th>\n",
       "      <td>454d9cb39fb914f29630103b4eea7ba5</td>\n",
       "      <td>2519</td>\n",
       "    </tr>\n",
       "  </tbody>\n",
       "</table>\n",
       "</div>"
      ],
      "text/plain": [
       "                       USER_ID_hash  counts\n",
       "0  322a3a65e6683b6881eeb0b1a889e3f4    3629\n",
       "1  070a8c47e1ced81abe33aec7fe371f96    3437\n",
       "2  9ec57756932f97bb57a02c4ad864ad3e    2968\n",
       "3  9e8986dddf308bb2a8873e5084fbf355    2756\n",
       "4  8b4acd809e6714ac4ad267d0d2dd86c6    2749\n",
       "5  16c2d6f1c98ee2095abedac8b70d1df5    2739\n",
       "6  faa6af52e6bb405fe0ad957612f51795    2724\n",
       "7  de8217c46dc7d49c79251b2ac09f55e6    2677\n",
       "8  0f20decaff5a127ad70005c5ba568279    2555\n",
       "9  454d9cb39fb914f29630103b4eea7ba5    2519"
      ]
     },
     "execution_count": 11,
     "metadata": {},
     "output_type": "execute_result"
    }
   ],
   "source": [
    "USER_ID = coupon_visit.groupby(\"USER_ID_hash\").size().reset_index(name='counts')\n",
    "USER_ID = USER_ID.sort_values(by=['counts'], ascending=False)\n",
    "USER_ID = USER_ID.reset_index(drop=True)\n",
    "USER_ID.head(10)"
   ]
  },
  {
   "cell_type": "markdown",
   "metadata": {},
   "source": [
    "### 9. SESSION_ID_hash"
   ]
  },
  {
   "cell_type": "code",
   "execution_count": 12,
   "metadata": {
    "scrolled": false
   },
   "outputs": [
    {
     "data": {
      "text/html": [
       "<div>\n",
       "<style scoped>\n",
       "    .dataframe tbody tr th:only-of-type {\n",
       "        vertical-align: middle;\n",
       "    }\n",
       "\n",
       "    .dataframe tbody tr th {\n",
       "        vertical-align: top;\n",
       "    }\n",
       "\n",
       "    .dataframe thead th {\n",
       "        text-align: right;\n",
       "    }\n",
       "</style>\n",
       "<table border=\"1\" class=\"dataframe\">\n",
       "  <thead>\n",
       "    <tr style=\"text-align: right;\">\n",
       "      <th></th>\n",
       "      <th>SESSION_ID_hash</th>\n",
       "      <th>counts</th>\n",
       "    </tr>\n",
       "  </thead>\n",
       "  <tbody>\n",
       "    <tr>\n",
       "      <th>0</th>\n",
       "      <td>9773201fcac000edd128bfaec1c833d4</td>\n",
       "      <td>159</td>\n",
       "    </tr>\n",
       "    <tr>\n",
       "      <th>1</th>\n",
       "      <td>5bacfe0725372fbeb4d94c65f45356d1</td>\n",
       "      <td>150</td>\n",
       "    </tr>\n",
       "    <tr>\n",
       "      <th>2</th>\n",
       "      <td>b084c2bdc5ef9da44b0cda042897b643</td>\n",
       "      <td>133</td>\n",
       "    </tr>\n",
       "    <tr>\n",
       "      <th>3</th>\n",
       "      <td>60ade1a155e57c0035456cfff0b0bb98</td>\n",
       "      <td>122</td>\n",
       "    </tr>\n",
       "    <tr>\n",
       "      <th>4</th>\n",
       "      <td>dda2332a3c3970ad4c4c1e2a0dea631e</td>\n",
       "      <td>101</td>\n",
       "    </tr>\n",
       "    <tr>\n",
       "      <th>5</th>\n",
       "      <td>acdffce59ee4249b771f70ef6c4441c3</td>\n",
       "      <td>100</td>\n",
       "    </tr>\n",
       "    <tr>\n",
       "      <th>6</th>\n",
       "      <td>bfc3ccdbb489f360d4fcb675cee4e569</td>\n",
       "      <td>97</td>\n",
       "    </tr>\n",
       "    <tr>\n",
       "      <th>7</th>\n",
       "      <td>af1c84230a50e70cde6e2e4ae79e694d</td>\n",
       "      <td>96</td>\n",
       "    </tr>\n",
       "    <tr>\n",
       "      <th>8</th>\n",
       "      <td>6bfdc9dbfcedb41378fbee0475b4d102</td>\n",
       "      <td>93</td>\n",
       "    </tr>\n",
       "    <tr>\n",
       "      <th>9</th>\n",
       "      <td>21b56cffd7531f38ff06f17222425f1e</td>\n",
       "      <td>90</td>\n",
       "    </tr>\n",
       "  </tbody>\n",
       "</table>\n",
       "</div>"
      ],
      "text/plain": [
       "                    SESSION_ID_hash  counts\n",
       "0  9773201fcac000edd128bfaec1c833d4     159\n",
       "1  5bacfe0725372fbeb4d94c65f45356d1     150\n",
       "2  b084c2bdc5ef9da44b0cda042897b643     133\n",
       "3  60ade1a155e57c0035456cfff0b0bb98     122\n",
       "4  dda2332a3c3970ad4c4c1e2a0dea631e     101\n",
       "5  acdffce59ee4249b771f70ef6c4441c3     100\n",
       "6  bfc3ccdbb489f360d4fcb675cee4e569      97\n",
       "7  af1c84230a50e70cde6e2e4ae79e694d      96\n",
       "8  6bfdc9dbfcedb41378fbee0475b4d102      93\n",
       "9  21b56cffd7531f38ff06f17222425f1e      90"
      ]
     },
     "execution_count": 12,
     "metadata": {},
     "output_type": "execute_result"
    }
   ],
   "source": [
    "SESSION_ID = coupon_visit.groupby(\"SESSION_ID_hash\").size().reset_index(name='counts')\n",
    "SESSION_ID = SESSION_ID.sort_values(by=['counts'], ascending=False)\n",
    "SESSION_ID = SESSION_ID.reset_index(drop=True)\n",
    "SESSION_ID.head(10)"
   ]
  },
  {
   "cell_type": "markdown",
   "metadata": {},
   "source": [
    "### 10. PURCHASEID_hash"
   ]
  },
  {
   "cell_type": "code",
   "execution_count": 13,
   "metadata": {
    "scrolled": false
   },
   "outputs": [
    {
     "data": {
      "text/html": [
       "<div>\n",
       "<style scoped>\n",
       "    .dataframe tbody tr th:only-of-type {\n",
       "        vertical-align: middle;\n",
       "    }\n",
       "\n",
       "    .dataframe tbody tr th {\n",
       "        vertical-align: top;\n",
       "    }\n",
       "\n",
       "    .dataframe thead th {\n",
       "        text-align: right;\n",
       "    }\n",
       "</style>\n",
       "<table border=\"1\" class=\"dataframe\">\n",
       "  <thead>\n",
       "    <tr style=\"text-align: right;\">\n",
       "      <th></th>\n",
       "      <th>PURCHASEID_hash</th>\n",
       "      <th>counts</th>\n",
       "    </tr>\n",
       "  </thead>\n",
       "  <tbody>\n",
       "    <tr>\n",
       "      <th>0</th>\n",
       "      <td>bcf543f8ec0aa8586cf6d4ab2bd8848d</td>\n",
       "      <td>29</td>\n",
       "    </tr>\n",
       "    <tr>\n",
       "      <th>1</th>\n",
       "      <td>32641c6b9c2b495a1a9414e90bcf797c</td>\n",
       "      <td>14</td>\n",
       "    </tr>\n",
       "    <tr>\n",
       "      <th>2</th>\n",
       "      <td>87123900790edccab3c49e530e77ab90</td>\n",
       "      <td>13</td>\n",
       "    </tr>\n",
       "    <tr>\n",
       "      <th>3</th>\n",
       "      <td>54a072fad25f018d101e78bc93941594</td>\n",
       "      <td>8</td>\n",
       "    </tr>\n",
       "    <tr>\n",
       "      <th>4</th>\n",
       "      <td>bf00a6b5662f2a95b085069e6eac6e26</td>\n",
       "      <td>8</td>\n",
       "    </tr>\n",
       "    <tr>\n",
       "      <th>5</th>\n",
       "      <td>ad2256feb862a31d3eac1d952230c8e8</td>\n",
       "      <td>8</td>\n",
       "    </tr>\n",
       "    <tr>\n",
       "      <th>6</th>\n",
       "      <td>02734ec5bf0756e0f2d3bcbda810796c</td>\n",
       "      <td>8</td>\n",
       "    </tr>\n",
       "    <tr>\n",
       "      <th>7</th>\n",
       "      <td>660e67e359b5639a3c09ab6c9540ebb6</td>\n",
       "      <td>7</td>\n",
       "    </tr>\n",
       "    <tr>\n",
       "      <th>8</th>\n",
       "      <td>9631ce2c4d5d9445c2d7036090957802</td>\n",
       "      <td>6</td>\n",
       "    </tr>\n",
       "    <tr>\n",
       "      <th>9</th>\n",
       "      <td>ea18980a47dd922ee811ba59f321bbe0</td>\n",
       "      <td>6</td>\n",
       "    </tr>\n",
       "  </tbody>\n",
       "</table>\n",
       "</div>"
      ],
      "text/plain": [
       "                    PURCHASEID_hash  counts\n",
       "0  bcf543f8ec0aa8586cf6d4ab2bd8848d      29\n",
       "1  32641c6b9c2b495a1a9414e90bcf797c      14\n",
       "2  87123900790edccab3c49e530e77ab90      13\n",
       "3  54a072fad25f018d101e78bc93941594       8\n",
       "4  bf00a6b5662f2a95b085069e6eac6e26       8\n",
       "5  ad2256feb862a31d3eac1d952230c8e8       8\n",
       "6  02734ec5bf0756e0f2d3bcbda810796c       8\n",
       "7  660e67e359b5639a3c09ab6c9540ebb6       7\n",
       "8  9631ce2c4d5d9445c2d7036090957802       6\n",
       "9  ea18980a47dd922ee811ba59f321bbe0       6"
      ]
     },
     "execution_count": 13,
     "metadata": {},
     "output_type": "execute_result"
    }
   ],
   "source": [
    "PURCHASEID_hash= coupon_visit.groupby(\"PURCHASEID_hash\").size().reset_index(name='counts')\n",
    "PURCHASEID_hash = PURCHASEID_hash.sort_values(by=['counts'], ascending=False)\n",
    "PURCHASEID_hash = PURCHASEID_hash.reset_index(drop=True)\n",
    "PURCHASEID_hash.head(10)"
   ]
  }
 ],
 "metadata": {
  "kernelspec": {
   "display_name": "Python 3",
   "language": "python",
   "name": "python3"
  },
  "language_info": {
   "codemirror_mode": {
    "name": "ipython",
    "version": 3
   },
   "file_extension": ".py",
   "mimetype": "text/x-python",
   "name": "python",
   "nbconvert_exporter": "python",
   "pygments_lexer": "ipython3",
   "version": "3.6.4"
  }
 },
 "nbformat": 4,
 "nbformat_minor": 2
}
