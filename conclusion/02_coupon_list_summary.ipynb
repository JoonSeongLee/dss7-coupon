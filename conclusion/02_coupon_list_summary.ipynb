{
 "cells": [
  {
   "cell_type": "markdown",
   "metadata": {},
   "source": [
    "# 자세한 그래프는 02_coupon_list_ref 참고"
   ]
  },
  {
   "cell_type": "markdown",
   "metadata": {},
   "source": [
    "## 카테고리, 가격관련"
   ]
  },
  {
   "cell_type": "markdown",
   "metadata": {},
   "source": [
    "#### 1. CAPSULE_TEXT vs GENRE_NAME\n",
    "#### = 쿠폰종류에 대해 CAPSULE은 세세히, GENRE는 개략적으로 분류\n",
    "#### 2. Delivery, Food 쿠폰이 전체 쿠폰의 약 절반을 차지함\n",
    "#### 3. 세일은 50%, 원가는 5000엔, 할인가는 2000엔이 제일 많다\n",
    "#### 4. 할인이 안된 쿠폰은 23개밖에 안됨"
   ]
  },
  {
   "cell_type": "markdown",
   "metadata": {},
   "source": [
    "-----------"
   ]
  },
  {
   "cell_type": "markdown",
   "metadata": {},
   "source": [
    "## DISP, VALID 관련"
   ]
  },
  {
   "cell_type": "markdown",
   "metadata": {},
   "source": [
    "#### 5. 쿠폰은 2012년보다 2011년에 많이 Sales함\n",
    "#### 6. 2~4일(DISPPERIOD)동안 Sales한 쿠폰이 전체의 80%를 차지\n",
    "#### 7. 대부분의 쿠폰 유효기간(VALIDPERIOD)이 2012년에 끝남\n",
    "#### 8. 유효기간(VALIDPERIOD)은 1일~180일까지 존재하는데 그 중 89, 178, 179일인 쿠폰이 전체의 20%를 차지\n",
    "#### 9. 전체쿠폰은 Delivery, Food가 50%지만 얘네는 Food가 66%\n",
    "#### 10. 유효기간이 78, 178, 179일을 제외한 쿠폰은 전체의 80%를 차지\n",
    "#### 11. 얘네는 비교적 전체의 경향을 잘 반영한다"
   ]
  },
  {
   "cell_type": "markdown",
   "metadata": {},
   "source": [
    "--------------------------"
   ]
  },
  {
   "cell_type": "markdown",
   "metadata": {},
   "source": [
    "## USABLE_DATE 관련"
   ]
  },
  {
   "cell_type": "markdown",
   "metadata": {},
   "source": [
    "#### 12. 휴일이나 주말에 사용가능(USABLE)한 쿠폰이 많을 줄 알았는데 오히려 주중이 많다\n",
    "#### 13. 전체 중 각 요일에 USABLE한 쿠폰 비율이 월화수목 순으로 오르다 목요일에 피크를 찍고 그 이후로 하락세\n",
    "#### 14. 쿠폰을 쓰려면 직원이 일을 해야 하는데 휴일이나 주말엔 직원들이 일을 안해서 그럴 것이다"
   ]
  },
  {
   "cell_type": "markdown",
   "metadata": {},
   "source": [
    "-----------------------"
   ]
  },
  {
   "cell_type": "markdown",
   "metadata": {},
   "source": [
    "## area 관련"
   ]
  },
  {
   "cell_type": "markdown",
   "metadata": {},
   "source": [
    "#### 15. 쿠폰의 상점지역이 아래와 같은 3가지 기준으로 기록되있다.\n",
    "#### large_area(대), ken_name(중,prefecture), small_area(소)인 듯\n",
    "#### 16. 전체 쿠폰의 각 지역별 비율을 알기 위해 large_area만 고려하기로 했다.\n",
    "#### 17. large_area는 총 9개의 지역으로 구분된다.\n",
    "##### 'Kanto', 'Kansai', 'East Sea', 'Hokkaido', 'Kyushu-Okinawa', 'Northeast', 'Shikoku', 'China', 'Hokushinetsu'\n",
    "#### 18. 이 중 Kanto, Kansai가 전체 쿠폰의 70% 정도를 차지함\n",
    "#### 19. Kanto에 속하는 prefecture\n",
    "#### = Saitama, Chiba, Gunma, Tochigi, Ibaraki, Tokyo, Kanagawa\n",
    "\n",
    "#### 20. Kansai에 속하는 prefecture\n",
    "#### = Mie, Nara, Wakayama, Kyoto, Osaka, Hyōgo, Shiga, Tokushima, Tottori, Fukui"
   ]
  },
  {
   "cell_type": "markdown",
   "metadata": {},
   "source": [
    "-------------------------"
   ]
  },
  {
   "cell_type": "markdown",
   "metadata": {},
   "source": [
    "# Kanto"
   ]
  },
  {
   "cell_type": "markdown",
   "metadata": {},
   "source": [
    "<img src=\"img/kanto.PNG\">"
   ]
  },
  {
   "cell_type": "markdown",
   "metadata": {},
   "source": [
    "# Kansai"
   ]
  },
  {
   "cell_type": "markdown",
   "metadata": {},
   "source": [
    "<img src=\"img/kansai.png\">"
   ]
  },
  {
   "cell_type": "code",
   "execution_count": null,
   "metadata": {},
   "outputs": [],
   "source": []
  }
 ],
 "metadata": {
  "kernelspec": {
   "display_name": "Python 3",
   "language": "python",
   "name": "python3"
  },
  "language_info": {
   "codemirror_mode": {
    "name": "ipython",
    "version": 3
   },
   "file_extension": ".py",
   "mimetype": "text/x-python",
   "name": "python",
   "nbconvert_exporter": "python",
   "pygments_lexer": "ipython3",
   "version": "3.6.4"
  }
 },
 "nbformat": 4,
 "nbformat_minor": 2
}
