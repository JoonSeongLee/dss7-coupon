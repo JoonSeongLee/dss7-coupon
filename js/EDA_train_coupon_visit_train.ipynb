{
 "cells": [
  {
   "cell_type": "markdown",
   "metadata": {},
   "source": [
    "# coupon_visit_train.csv - 트레인 세트 기간 동안 쿠폰을 탐색하는 사용자입니다. \n",
    "### 테스트 세트 기간 동안이 테이블을 제공하지 않았습니다.\n",
    "``` \t \t \n",
    "PURCHASE_FLG : 구매표시 여부 (0,1) \n",
    "I_DATE : 탐색 일\n",
    "PAGE_SERIAL : 페이지(?)\n",
    "REFERRER_hash : \n",
    "VIEW_COUPON_ID_hash : 찾아본 쿠폰 ID\n",
    "USER_ID_hash : 유저 아이디\n",
    "SESSION_ID_hash\n",
    "PURCHASEID_hash : 구매자 ID\n",
    "```"
   ]
  },
  {
   "cell_type": "code",
   "execution_count": 1,
   "metadata": {},
   "outputs": [
    {
     "data": {
      "text/html": [
       "<div>\n",
       "<style scoped>\n",
       "    .dataframe tbody tr th:only-of-type {\n",
       "        vertical-align: middle;\n",
       "    }\n",
       "\n",
       "    .dataframe tbody tr th {\n",
       "        vertical-align: top;\n",
       "    }\n",
       "\n",
       "    .dataframe thead th {\n",
       "        text-align: right;\n",
       "    }\n",
       "</style>\n",
       "<table border=\"1\" class=\"dataframe\">\n",
       "  <thead>\n",
       "    <tr style=\"text-align: right;\">\n",
       "      <th></th>\n",
       "      <th>PURCHASE_FLG</th>\n",
       "      <th>I_DATE</th>\n",
       "      <th>PAGE_SERIAL</th>\n",
       "      <th>REFERRER_hash</th>\n",
       "      <th>VIEW_COUPON_ID_hash</th>\n",
       "      <th>USER_ID_hash</th>\n",
       "      <th>SESSION_ID_hash</th>\n",
       "      <th>PURCHASEID_hash</th>\n",
       "    </tr>\n",
       "  </thead>\n",
       "  <tbody>\n",
       "    <tr>\n",
       "      <th>2833175</th>\n",
       "      <td>0</td>\n",
       "      <td>2011-08-20 12:13:21</td>\n",
       "      <td>4</td>\n",
       "      <td>ae75a8764951d2454273df8348dac8f3</td>\n",
       "      <td>8d91be4a8b5b02cf7117cb2b8e2d5a16</td>\n",
       "      <td>280f0cedda5c4b171ee6245889659571</td>\n",
       "      <td>f3261882332ac0d622d74ba067deb026</td>\n",
       "      <td>NaN</td>\n",
       "    </tr>\n",
       "    <tr>\n",
       "      <th>2833176</th>\n",
       "      <td>0</td>\n",
       "      <td>2011-08-20 12:19:05</td>\n",
       "      <td>7</td>\n",
       "      <td>48243ea50a35bb107fafd46a461b0b28</td>\n",
       "      <td>0fc7873f2a0bd451b97e97bd6b792ba9</td>\n",
       "      <td>280f0cedda5c4b171ee6245889659571</td>\n",
       "      <td>f3261882332ac0d622d74ba067deb026</td>\n",
       "      <td>NaN</td>\n",
       "    </tr>\n",
       "    <tr>\n",
       "      <th>2833177</th>\n",
       "      <td>0</td>\n",
       "      <td>2011-07-12 08:48:09</td>\n",
       "      <td>5</td>\n",
       "      <td>7d3892e54acb559ae36c459978489330</td>\n",
       "      <td>5cf5b9e5d600314a40a9fbac846ac15e</td>\n",
       "      <td>280f0cedda5c4b171ee6245889659571</td>\n",
       "      <td>cb624517ccc8fd90120bcfeb73d83758</td>\n",
       "      <td>NaN</td>\n",
       "    </tr>\n",
       "    <tr>\n",
       "      <th>2833178</th>\n",
       "      <td>0</td>\n",
       "      <td>2011-07-12 08:50:03</td>\n",
       "      <td>8</td>\n",
       "      <td>7d3892e54acb559ae36c459978489330</td>\n",
       "      <td>5cf5b9e5d600314a40a9fbac846ac15e</td>\n",
       "      <td>280f0cedda5c4b171ee6245889659571</td>\n",
       "      <td>cb624517ccc8fd90120bcfeb73d83758</td>\n",
       "      <td>NaN</td>\n",
       "    </tr>\n",
       "    <tr>\n",
       "      <th>2833179</th>\n",
       "      <td>0</td>\n",
       "      <td>2011-07-18 07:03:37</td>\n",
       "      <td>4</td>\n",
       "      <td>7d3892e54acb559ae36c459978489330</td>\n",
       "      <td>4ef82e25c2740e4ab55affbe5a003f50</td>\n",
       "      <td>280f0cedda5c4b171ee6245889659571</td>\n",
       "      <td>2a34fb9a7ea95bc5483d43a7295e5ee0</td>\n",
       "      <td>NaN</td>\n",
       "    </tr>\n",
       "  </tbody>\n",
       "</table>\n",
       "</div>"
      ],
      "text/plain": [
       "         PURCHASE_FLG               I_DATE  PAGE_SERIAL  \\\n",
       "2833175             0  2011-08-20 12:13:21            4   \n",
       "2833176             0  2011-08-20 12:19:05            7   \n",
       "2833177             0  2011-07-12 08:48:09            5   \n",
       "2833178             0  2011-07-12 08:50:03            8   \n",
       "2833179             0  2011-07-18 07:03:37            4   \n",
       "\n",
       "                            REFERRER_hash               VIEW_COUPON_ID_hash  \\\n",
       "2833175  ae75a8764951d2454273df8348dac8f3  8d91be4a8b5b02cf7117cb2b8e2d5a16   \n",
       "2833176  48243ea50a35bb107fafd46a461b0b28  0fc7873f2a0bd451b97e97bd6b792ba9   \n",
       "2833177  7d3892e54acb559ae36c459978489330  5cf5b9e5d600314a40a9fbac846ac15e   \n",
       "2833178  7d3892e54acb559ae36c459978489330  5cf5b9e5d600314a40a9fbac846ac15e   \n",
       "2833179  7d3892e54acb559ae36c459978489330  4ef82e25c2740e4ab55affbe5a003f50   \n",
       "\n",
       "                             USER_ID_hash                   SESSION_ID_hash  \\\n",
       "2833175  280f0cedda5c4b171ee6245889659571  f3261882332ac0d622d74ba067deb026   \n",
       "2833176  280f0cedda5c4b171ee6245889659571  f3261882332ac0d622d74ba067deb026   \n",
       "2833177  280f0cedda5c4b171ee6245889659571  cb624517ccc8fd90120bcfeb73d83758   \n",
       "2833178  280f0cedda5c4b171ee6245889659571  cb624517ccc8fd90120bcfeb73d83758   \n",
       "2833179  280f0cedda5c4b171ee6245889659571  2a34fb9a7ea95bc5483d43a7295e5ee0   \n",
       "\n",
       "        PURCHASEID_hash  \n",
       "2833175             NaN  \n",
       "2833176             NaN  \n",
       "2833177             NaN  \n",
       "2833178             NaN  \n",
       "2833179             NaN  "
      ]
     },
     "execution_count": 1,
     "metadata": {},
     "output_type": "execute_result"
    }
   ],
   "source": [
    "pd.set_option('display.max_columns', None)\n",
    "df_train_coupon_visit_train = pd.read_csv('../data/coupon_visit_train.csv')\n",
    "df_train_coupon_visit_train.tail()"
   ]
  },
  {
   "cell_type": "code",
   "execution_count": 2,
   "metadata": {},
   "outputs": [
    {
     "name": "stdout",
     "output_type": "stream",
     "text": [
      "SESSION_ID_hash : 1046179\n",
      "PURCHASEID_hash : 114774\n",
      "USER_ID_hash : 22805\n",
      "VIEW_COUPON_ID_hash : 32628\n",
      "REFERRER_hash : 97319\n",
      "PAGE_SERIAL : 466\n"
     ]
    }
   ],
   "source": [
    "print('SESSION_ID_hash' ,':', len(df_train_coupon_visit_train.groupby('SESSION_ID_hash').count()))\n",
    "print('PURCHASEID_hash' ,':', len(df_train_coupon_visit_train.groupby('PURCHASEID_hash').count()))\n",
    "print('USER_ID_hash' ,':', len(df_train_coupon_visit_train.groupby('USER_ID_hash').count()))\n",
    "print('VIEW_COUPON_ID_hash' ,':', len(df_train_coupon_visit_train.groupby('VIEW_COUPON_ID_hash').count()))\n",
    "print('REFERRER_hash' ,':', len(df_train_coupon_visit_train.groupby('REFERRER_hash').count()))\n",
    "print('PAGE_SERIAL' ,':', len(df_train_coupon_visit_train.groupby('PAGE_SERIAL').count()))\n"
   ]
  },
  {
   "cell_type": "code",
   "execution_count": 5,
   "metadata": {},
   "outputs": [
    {
     "data": {
      "text/plain": [
       "<matplotlib.figure.Figure at 0x10e8ea438>"
      ]
     },
     "metadata": {},
     "output_type": "display_data"
    }
   ],
   "source": [
    "% matplotlib inline\n",
    "import matplotlib\n",
    "## matplotlib 한글사용\n",
    "from matplotlib import rc\n",
    "rc('font', family='AppleGothic')\n",
    "mpl.rcParams['axes.unicode_minus'] = False\n",
    "plt.figure(figsize=(17,6))\n",
    "def show_bar(df,col_name):\n",
    "    plt.figure(figsize=(20,6))\n",
    "    df2 = pd.DataFrame(df[col_name])\n",
    "    counts = df2.groupby([col_name]).size().reset_index(name='Counts')\n",
    "    print(counts)\n",
    "    y = counts['Counts']\n",
    "    x = counts[col_name]\n",
    "    plt.bar(x, y)\n",
    "    plt.show()\n",
    "col_name = ['PURCHASE_FLG']"
   ]
  },
  {
   "cell_type": "code",
   "execution_count": 6,
   "metadata": {},
   "outputs": [
    {
     "name": "stdout",
     "output_type": "stream",
     "text": [
      "   PURCHASE_FLG   Counts\n",
      "0             0  2710791\n",
      "1             1   122389\n"
     ]
    },
    {
     "data": {
      "image/png": "[encoded data removed]",
      "text/plain": [
       "<matplotlib.figure.Figure at 0x10e69eb70>"
      ]
     },
     "metadata": {},
     "output_type": "display_data"
    }
   ],
   "source": [
    "for col in col_name:\n",
    "    show_bar(df_train_coupon_visit_train, col)"
   ]
  },
  {
   "cell_type": "code",
   "execution_count": null,
   "metadata": {},
   "outputs": [],
   "source": []
  }
 ],
 "metadata": {
  "kernelspec": {
   "display_name": "Python 3",
   "language": "python",
   "name": "python3"
  },
  "language_info": {
   "codemirror_mode": {
    "name": "ipython",
    "version": 3
   },
   "file_extension": ".py",
   "mimetype": "text/x-python",
   "name": "python",
   "nbconvert_exporter": "python",
   "pygments_lexer": "ipython3",
   "version": "3.6.4"
  }
 },
 "nbformat": 4,
 "nbformat_minor": 2
}
