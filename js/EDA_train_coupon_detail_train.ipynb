{
 "cells": [
  {
   "cell_type": "markdown",
   "metadata": {},
   "source": [
    "# coupon_detail_train.csv : 기간동안 쿠폰을 구매하는 사용자입니다. \n",
    "### 테스트 세트 기간 동안이 테이블을 제공하지 않았습니다.\n",
    "```\n",
    "ITEM_COUNT : 구매한 항목 수\n",
    "I_DATE : 구매 날짜\n",
    "SMALL_AREA_NAME : 상점 위치의 작은 지역 이름\n",
    "PURCHASEID_hash : 구매 기록\n",
    "USER_ID_hash : 유저 아이디\n",
    "COUPON_ID_hash : Coupon ID\n",
    "```"
   ]
  },
  {
   "cell_type": "code",
   "execution_count": 2,
   "metadata": {
    "scrolled": true
   },
   "outputs": [
    {
     "data": {
      "text/html": [
       "<div>\n",
       "<style scoped>\n",
       "    .dataframe tbody tr th:only-of-type {\n",
       "        vertical-align: middle;\n",
       "    }\n",
       "\n",
       "    .dataframe tbody tr th {\n",
       "        vertical-align: top;\n",
       "    }\n",
       "\n",
       "    .dataframe thead th {\n",
       "        text-align: right;\n",
       "    }\n",
       "</style>\n",
       "<table border=\"1\" class=\"dataframe\">\n",
       "  <thead>\n",
       "    <tr style=\"text-align: right;\">\n",
       "      <th></th>\n",
       "      <th>ITEM_COUNT</th>\n",
       "      <th>I_DATE</th>\n",
       "      <th>SMALL_AREA_NAME</th>\n",
       "      <th>PURCHASEID_hash</th>\n",
       "      <th>USER_ID_hash</th>\n",
       "      <th>COUPON_ID_hash</th>\n",
       "    </tr>\n",
       "  </thead>\n",
       "  <tbody>\n",
       "    <tr>\n",
       "      <th>168991</th>\n",
       "      <td>1</td>\n",
       "      <td>2012-02-07 12:14:50</td>\n",
       "      <td>池袋・神楽坂・赤羽</td>\n",
       "      <td>84b0c66349ae3c807f1d4601bfc0e8f6</td>\n",
       "      <td>280f0cedda5c4b171ee6245889659571</td>\n",
       "      <td>6eac7a7e347c563e5e00086f5eb47903</td>\n",
       "    </tr>\n",
       "    <tr>\n",
       "      <th>168992</th>\n",
       "      <td>1</td>\n",
       "      <td>2012-02-28 15:43:21</td>\n",
       "      <td>銀座・新橋・東京・上野</td>\n",
       "      <td>f7b2b854457ae6ece44be04c32520064</td>\n",
       "      <td>280f0cedda5c4b171ee6245889659571</td>\n",
       "      <td>a406e389e35e1140e4bc9b472d8258df</td>\n",
       "    </tr>\n",
       "    <tr>\n",
       "      <th>168993</th>\n",
       "      <td>1</td>\n",
       "      <td>2012-03-19 12:11:16</td>\n",
       "      <td>銀座・新橋・東京・上野</td>\n",
       "      <td>e12f28eb208f5466dede7a7cb2fc566b</td>\n",
       "      <td>280f0cedda5c4b171ee6245889659571</td>\n",
       "      <td>36addcc4b958135895c859d8783e3cd2</td>\n",
       "    </tr>\n",
       "    <tr>\n",
       "      <th>168994</th>\n",
       "      <td>2</td>\n",
       "      <td>2012-04-12 12:27:34</td>\n",
       "      <td>新宿・高田馬場・中野・吉祥寺</td>\n",
       "      <td>bcade77b186543a4820b3a6e3c06ad2f</td>\n",
       "      <td>280f0cedda5c4b171ee6245889659571</td>\n",
       "      <td>cb0244705306aafccc47bfe62ece39d3</td>\n",
       "    </tr>\n",
       "    <tr>\n",
       "      <th>168995</th>\n",
       "      <td>1</td>\n",
       "      <td>2012-05-09 12:12:26</td>\n",
       "      <td>新宿・高田馬場・中野・吉祥寺</td>\n",
       "      <td>fec51967a2f8135aa929cf2b5cc8722c</td>\n",
       "      <td>280f0cedda5c4b171ee6245889659571</td>\n",
       "      <td>31a605db6db5ad3fa3b2d4cf69ae3272</td>\n",
       "    </tr>\n",
       "  </tbody>\n",
       "</table>\n",
       "</div>"
      ],
      "text/plain": [
       "        ITEM_COUNT               I_DATE SMALL_AREA_NAME  \\\n",
       "168991           1  2012-02-07 12:14:50       池袋・神楽坂・赤羽   \n",
       "168992           1  2012-02-28 15:43:21     銀座・新橋・東京・上野   \n",
       "168993           1  2012-03-19 12:11:16     銀座・新橋・東京・上野   \n",
       "168994           2  2012-04-12 12:27:34  新宿・高田馬場・中野・吉祥寺   \n",
       "168995           1  2012-05-09 12:12:26  新宿・高田馬場・中野・吉祥寺   \n",
       "\n",
       "                         PURCHASEID_hash                      USER_ID_hash  \\\n",
       "168991  84b0c66349ae3c807f1d4601bfc0e8f6  280f0cedda5c4b171ee6245889659571   \n",
       "168992  f7b2b854457ae6ece44be04c32520064  280f0cedda5c4b171ee6245889659571   \n",
       "168993  e12f28eb208f5466dede7a7cb2fc566b  280f0cedda5c4b171ee6245889659571   \n",
       "168994  bcade77b186543a4820b3a6e3c06ad2f  280f0cedda5c4b171ee6245889659571   \n",
       "168995  fec51967a2f8135aa929cf2b5cc8722c  280f0cedda5c4b171ee6245889659571   \n",
       "\n",
       "                          COUPON_ID_hash  \n",
       "168991  6eac7a7e347c563e5e00086f5eb47903  \n",
       "168992  a406e389e35e1140e4bc9b472d8258df  \n",
       "168993  36addcc4b958135895c859d8783e3cd2  \n",
       "168994  cb0244705306aafccc47bfe62ece39d3  \n",
       "168995  31a605db6db5ad3fa3b2d4cf69ae3272  "
      ]
     },
     "execution_count": 2,
     "metadata": {},
     "output_type": "execute_result"
    }
   ],
   "source": [
    "pd.set_option('display.max_columns', None)\n",
    "df_train_coupon_detail_train = pd.read_csv('../data/coupon_detail_train.csv')\n",
    "df_train_coupon_detail_train.tail()"
   ]
  },
  {
   "cell_type": "code",
   "execution_count": 3,
   "metadata": {},
   "outputs": [
    {
     "name": "stdout",
     "output_type": "stream",
     "text": [
      "ITEM_COUNT : 32\n",
      "SMALL_AREA_NAME : 55\n",
      "PURCHASEID_hash : 168996\n",
      "USER_ID_hash : 22782\n",
      "COUPON_ID_hash : 19368\n"
     ]
    }
   ],
   "source": [
    "print('ITEM_COUNT' ,':', len(df_train_coupon_detail_train.groupby('ITEM_COUNT').count()))\n",
    "print('SMALL_AREA_NAME' ,':', len(df_train_coupon_detail_train.groupby('SMALL_AREA_NAME').count()))\n",
    "print('PURCHASEID_hash' ,':', len(df_train_coupon_detail_train.groupby('PURCHASEID_hash').count()))\n",
    "print('USER_ID_hash' ,':', len(df_train_coupon_detail_train.groupby('USER_ID_hash').count()))\n",
    "print('COUPON_ID_hash' ,':', len(df_train_coupon_detail_train.groupby('COUPON_ID_hash').count()))"
   ]
  },
  {
   "cell_type": "code",
   "execution_count": 4,
   "metadata": {},
   "outputs": [
    {
     "data": {
      "text/plain": [
       "<matplotlib.figure.Figure at 0x1071297b8>"
      ]
     },
     "metadata": {},
     "output_type": "display_data"
    }
   ],
   "source": [
    "% matplotlib inline\n",
    "import matplotlib\n",
    "## matplotlib 한글사용\n",
    "from matplotlib import rc\n",
    "rc('font', family='AppleGothic')\n",
    "mpl.rcParams['axes.unicode_minus'] = False\n",
    "plt.figure(figsize=(17,6))\n",
    "def show_bar(df,col_name):\n",
    "    plt.figure(figsize=(20,6))\n",
    "    df2 = pd.DataFrame(df[col_name])\n",
    "    counts = df2.groupby([col_name]).size().reset_index(name='Counts')\n",
    "    print(counts)\n",
    "    y = counts['Counts']\n",
    "    x = counts[col_name]\n",
    "    plt.bar(x, y)\n",
    "    plt.show()\n",
    "col_name = ['ITEM_COUNT', 'SMALL_AREA_NAME']"
   ]
  },
  {
   "cell_type": "code",
   "execution_count": 5,
   "metadata": {
    "scrolled": false
   },
   "outputs": [
    {
     "name": "stdout",
     "output_type": "stream",
     "text": [
      "    ITEM_COUNT  Counts\n",
      "0            1  119832\n",
      "1            2   37869\n",
      "2            3    5252\n",
      "3            4    3717\n",
      "4            5    1085\n",
      "5            6     549\n",
      "6            7     137\n",
      "7            8     174\n",
      "8            9      36\n",
      "9           10     245\n",
      "10          11      11\n",
      "11          12      18\n",
      "12          13      11\n",
      "13          14       6\n",
      "14          15      13\n",
      "15          16       2\n",
      "16          17       1\n",
      "17          18       1\n",
      "18          19       2\n",
      "19          20      17\n",
      "20          21       1\n",
      "21          22       1\n",
      "22          24       2\n",
      "23          25       3\n",
      "24          26       1\n",
      "25          30       3\n",
      "26          32       1\n",
      "27          35       1\n",
      "28          40       2\n",
      "29          47       1\n",
      "30          50       1\n",
      "31          55       1\n"
     ]
    },
    {
     "data": {
      "image/png": "[encoded data removed]",
      "text/plain": [
       "<matplotlib.figure.Figure at 0x1092b8ba8>"
      ]
     },
     "metadata": {},
     "output_type": "display_data"
    },
    {
     "name": "stdout",
     "output_type": "stream",
     "text": [
      "   SMALL_AREA_NAME  Counts\n",
      "0               キタ   10334\n",
      "1             ミナミ他    9493\n",
      "2               三重    1739\n",
      "3               京都    4155\n",
      "4               佐賀    1397\n",
      "5               兵庫    4879\n",
      "6              北海道    5311\n",
      "7               千葉    2889\n",
      "8              和歌山    1623\n",
      "9               埼玉    2379\n",
      "10              大分     981\n",
      "11              奈良    1888\n",
      "12              宮城    1343\n",
      "13              宮崎     720\n",
      "14              富山     328\n",
      "15              山口     548\n",
      "16              山形     679\n",
      "17              山梨     533\n",
      "18              岐阜    2011\n",
      "19              岡山     979\n",
      "20              岩手     877\n",
      "21              島根     408\n",
      "22       川崎・湘南・箱根他    3999\n",
      "23              広島    1310\n",
      "24              徳島     494\n",
      "25       恵比寿・目黒・品川    6920\n",
      "26              愛媛     672\n",
      "27              愛知    4429\n",
      "28  新宿・高田馬場・中野・吉祥寺   27309\n",
      "29              新潟     839\n",
      "30              栃木    1217\n",
      "31              横浜    6098\n",
      "32       池袋・神楽坂・赤羽    6973\n",
      "33              沖縄     957\n",
      "34      渋谷・青山・自由が丘    8627\n",
      "35              滋賀    1761\n",
      "36              熊本    1283\n",
      "37              石川     566\n",
      "38              福井     301\n",
      "39              福岡    5243\n",
      "40              福島     695\n",
      "41              秋田    1077\n",
      "42      立川・町田・八王子他    3246\n",
      "43              群馬    1192\n",
      "44              茨城    1000\n",
      "45       赤坂・六本木・麻布    5661\n",
      "46     銀座・新橋・東京・上野   13719\n",
      "47              長崎    1534\n",
      "48              長野     647\n",
      "49              青森    1093\n",
      "50              静岡    2279\n",
      "51              香川     663\n",
      "52              高知     377\n",
      "53              鳥取     595\n",
      "54             鹿児島     726\n"
     ]
    },
    {
     "data": {
      "image/png": "[encoded data removed]",
      "text/plain": [
       "<matplotlib.figure.Figure at 0x1068397b8>"
      ]
     },
     "metadata": {},
     "output_type": "display_data"
    }
   ],
   "source": [
    "for col in col_name:\n",
    "    show_bar(df_train_coupon_detail_train, col)"
   ]
  },
  {
   "cell_type": "code",
   "execution_count": null,
   "metadata": {},
   "outputs": [],
   "source": []
  }
 ],
 "metadata": {
  "kernelspec": {
   "display_name": "Python 3",
   "language": "python",
   "name": "python3"
  },
  "language_info": {
   "codemirror_mode": {
    "name": "ipython",
    "version": 3
   },
   "file_extension": ".py",
   "mimetype": "text/x-python",
   "name": "python",
   "nbconvert_exporter": "python",
   "pygments_lexer": "ipython3",
   "version": "3.6.4"
  }
 },
 "nbformat": 4,
 "nbformat_minor": 2
}
