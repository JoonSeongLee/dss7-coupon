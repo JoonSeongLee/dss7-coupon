{
 "cells": [
  {
   "cell_type": "markdown",
   "metadata": {},
   "source": [
    "# EDA_coupon_area_train.csv - 쿠폰 목록 영역\n",
    " \t \t \n",
    "```\n",
    "SMALL_AREA_NAME\t: 상점 위치의 작은 지역 이름\n",
    "PREF_NAME\t: 현 거주지\n",
    "COUPON_ID\t: Coupon ID\t\n",
    "```"
   ]
  },
  {
   "cell_type": "code",
   "execution_count": 1,
   "metadata": {},
   "outputs": [
    {
     "data": {
      "text/html": [
       "<div>\n",
       "<style scoped>\n",
       "    .dataframe tbody tr th:only-of-type {\n",
       "        vertical-align: middle;\n",
       "    }\n",
       "\n",
       "    .dataframe tbody tr th {\n",
       "        vertical-align: top;\n",
       "    }\n",
       "\n",
       "    .dataframe thead th {\n",
       "        text-align: right;\n",
       "    }\n",
       "</style>\n",
       "<table border=\"1\" class=\"dataframe\">\n",
       "  <thead>\n",
       "    <tr style=\"text-align: right;\">\n",
       "      <th></th>\n",
       "      <th>SMALL_AREA_NAME</th>\n",
       "      <th>PREF_NAME</th>\n",
       "      <th>COUPON_ID_hash</th>\n",
       "    </tr>\n",
       "  </thead>\n",
       "  <tbody>\n",
       "    <tr>\n",
       "      <th>138180</th>\n",
       "      <td>新潟</td>\n",
       "      <td>新潟県</td>\n",
       "      <td>fe334f1a5e0dc54eca76b9dd9559661b</td>\n",
       "    </tr>\n",
       "    <tr>\n",
       "      <th>138181</th>\n",
       "      <td>新宿・高田馬場・中野・吉祥寺</td>\n",
       "      <td>東京都</td>\n",
       "      <td>8dc11b257cb1c5b98e7b7c66d9b2b779</td>\n",
       "    </tr>\n",
       "    <tr>\n",
       "      <th>138182</th>\n",
       "      <td>渋谷・青山・自由が丘</td>\n",
       "      <td>東京都</td>\n",
       "      <td>b15e2d7619c3fd9c6be567c971bdf4f4</td>\n",
       "    </tr>\n",
       "    <tr>\n",
       "      <th>138183</th>\n",
       "      <td>銀座・新橋・東京・上野</td>\n",
       "      <td>東京都</td>\n",
       "      <td>e1141a4b2798450f36e40090659c0b07</td>\n",
       "    </tr>\n",
       "    <tr>\n",
       "      <th>138184</th>\n",
       "      <td>新宿・高田馬場・中野・吉祥寺</td>\n",
       "      <td>東京都</td>\n",
       "      <td>79303de03e3af7105cded55960d62ac3</td>\n",
       "    </tr>\n",
       "  </tbody>\n",
       "</table>\n",
       "</div>"
      ],
      "text/plain": [
       "       SMALL_AREA_NAME PREF_NAME                    COUPON_ID_hash\n",
       "138180              新潟       新潟県  fe334f1a5e0dc54eca76b9dd9559661b\n",
       "138181  新宿・高田馬場・中野・吉祥寺       東京都  8dc11b257cb1c5b98e7b7c66d9b2b779\n",
       "138182      渋谷・青山・自由が丘       東京都  b15e2d7619c3fd9c6be567c971bdf4f4\n",
       "138183     銀座・新橋・東京・上野       東京都  e1141a4b2798450f36e40090659c0b07\n",
       "138184  新宿・高田馬場・中野・吉祥寺       東京都  79303de03e3af7105cded55960d62ac3"
      ]
     },
     "execution_count": 1,
     "metadata": {},
     "output_type": "execute_result"
    }
   ],
   "source": [
    "pd.set_option('display.max_columns', None)\n",
    "df_train_coupon_area_train = pd.read_csv('../data/coupon_area_train.csv')\n",
    "df_train_coupon_area_train.tail()"
   ]
  },
  {
   "cell_type": "code",
   "execution_count": 2,
   "metadata": {},
   "outputs": [
    {
     "name": "stdout",
     "output_type": "stream",
     "text": [
      "SMALL_AREA_NAME : 55\n",
      "PREF_NAME : 47\n",
      "COUPON_ID_hash : 19368\n"
     ]
    }
   ],
   "source": [
    "print('SMALL_AREA_NAME' ,':', len(df_train_coupon_area_train.groupby('SMALL_AREA_NAME').count()))\n",
    "print('PREF_NAME' ,':', len(df_train_coupon_area_train.groupby('PREF_NAME').count()))\n",
    "print('COUPON_ID_hash' ,':', len(df_train_coupon_area_train.groupby('COUPON_ID_hash').count()))"
   ]
  },
  {
   "cell_type": "code",
   "execution_count": 3,
   "metadata": {},
   "outputs": [
    {
     "data": {
      "text/plain": [
       "<matplotlib.figure.Figure at 0x10c902b38>"
      ]
     },
     "metadata": {},
     "output_type": "display_data"
    }
   ],
   "source": [
    "% matplotlib inline\n",
    "import matplotlib\n",
    "## matplotlib 한글사용\n",
    "from matplotlib import rc\n",
    "rc('font', family='AppleGothic')\n",
    "mpl.rcParams['axes.unicode_minus'] = False\n",
    "plt.figure(figsize=(17,6))\n",
    "def show_bar(df,col_name):\n",
    "    plt.figure(figsize=(20,6))\n",
    "    df2 = pd.DataFrame(df[col_name])\n",
    "    counts = df2.groupby([col_name]).size().reset_index(name='Counts')\n",
    "    print(counts)\n",
    "    y = counts['Counts']\n",
    "    x = counts[col_name]\n",
    "    plt.bar(x, y)\n",
    "    plt.show()\n",
    "col_name = ['SMALL_AREA_NAME', 'PREF_NAME']"
   ]
  },
  {
   "cell_type": "code",
   "execution_count": 4,
   "metadata": {
    "scrolled": false
   },
   "outputs": [
    {
     "name": "stdout",
     "output_type": "stream",
     "text": [
      "   SMALL_AREA_NAME  Counts\n",
      "0               キタ    3596\n",
      "1             ミナミ他    3346\n",
      "2               三重    2527\n",
      "3               京都    2697\n",
      "4               佐賀    2335\n",
      "5               兵庫    3027\n",
      "6              北海道    2715\n",
      "7               千葉    2922\n",
      "8              和歌山    2196\n",
      "9               埼玉    3035\n",
      "10              大分    2144\n",
      "11              奈良    2347\n",
      "12              宮城    2374\n",
      "13              宮崎    2078\n",
      "14              富山    2169\n",
      "15              山口    2159\n",
      "16              山形    2194\n",
      "17              山梨    2466\n",
      "18              岐阜    2682\n",
      "19              岡山    2558\n",
      "20              岩手    2162\n",
      "21              島根    2092\n",
      "22       川崎・湘南・箱根他    2946\n",
      "23              広島    2664\n",
      "24              徳島    2282\n",
      "25       恵比寿・目黒・品川    2577\n",
      "26              愛媛    2254\n",
      "27              愛知    3275\n",
      "28  新宿・高田馬場・中野・吉祥寺    3222\n",
      "29              新潟    2364\n",
      "30              栃木    2368\n",
      "31              横浜    3206\n",
      "32       池袋・神楽坂・赤羽    2711\n",
      "33              沖縄    1852\n",
      "34      渋谷・青山・自由が丘    2825\n",
      "35              滋賀    2213\n",
      "36              熊本    2097\n",
      "37              石川    2329\n",
      "38              福井    2141\n",
      "39              福岡    3135\n",
      "40              福島    2215\n",
      "41              秋田    2248\n",
      "42      立川・町田・八王子他    2672\n",
      "43              群馬    2335\n",
      "44              茨城    2316\n",
      "45       赤坂・六本木・麻布    2415\n",
      "46     銀座・新橋・東京・上野    3298\n",
      "47              長崎    2270\n",
      "48              長野    2388\n",
      "49              青森    2264\n",
      "50              静岡    2692\n",
      "51              香川    2357\n",
      "52              高知    2135\n",
      "53              鳥取    2206\n",
      "54             鹿児島    2092\n"
     ]
    },
    {
     "data": {
      "image/png": "[encoded data removed]",
      "text/plain": [
       "<matplotlib.figure.Figure at 0x1152a67f0>"
      ]
     },
     "metadata": {},
     "output_type": "display_data"
    },
    {
     "name": "stdout",
     "output_type": "stream",
     "text": [
      "   PREF_NAME  Counts\n",
      "0        三重県    2527\n",
      "1        京都府    2697\n",
      "2        佐賀県    2335\n",
      "3        兵庫県    3027\n",
      "4        北海道    2715\n",
      "5        千葉県    2922\n",
      "6       和歌山県    2196\n",
      "7        埼玉県    3035\n",
      "8        大分県    2144\n",
      "9        大阪府    6942\n",
      "10       奈良県    2347\n",
      "11       宮城県    2374\n",
      "12       宮崎県    2078\n",
      "13       富山県    2169\n",
      "14       山口県    2159\n",
      "15       山形県    2194\n",
      "16       山梨県    2466\n",
      "17       岐阜県    2682\n",
      "18       岡山県    2558\n",
      "19       岩手県    2162\n",
      "20       島根県    2092\n",
      "21       広島県    2664\n",
      "22       徳島県    2282\n",
      "23       愛媛県    2254\n",
      "24       愛知県    3275\n",
      "25       新潟県    2364\n",
      "26       東京都   19720\n",
      "27       栃木県    2368\n",
      "28       沖縄県    1852\n",
      "29       滋賀県    2213\n",
      "30       熊本県    2097\n",
      "31       石川県    2329\n",
      "32      神奈川県    6152\n",
      "33       福井県    2141\n",
      "34       福岡県    3135\n",
      "35       福島県    2215\n",
      "36       秋田県    2248\n",
      "37       群馬県    2335\n",
      "38       茨城県    2316\n",
      "39       長崎県    2270\n",
      "40       長野県    2388\n",
      "41       青森県    2264\n",
      "42       静岡県    2692\n",
      "43       香川県    2357\n",
      "44       高知県    2135\n",
      "45       鳥取県    2206\n",
      "46      鹿児島県    2092\n"
     ]
    },
    {
     "data": {
      "image/png": "[encoded data removed]",
      "text/plain": [
       "<matplotlib.figure.Figure at 0x10ca8a320>"
      ]
     },
     "metadata": {},
     "output_type": "display_data"
    }
   ],
   "source": [
    "for col in col_name:\n",
    "    show_bar(df_train_coupon_area_train, col)"
   ]
  },
  {
   "cell_type": "code",
   "execution_count": null,
   "metadata": {},
   "outputs": [],
   "source": []
  }
 ],
 "metadata": {
  "kernelspec": {
   "display_name": "Python 3",
   "language": "python",
   "name": "python3"
  },
  "language_info": {
   "codemirror_mode": {
    "name": "ipython",
    "version": 3
   },
   "file_extension": ".py",
   "mimetype": "text/x-python",
   "name": "python",
   "nbconvert_exporter": "python",
   "pygments_lexer": "ipython3",
   "version": "3.6.4"
  }
 },
 "nbformat": 4,
 "nbformat_minor": 2
}
