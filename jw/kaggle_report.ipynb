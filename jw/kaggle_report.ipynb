{
 "cells": [
  {
   "cell_type": "markdown",
   "metadata": {},
   "source": [
    "# 캐글홈페이지에서 로지스틱 리그레션 코드 따옴\n",
    "# 쿠폰 채점방식은 MAP (높을수록 좋다)\n",
    "# 그대로 따온 점수는 0.000321\n",
    "# 여기에 DISCOUNT_PRICE까지 더한 점수 0.000492\n",
    "\n",
    "# DISCOUNT_PRICE, GENRE_NAME, ken_name, SEX_ID = 0.000264\n",
    "\n",
    "# GENRE_NAME,ken_name, DISCOUNT_PRICE = 0.0006 880/1000\n",
    "# GENRE_NAME, PREF_MATCH, PRICE_RATE = 0.001 850/1000\n",
    "\n",
    "# GENRE_NAME, PREF_MATCH, PRICE_RATE, DISPPERIOD = 0.0008\n",
    "\n",
    "# GENRE_NAME, PREF_MATCH, PRICE_RATE, VALIDPERIOD = 0.001235 837/1000\n",
    "\n",
    "# GENRE_NAME, PREF_MATCH, PRICE_RATE, VALIDPERIOD, DISPPERIOD = 0.001282 835/1000\n",
    "\n",
    "# GENRE_NAME, PREF_MATCH, PRICE_RATE, VALIDPERIOD, DISPPERIOD, TWNETY ~ FIFTY = 0.001257\n",
    "\n",
    "# GERNE_NAME 대신 CAPSULE_TEXT하면 확 떨어진당\n",
    "\n",
    "# USABLE_DATE쓰면 전체적으로 성능이 떨어짐"
   ]
  },
  {
   "cell_type": "markdown",
   "metadata": {},
   "source": [
    "# 참고\n",
    "1. USABLE_DATE쓰면 전체적으로 떨어짐\n",
    "2. GENRE_NAME대신 CAPSULE_TEXT하면 떨어짐\n",
    "3. VALIDPERIOD는 mean으로 impute\n",
    "4. USABLE_DATE엔 NaN이 듬성듬성있지 않고 USABLE_DATE가 전부 NaN인 케이스만 있다\n",
    "5. 그런 경우는 요일에 구애받지 않는 쿠폰이라 가정하여 1로 impute\n",
    "6. USABLE_DATE에 클래스가 0,1,2가 있는데 0은 못쓰는 경우, 1,2는 사용가능한 경우로 퉁쳐서 표현\n",
    "(이렇게 해도 성능차이 없음)"
   ]
  },
  {
   "cell_type": "code",
   "execution_count": 1,
   "metadata": {},
   "outputs": [],
   "source": [
    "from datetime import datetime"
   ]
  },
  {
   "cell_type": "code",
   "execution_count": 4,
   "metadata": {},
   "outputs": [],
   "source": [
    "now = datetime.now()"
   ]
  },
  {
   "cell_type": "code",
   "execution_count": 8,
   "metadata": {},
   "outputs": [
    {
     "data": {
      "text/plain": [
       "'2018-04-04 15-02-02'"
      ]
     },
     "execution_count": 8,
     "metadata": {},
     "output_type": "execute_result"
    }
   ],
   "source": [
    "now.strftime('%Y-%m-%d %H-%M-%S')"
   ]
  },
  {
   "cell_type": "code",
   "execution_count": 7,
   "metadata": {},
   "outputs": [
    {
     "data": {
      "text/plain": [
       "'2018-04-04 15-02-02'"
      ]
     },
     "execution_count": 7,
     "metadata": {},
     "output_type": "execute_result"
    }
   ],
   "source": [
    "now.strftime('%Y-%m-%d %H-%M-%S')"
   ]
  },
  {
   "cell_type": "markdown",
   "metadata": {},
   "source": [
    "-------------"
   ]
  },
  {
   "cell_type": "markdown",
   "metadata": {},
   "source": [
    "# 서브미션에 쿠폰 n을 너무 많이 주면 성능 떨어짐\n",
    "# feature 대비 max_depth가 커도 성능 떨어짐\n",
    "# 뭔가 로지스틱보다 성능이 안나온다\n",
    "# feature를 잘못 가정하고 있나.."
   ]
  },
  {
   "cell_type": "code",
   "execution_count": null,
   "metadata": {},
   "outputs": [],
   "source": []
  }
 ],
 "metadata": {
  "kernelspec": {
   "display_name": "Python 3",
   "language": "python",
   "name": "python3"
  },
  "language_info": {
   "codemirror_mode": {
    "name": "ipython",
    "version": 3
   },
   "file_extension": ".py",
   "mimetype": "text/x-python",
   "name": "python",
   "nbconvert_exporter": "python",
   "pygments_lexer": "ipython3",
   "version": "3.6.3"
  }
 },
 "nbformat": 4,
 "nbformat_minor": 2
}
