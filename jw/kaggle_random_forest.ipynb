{
 "cells": [
  {
   "cell_type": "code",
   "execution_count": 1,
   "metadata": {},
   "outputs": [],
   "source": [
    "import pandas as pd\n",
    "import numpy as np\n",
    "import os\n",
    "from sklearn.base import BaseEstimator, TransformerMixin\n",
    "from sklearn.pipeline import FeatureUnion\n",
    "from sklearn.linear_model.logistic import LogisticRegression\n",
    "from sklearn.preprocessing import OneHotEncoder\n",
    "from sklearn.preprocessing import LabelEncoder\n",
    "from sklearn.tree import DecisionTreeClassifier\n",
    "from sklearn.ensemble import RandomForestClassifier, ExtraTreesClassifier\n",
    "from sklearn.tree import DecisionTreeClassifier\n",
    "\n",
    "def top_merge(df, n=10, column=\"predict\", merge_column=\"COUPON_ID_hash\"):\n",
    "    '''\n",
    "    get top n row\n",
    "\n",
    "    :param pandas.DataFrame df:\n",
    "    :param int n:\n",
    "    :param str column:\n",
    "    :rtype: pandas.DataFrame\n",
    "    '''\n",
    "\n",
    "    return \" \".join(df.sort_index(by=column)[-n:][merge_column])"
   ]
  },
  {
   "cell_type": "code",
   "execution_count": 2,
   "metadata": {},
   "outputs": [],
   "source": [
    "category = ['GENRE_NAME','PREF_MATCH']\n",
    "continuous = ['PRICE_RATE','VALIDPERIOD','DISPPERIOD']\n",
    "depth = 5\n",
    "n_estimators = 10"
   ]
  },
  {
   "cell_type": "code",
   "execution_count": 3,
   "metadata": {},
   "outputs": [],
   "source": [
    "# import csv\n",
    "user_df = pd.read_csv(\"../data/user_list.csv\")\n",
    "train_coupon_df = pd.read_csv(\"../data/coupon_list_train.csv\")\n",
    "train_visit_df = pd.read_csv(\"../data/coupon_visit_train.csv\")\n",
    "test_coupon_df = pd.read_csv(\"../data/coupon_list_test.csv\")"
   ]
  },
  {
   "cell_type": "code",
   "execution_count": 4,
   "metadata": {},
   "outputs": [],
   "source": [
    "# create train_df\n",
    "train_df = pd.merge(train_visit_df, train_coupon_df,\n",
    "                    left_on=\"VIEW_COUPON_ID_hash\", right_on=\"COUPON_ID_hash\")\n",
    "train_df = pd.merge(train_df, user_df,\n",
    "                    left_on=\"USER_ID_hash\", right_on=\"USER_ID_hash\")"
   ]
  },
  {
   "cell_type": "code",
   "execution_count": 5,
   "metadata": {},
   "outputs": [],
   "source": [
    "del train_visit_df\n",
    "del train_coupon_df"
   ]
  },
  {
   "cell_type": "code",
   "execution_count": 6,
   "metadata": {},
   "outputs": [],
   "source": [
    "# create test_df\n",
    "test_coupon_df[\"cross\"] = 1\n",
    "user_df[\"cross\"] = 1\n",
    "test_df = pd.merge(test_coupon_df, user_df, on=\"cross\")"
   ]
  },
  {
   "cell_type": "code",
   "execution_count": 7,
   "metadata": {},
   "outputs": [],
   "source": [
    "del test_coupon_df\n",
    "del user_df"
   ]
  },
  {
   "cell_type": "markdown",
   "metadata": {},
   "source": [
    "# GENRE_NAME, DISCOUNT_PRICE, KEN_NAME, AGE, SEX_ID"
   ]
  },
  {
   "cell_type": "code",
   "execution_count": 8,
   "metadata": {},
   "outputs": [
    {
     "data": {
      "text/plain": [
       "Index(['PURCHASE_FLG', 'I_DATE', 'PAGE_SERIAL', 'REFERRER_hash',\n",
       "       'VIEW_COUPON_ID_hash', 'USER_ID_hash', 'SESSION_ID_hash',\n",
       "       'PURCHASEID_hash', 'Unnamed: 0_x', 'CAPSULE_TEXT', 'GENRE_NAME',\n",
       "       'PRICE_RATE', 'CATALOG_PRICE', 'DISCOUNT_PRICE', 'DISPFROM', 'DISPEND',\n",
       "       'DISPPERIOD', 'VALIDFROM', 'VALIDEND', 'VALIDPERIOD', 'USABLE_DATE_MON',\n",
       "       'USABLE_DATE_TUE', 'USABLE_DATE_WED', 'USABLE_DATE_THU',\n",
       "       'USABLE_DATE_FRI', 'USABLE_DATE_SAT', 'USABLE_DATE_SUN',\n",
       "       'USABLE_DATE_HOLIDAY', 'USABLE_DATE_BEFORE_HOLIDAY', 'large_area_name',\n",
       "       'ken_name', 'small_area_name', 'COUPON_ID_hash', 'Unnamed: 0_y',\n",
       "       'REG_DATE', 'SEX_ID', 'AGE', 'WITHDRAW_DATE', 'PREF_NAME'],\n",
       "      dtype='object')"
      ]
     },
     "execution_count": 8,
     "metadata": {},
     "output_type": "execute_result"
    }
   ],
   "source": [
    "train_df.columns"
   ]
  },
  {
   "cell_type": "code",
   "execution_count": 9,
   "metadata": {},
   "outputs": [
    {
     "data": {
      "text/plain": [
       "Index(['Unnamed: 0_x', 'CAPSULE_TEXT', 'GENRE_NAME', 'PRICE_RATE',\n",
       "       'CATALOG_PRICE', 'DISCOUNT_PRICE', 'DISPFROM', 'DISPEND', 'DISPPERIOD',\n",
       "       'VALIDFROM', 'VALIDEND', 'VALIDPERIOD', 'USABLE_DATE_MON',\n",
       "       'USABLE_DATE_TUE', 'USABLE_DATE_WED', 'USABLE_DATE_THU',\n",
       "       'USABLE_DATE_FRI', 'USABLE_DATE_SAT', 'USABLE_DATE_SUN',\n",
       "       'USABLE_DATE_HOLIDAY', 'USABLE_DATE_BEFORE_HOLIDAY', 'large_area_name',\n",
       "       'ken_name', 'small_area_name', 'COUPON_ID_hash', 'cross',\n",
       "       'Unnamed: 0_y', 'REG_DATE', 'SEX_ID', 'AGE', 'WITHDRAW_DATE',\n",
       "       'PREF_NAME', 'USER_ID_hash'],\n",
       "      dtype='object')"
      ]
     },
     "execution_count": 9,
     "metadata": {},
     "output_type": "execute_result"
    }
   ],
   "source": [
    "test_df.columns"
   ]
  },
  {
   "cell_type": "code",
   "execution_count": 10,
   "metadata": {},
   "outputs": [],
   "source": [
    "# length = len(train_df)\n",
    "# a = train_df['GENRE_NAME']\n",
    "# b = train_df['DISCOUNT_PRICE'].values.reshape(length,1)\n",
    "# c = train_df['ken_name']\n",
    "# d = train_df['SEX_ID']"
   ]
  },
  {
   "cell_type": "code",
   "execution_count": 11,
   "metadata": {},
   "outputs": [],
   "source": [
    "# length = len(test_df)\n",
    "# A = test_df['GENRE_NAME']\n",
    "# B = test_df['DISCOUNT_PRICE'].values.reshape(length, 1)\n",
    "# C = test_df['ken_name']\n",
    "# D = test_df['SEX_ID']"
   ]
  },
  {
   "cell_type": "code",
   "execution_count": 12,
   "metadata": {},
   "outputs": [],
   "source": [
    "def category_to_ohe(train_col, test_col):\n",
    "    le = LabelEncoder()\n",
    "    le.fit(train_col)\n",
    "    \n",
    "    labeled_train_col = le.transform(train_col)\n",
    "    labeled_train_col = labeled_train_col.reshape(len(labeled_train_col),1)\n",
    "    \n",
    "    labeled_test_col = le.transform(test_col)\n",
    "    labeled_test_col = labeled_test_col.reshape(len(labeled_test_col),1)\n",
    "    \n",
    "    ohe = OneHotEncoder()\n",
    "    ohe.fit(labeled_train_col)\n",
    "    \n",
    "    ohe_train_col = ohe.transform(labeled_train_col).toarray()\n",
    "    ohe_test_col = ohe.transform(labeled_test_col).toarray()\n",
    "    \n",
    "    return ohe_train_col, ohe_test_col"
   ]
  },
  {
   "cell_type": "code",
   "execution_count": 13,
   "metadata": {},
   "outputs": [],
   "source": [
    "from sklearn.preprocessing import Imputer\n",
    "imp = Imputer(missing_values='NaN', strategy='mean', axis=0)\n",
    "train_df['VALIDPERIOD'] = imp.fit_transform(train_df['VALIDPERIOD'].values.reshape(len(train_df),1))\n",
    "test_df['VALIDPERIOD'] = imp.fit_transform(test_df['VALIDPERIOD'].values.reshape(len(test_df),1))"
   ]
  },
  {
   "cell_type": "code",
   "execution_count": 14,
   "metadata": {},
   "outputs": [],
   "source": [
    "# usable_date = ['USABLE_DATE_MON', 'USABLE_DATE_TUE', 'USABLE_DATE_WED', 'USABLE_DATE_THU',\n",
    "#                'USABLE_DATE_FRI', 'USABLE_DATE_SAT', 'USABLE_DATE_SUN', 'USABLE_DATE_HOLIDAY']\n",
    "\n",
    "# for each in usable_date:\n",
    "#     tmp = train_df[each]\n",
    "#     tmp[tmp==2] = 1\n",
    "#     tmp[tmp.isnull()] = 1\n",
    "\n",
    "#     tmp = test_df[each]\n",
    "#     tmp[tmp==2] = 1\n",
    "#     tmp[tmp.isnull()] = 1"
   ]
  },
  {
   "cell_type": "code",
   "execution_count": 15,
   "metadata": {},
   "outputs": [],
   "source": [
    "index = train_df['PREF_NAME'] == train_df['ken_name']\n",
    "train_df['PREF_MATCH'] = index\n",
    "train_df['PREF_MATCH'] = train_df['PREF_MATCH'].apply(lambda x: 1 if x == True else 0)"
   ]
  },
  {
   "cell_type": "code",
   "execution_count": 16,
   "metadata": {},
   "outputs": [],
   "source": [
    "index = test_df['PREF_NAME'] == test_df['ken_name']\n",
    "test_df['PREF_MATCH'] = index\n",
    "test_df['PREF_MATCH'] = test_df['PREF_MATCH'].apply(lambda x: 1 if x == True else 0)"
   ]
  },
  {
   "cell_type": "code",
   "execution_count": 17,
   "metadata": {},
   "outputs": [],
   "source": [
    "train_cols, test_cols = [], []"
   ]
  },
  {
   "cell_type": "code",
   "execution_count": 18,
   "metadata": {},
   "outputs": [],
   "source": [
    "# train_df['twenty'] = train_df['AGE'].apply(lambda age: 1 if 20<=age<30 else 0)\n",
    "# train_df['thirty'] = train_df['AGE'].apply(lambda age: 1 if 30<=age<40 else 0)\n",
    "# train_df['forty'] = train_df['AGE'].apply(lambda age: 1 if 40<=age<50 else 0)\n",
    "# train_df['fifty'] = train_df['AGE'].apply(lambda age: 1 if 50<=age<60 else 0)\n",
    "\n",
    "# test_df['twenty'] = test_df['AGE'].apply(lambda age: 1 if 20<=age<30 else 0)\n",
    "# test_df['thirty'] = test_df['AGE'].apply(lambda age: 1 if 30<=age<40 else 0)\n",
    "# test_df['forty'] = test_df['AGE'].apply(lambda age: 1 if 40<=age<50 else 0)\n",
    "# test_df['fifty'] = test_df['AGE'].apply(lambda age: 1 if 50<=age<60 else 0)"
   ]
  },
  {
   "cell_type": "code",
   "execution_count": 19,
   "metadata": {},
   "outputs": [
    {
     "name": "stdout",
     "output_type": "stream",
     "text": [
      "GENRE_NAME  finished !\n",
      "PREF_MATCH  finished !\n"
     ]
    }
   ],
   "source": [
    "for cat in category:\n",
    "    train_tok, test_tok = category_to_ohe(train_df[cat],test_df[cat])\n",
    "    train_cols.append(train_tok)\n",
    "    test_cols.append(test_tok)\n",
    "    print(cat,' finished !')"
   ]
  },
  {
   "cell_type": "code",
   "execution_count": 20,
   "metadata": {},
   "outputs": [],
   "source": [
    "for con in continuous:\n",
    "    train_cols.append(train_df[con].values.reshape(len(train_df),1))\n",
    "    test_cols.append(test_df[con].values.reshape(len(test_df),1))"
   ]
  },
  {
   "cell_type": "code",
   "execution_count": 21,
   "metadata": {},
   "outputs": [],
   "source": [
    "X_train = np.hstack(tuple(each for each in train_cols))\n",
    "X_test = np.hstack(tuple(each for each in test_cols))\n",
    "y_train = train_df['PURCHASE_FLG']"
   ]
  },
  {
   "cell_type": "code",
   "execution_count": 22,
   "metadata": {},
   "outputs": [],
   "source": [
    "del train_cols\n",
    "del test_cols"
   ]
  },
  {
   "cell_type": "code",
   "execution_count": 23,
   "metadata": {},
   "outputs": [],
   "source": [
    "del train_df"
   ]
  },
  {
   "cell_type": "code",
   "execution_count": 24,
   "metadata": {},
   "outputs": [
    {
     "data": {
      "text/plain": [
       "RandomForestClassifier(bootstrap=True, class_weight=None, criterion='gini',\n",
       "            max_depth=5, max_features='auto', max_leaf_nodes=None,\n",
       "            min_impurity_decrease=0.0, min_impurity_split=None,\n",
       "            min_samples_leaf=1, min_samples_split=2,\n",
       "            min_weight_fraction_leaf=0.0, n_estimators=10, n_jobs=1,\n",
       "            oob_score=False, random_state=None, verbose=0,\n",
       "            warm_start=False)"
      ]
     },
     "execution_count": 24,
     "metadata": {},
     "output_type": "execute_result"
    }
   ],
   "source": [
    "clf = RandomForestClassifier(max_depth=depth, n_estimators=n_estimators)\n",
    "clf.fit(X_train, y_train)"
   ]
  },
  {
   "cell_type": "code",
   "execution_count": 25,
   "metadata": {},
   "outputs": [
    {
     "name": "stderr",
     "output_type": "stream",
     "text": [
      "d:\\anaconda\\lib\\site-packages\\ipykernel_launcher.py:23: FutureWarning: by argument to sort_index is deprecated, pls use .sort_values(by=...)\n"
     ]
    }
   ],
   "source": [
    "from datetime import datetime\n",
    "# predict test data\n",
    "predict_proba = clf.predict_proba(X_test)\n",
    "\n",
    "# 클래스가 1이면 산다라고 분류a\n",
    "# 그러니까 아래 코드는 사는 놈들의 스코어를 위한 인덱스\n",
    "pos_idx = np.where(clf.classes_ == True)[0][0]\n",
    "\n",
    "now = datetime.now()\n",
    "cur_time = now.strftime('%Y-%m-%d %H-%M-%S')\n",
    "\n",
    "test_df[\"predict\"] = predict_proba[:, pos_idx]\n",
    "top10_coupon = test_df.groupby(\"USER_ID_hash\").apply(top_merge)\n",
    "top10_coupon.name = \"PURCHASED_COUPONS\"\n",
    "top10_coupon.to_csv(\"submission/random_forest\"+ cur_time +\".csv\", header=True)"
   ]
  },
  {
   "cell_type": "code",
   "execution_count": 26,
   "metadata": {},
   "outputs": [],
   "source": [
    "predict_proba = clf.predict_proba(X_test)\n",
    "test_df['predict'] = predict_proba[:, pos_idx]"
   ]
  },
  {
   "cell_type": "code",
   "execution_count": 27,
   "metadata": {},
   "outputs": [],
   "source": [
    "# predict_proba[:,pos_idx]"
   ]
  },
  {
   "cell_type": "code",
   "execution_count": 28,
   "metadata": {},
   "outputs": [],
   "source": [
    "# test_df.sort_index(by='predict')[-10:]"
   ]
  },
  {
   "cell_type": "code",
   "execution_count": 29,
   "metadata": {},
   "outputs": [],
   "source": [
    "# test_df.sort_index(by='predict')"
   ]
  },
  {
   "cell_type": "code",
   "execution_count": 30,
   "metadata": {},
   "outputs": [
    {
     "data": {
      "text/plain": [
       "array([0, 0, 0, ..., 0, 0, 0], dtype=int64)"
      ]
     },
     "execution_count": 30,
     "metadata": {},
     "output_type": "execute_result"
    }
   ],
   "source": [
    "clf.predict(X_train)"
   ]
  },
  {
   "cell_type": "code",
   "execution_count": 31,
   "metadata": {},
   "outputs": [
    {
     "data": {
      "text/plain": [
       "array([0, 0, 0, ..., 0, 1, 1], dtype=int64)"
      ]
     },
     "execution_count": 31,
     "metadata": {},
     "output_type": "execute_result"
    }
   ],
   "source": [
    "y_train.values"
   ]
  },
  {
   "cell_type": "code",
   "execution_count": 32,
   "metadata": {},
   "outputs": [
    {
     "data": {
      "text/plain": [
       "1.0"
      ]
     },
     "execution_count": 32,
     "metadata": {},
     "output_type": "execute_result"
    }
   ],
   "source": [
    "len(y_train.values == clf.predict(X_train))/len(y_train)"
   ]
  },
  {
   "cell_type": "code",
   "execution_count": 33,
   "metadata": {},
   "outputs": [
    {
     "data": {
      "text/plain": [
       "array([0, 0, 0, ..., 0, 1, 1], dtype=int64)"
      ]
     },
     "execution_count": 33,
     "metadata": {},
     "output_type": "execute_result"
    }
   ],
   "source": [
    "y_train.values"
   ]
  },
  {
   "cell_type": "code",
   "execution_count": 34,
   "metadata": {},
   "outputs": [
    {
     "data": {
      "text/plain": [
       "array([0, 0, 0, ..., 0, 0, 0], dtype=int64)"
      ]
     },
     "execution_count": 34,
     "metadata": {},
     "output_type": "execute_result"
    }
   ],
   "source": [
    "clf.predict(X_train)"
   ]
  },
  {
   "cell_type": "code",
   "execution_count": 35,
   "metadata": {},
   "outputs": [],
   "source": [
    "a = y_train.values == clf.predict(X_train)"
   ]
  },
  {
   "cell_type": "code",
   "execution_count": 36,
   "metadata": {},
   "outputs": [
    {
     "data": {
      "text/plain": [
       "2394817"
      ]
     },
     "execution_count": 36,
     "metadata": {},
     "output_type": "execute_result"
    }
   ],
   "source": [
    "len(a[a==True])"
   ]
  },
  {
   "cell_type": "code",
   "execution_count": 37,
   "metadata": {},
   "outputs": [
    {
     "data": {
      "text/plain": [
       "0.9513790289710099"
      ]
     },
     "execution_count": 37,
     "metadata": {},
     "output_type": "execute_result"
    }
   ],
   "source": [
    "len(a[a==True]) / len(y_train.values)"
   ]
  },
  {
   "cell_type": "code",
   "execution_count": 38,
   "metadata": {},
   "outputs": [
    {
     "data": {
      "text/plain": [
       "array([[2394817,       0],\n",
       "       [ 122389,       0]], dtype=int64)"
      ]
     },
     "execution_count": 38,
     "metadata": {},
     "output_type": "execute_result"
    }
   ],
   "source": [
    "from sklearn.metrics import *\n",
    "\n",
    "confusion_matrix(y_train.values, clf.predict(X_train))"
   ]
  },
  {
   "cell_type": "code",
   "execution_count": 39,
   "metadata": {},
   "outputs": [
    {
     "name": "stdout",
     "output_type": "stream",
     "text": [
      "             precision    recall  f1-score   support\n",
      "\n",
      "          0       0.95      1.00      0.98   2394817\n",
      "          1       0.00      0.00      0.00    122389\n",
      "\n",
      "avg / total       0.91      0.95      0.93   2517206\n",
      "\n"
     ]
    },
    {
     "name": "stderr",
     "output_type": "stream",
     "text": [
      "d:\\anaconda\\lib\\site-packages\\sklearn\\metrics\\classification.py:1135: UndefinedMetricWarning: Precision and F-score are ill-defined and being set to 0.0 in labels with no predicted samples.\n",
      "  'precision', 'predicted', average, warn_for)\n"
     ]
    }
   ],
   "source": [
    "print(classification_report(y_train.values, clf.predict(X_train)))"
   ]
  },
  {
   "cell_type": "code",
   "execution_count": null,
   "metadata": {},
   "outputs": [],
   "source": []
  }
 ],
 "metadata": {
  "kernelspec": {
   "display_name": "Python 3",
   "language": "python",
   "name": "python3"
  },
  "language_info": {
   "codemirror_mode": {
    "name": "ipython",
    "version": 3
   },
   "file_extension": ".py",
   "mimetype": "text/x-python",
   "name": "python",
   "nbconvert_exporter": "python",
   "pygments_lexer": "ipython3",
   "version": "3.6.3"
  }
 },
 "nbformat": 4,
 "nbformat_minor": 2
}
