{
 "cells": [
  {
   "cell_type": "code",
   "execution_count": 4,
   "metadata": {},
   "outputs": [],
   "source": [
    "from custom_ml import *\n",
    "import gen as g\n",
    "from sklearn.tree import DecisionTreeClassifier"
   ]
  },
  {
   "cell_type": "code",
   "execution_count": 24,
   "metadata": {},
   "outputs": [],
   "source": [
    "df = g.user_vp_coupon_pref()"
   ]
  },
  {
   "cell_type": "code",
   "execution_count": 25,
   "metadata": {},
   "outputs": [
    {
     "data": {
      "text/html": [
       "<div>\n",
       "<style scoped>\n",
       "    .dataframe tbody tr th:only-of-type {\n",
       "        vertical-align: middle;\n",
       "    }\n",
       "\n",
       "    .dataframe tbody tr th {\n",
       "        vertical-align: top;\n",
       "    }\n",
       "\n",
       "    .dataframe thead th {\n",
       "        text-align: right;\n",
       "    }\n",
       "</style>\n",
       "<table border=\"1\" class=\"dataframe\">\n",
       "  <thead>\n",
       "    <tr style=\"text-align: right;\">\n",
       "      <th></th>\n",
       "      <th>REG_DATE</th>\n",
       "      <th>SEX_ID</th>\n",
       "      <th>AGE</th>\n",
       "      <th>WITHDRAW_DATE</th>\n",
       "      <th>PREF_NAME_x</th>\n",
       "      <th>USER_ID_hash</th>\n",
       "      <th>PURCHASE_FLG</th>\n",
       "      <th>I_DATE_x</th>\n",
       "      <th>PAGE_SERIAL</th>\n",
       "      <th>REFERRER_hash</th>\n",
       "      <th>...</th>\n",
       "      <th>USABLE_DATE_HOLIDAY</th>\n",
       "      <th>USABLE_DATE_BEFORE_HOLIDAY</th>\n",
       "      <th>large_area_name</th>\n",
       "      <th>ken_name</th>\n",
       "      <th>small_area_name</th>\n",
       "      <th>COUPON_ID_hash_y</th>\n",
       "      <th>PREF_NAME_y</th>\n",
       "      <th>PREFECTUAL_OFFICE</th>\n",
       "      <th>LATITUDE</th>\n",
       "      <th>LONGITUDE</th>\n",
       "    </tr>\n",
       "  </thead>\n",
       "  <tbody>\n",
       "    <tr>\n",
       "      <th>0</th>\n",
       "      <td>2012-03-28 14:14:18</td>\n",
       "      <td>f</td>\n",
       "      <td>25</td>\n",
       "      <td>NaN</td>\n",
       "      <td>NaN</td>\n",
       "      <td>d9dca3cb44bab12ba313eaa681f663eb</td>\n",
       "      <td>1</td>\n",
       "      <td>2012-03-28 15:06:11</td>\n",
       "      <td>45</td>\n",
       "      <td>878034ded0ee2297d7ce27c5169e8584</td>\n",
       "      <td>...</td>\n",
       "      <td>NaN</td>\n",
       "      <td>NaN</td>\n",
       "      <td>Kanto</td>\n",
       "      <td>Tokyo</td>\n",
       "      <td>Shinjuku, Takadanobaba Nakano - Kichijoji</td>\n",
       "      <td>34c48f84026e08355dc3bd19b427f09a</td>\n",
       "      <td>Tokyo</td>\n",
       "      <td>Shinjuku</td>\n",
       "      <td>35.689521</td>\n",
       "      <td>139.691704</td>\n",
       "    </tr>\n",
       "    <tr>\n",
       "      <th>1</th>\n",
       "      <td>2011-06-12 18:38:39</td>\n",
       "      <td>f</td>\n",
       "      <td>49</td>\n",
       "      <td>NaN</td>\n",
       "      <td>Hyogo Prefecture</td>\n",
       "      <td>dd8a79645e8170db6a91bad1d89b4055</td>\n",
       "      <td>1</td>\n",
       "      <td>2012-03-26 23:26:26</td>\n",
       "      <td>7</td>\n",
       "      <td>6c5616ced18d79fa5a97c5c8f3e65f8f</td>\n",
       "      <td>...</td>\n",
       "      <td>NaN</td>\n",
       "      <td>NaN</td>\n",
       "      <td>Kanto</td>\n",
       "      <td>Tokyo</td>\n",
       "      <td>Shinjuku, Takadanobaba Nakano - Kichijoji</td>\n",
       "      <td>34c48f84026e08355dc3bd19b427f09a</td>\n",
       "      <td>Tokyo</td>\n",
       "      <td>Shinjuku</td>\n",
       "      <td>35.689521</td>\n",
       "      <td>139.691704</td>\n",
       "    </tr>\n",
       "    <tr>\n",
       "      <th>2</th>\n",
       "      <td>2011-07-29 18:02:46</td>\n",
       "      <td>f</td>\n",
       "      <td>25</td>\n",
       "      <td>NaN</td>\n",
       "      <td>NaN</td>\n",
       "      <td>658249379aaaf2b2320061e5218c0c2c</td>\n",
       "      <td>1</td>\n",
       "      <td>2012-03-26 13:50:23</td>\n",
       "      <td>12</td>\n",
       "      <td>6c5616ced18d79fa5a97c5c8f3e65f8f</td>\n",
       "      <td>...</td>\n",
       "      <td>NaN</td>\n",
       "      <td>NaN</td>\n",
       "      <td>Kanto</td>\n",
       "      <td>Tokyo</td>\n",
       "      <td>Shinjuku, Takadanobaba Nakano - Kichijoji</td>\n",
       "      <td>34c48f84026e08355dc3bd19b427f09a</td>\n",
       "      <td>Tokyo</td>\n",
       "      <td>Shinjuku</td>\n",
       "      <td>35.689521</td>\n",
       "      <td>139.691704</td>\n",
       "    </tr>\n",
       "    <tr>\n",
       "      <th>3</th>\n",
       "      <td>2012-03-29 14:08:37</td>\n",
       "      <td>f</td>\n",
       "      <td>38</td>\n",
       "      <td>NaN</td>\n",
       "      <td>NaN</td>\n",
       "      <td>e78ae0887c4a9dce91ff0d2a45a9f72c</td>\n",
       "      <td>1</td>\n",
       "      <td>2012-03-29 15:09:56</td>\n",
       "      <td>60</td>\n",
       "      <td>6c5616ced18d79fa5a97c5c8f3e65f8f</td>\n",
       "      <td>...</td>\n",
       "      <td>NaN</td>\n",
       "      <td>NaN</td>\n",
       "      <td>Kanto</td>\n",
       "      <td>Tokyo</td>\n",
       "      <td>Shinjuku, Takadanobaba Nakano - Kichijoji</td>\n",
       "      <td>34c48f84026e08355dc3bd19b427f09a</td>\n",
       "      <td>Tokyo</td>\n",
       "      <td>Shinjuku</td>\n",
       "      <td>35.689521</td>\n",
       "      <td>139.691704</td>\n",
       "    </tr>\n",
       "    <tr>\n",
       "      <th>4</th>\n",
       "      <td>2011-07-17 00:00:15</td>\n",
       "      <td>m</td>\n",
       "      <td>34</td>\n",
       "      <td>NaN</td>\n",
       "      <td>Osaka prefecture</td>\n",
       "      <td>fca1e37548c9ca5415a9850a1b9b2c28</td>\n",
       "      <td>1</td>\n",
       "      <td>2012-03-28 22:45:21</td>\n",
       "      <td>9</td>\n",
       "      <td>6c5616ced18d79fa5a97c5c8f3e65f8f</td>\n",
       "      <td>...</td>\n",
       "      <td>NaN</td>\n",
       "      <td>NaN</td>\n",
       "      <td>Kanto</td>\n",
       "      <td>Tokyo</td>\n",
       "      <td>Shinjuku, Takadanobaba Nakano - Kichijoji</td>\n",
       "      <td>34c48f84026e08355dc3bd19b427f09a</td>\n",
       "      <td>Tokyo</td>\n",
       "      <td>Shinjuku</td>\n",
       "      <td>35.689521</td>\n",
       "      <td>139.691704</td>\n",
       "    </tr>\n",
       "  </tbody>\n",
       "</table>\n",
       "<p>5 rows × 45 columns</p>\n",
       "</div>"
      ],
      "text/plain": [
       "              REG_DATE SEX_ID  AGE WITHDRAW_DATE       PREF_NAME_x  \\\n",
       "0  2012-03-28 14:14:18      f   25           NaN               NaN   \n",
       "1  2011-06-12 18:38:39      f   49           NaN  Hyogo Prefecture   \n",
       "2  2011-07-29 18:02:46      f   25           NaN               NaN   \n",
       "3  2012-03-29 14:08:37      f   38           NaN               NaN   \n",
       "4  2011-07-17 00:00:15      m   34           NaN  Osaka prefecture   \n",
       "\n",
       "                       USER_ID_hash  PURCHASE_FLG             I_DATE_x  \\\n",
       "0  d9dca3cb44bab12ba313eaa681f663eb             1  2012-03-28 15:06:11   \n",
       "1  dd8a79645e8170db6a91bad1d89b4055             1  2012-03-26 23:26:26   \n",
       "2  658249379aaaf2b2320061e5218c0c2c             1  2012-03-26 13:50:23   \n",
       "3  e78ae0887c4a9dce91ff0d2a45a9f72c             1  2012-03-29 15:09:56   \n",
       "4  fca1e37548c9ca5415a9850a1b9b2c28             1  2012-03-28 22:45:21   \n",
       "\n",
       "   PAGE_SERIAL                     REFERRER_hash     ...      \\\n",
       "0           45  878034ded0ee2297d7ce27c5169e8584     ...       \n",
       "1            7  6c5616ced18d79fa5a97c5c8f3e65f8f     ...       \n",
       "2           12  6c5616ced18d79fa5a97c5c8f3e65f8f     ...       \n",
       "3           60  6c5616ced18d79fa5a97c5c8f3e65f8f     ...       \n",
       "4            9  6c5616ced18d79fa5a97c5c8f3e65f8f     ...       \n",
       "\n",
       "  USABLE_DATE_HOLIDAY USABLE_DATE_BEFORE_HOLIDAY large_area_name  ken_name  \\\n",
       "0                 NaN                        NaN           Kanto     Tokyo   \n",
       "1                 NaN                        NaN           Kanto     Tokyo   \n",
       "2                 NaN                        NaN           Kanto     Tokyo   \n",
       "3                 NaN                        NaN           Kanto     Tokyo   \n",
       "4                 NaN                        NaN           Kanto     Tokyo   \n",
       "\n",
       "                             small_area_name  \\\n",
       "0  Shinjuku, Takadanobaba Nakano - Kichijoji   \n",
       "1  Shinjuku, Takadanobaba Nakano - Kichijoji   \n",
       "2  Shinjuku, Takadanobaba Nakano - Kichijoji   \n",
       "3  Shinjuku, Takadanobaba Nakano - Kichijoji   \n",
       "4  Shinjuku, Takadanobaba Nakano - Kichijoji   \n",
       "\n",
       "                   COUPON_ID_hash_y PREF_NAME_y PREFECTUAL_OFFICE   LATITUDE  \\\n",
       "0  34c48f84026e08355dc3bd19b427f09a       Tokyo          Shinjuku  35.689521   \n",
       "1  34c48f84026e08355dc3bd19b427f09a       Tokyo          Shinjuku  35.689521   \n",
       "2  34c48f84026e08355dc3bd19b427f09a       Tokyo          Shinjuku  35.689521   \n",
       "3  34c48f84026e08355dc3bd19b427f09a       Tokyo          Shinjuku  35.689521   \n",
       "4  34c48f84026e08355dc3bd19b427f09a       Tokyo          Shinjuku  35.689521   \n",
       "\n",
       "    LONGITUDE  \n",
       "0  139.691704  \n",
       "1  139.691704  \n",
       "2  139.691704  \n",
       "3  139.691704  \n",
       "4  139.691704  \n",
       "\n",
       "[5 rows x 45 columns]"
      ]
     },
     "execution_count": 25,
     "metadata": {},
     "output_type": "execute_result"
    }
   ],
   "source": [
    "df.head()"
   ]
  },
  {
   "cell_type": "code",
   "execution_count": 26,
   "metadata": {},
   "outputs": [],
   "source": [
    "genre = df['GENRE_NAME']"
   ]
  },
  {
   "cell_type": "code",
   "execution_count": 27,
   "metadata": {},
   "outputs": [
    {
     "data": {
      "text/plain": [
       "0    Delivery service\n",
       "1    Delivery service\n",
       "2    Delivery service\n",
       "3    Delivery service\n",
       "4    Delivery service\n",
       "Name: GENRE_NAME, dtype: object"
      ]
     },
     "execution_count": 27,
     "metadata": {},
     "output_type": "execute_result"
    }
   ],
   "source": [
    "genre.head()"
   ]
  },
  {
   "cell_type": "code",
   "execution_count": 28,
   "metadata": {},
   "outputs": [],
   "source": [
    "X = df.loc[:,['AGE','DISCOUNT_PRICE']]"
   ]
  },
  {
   "cell_type": "code",
   "execution_count": 29,
   "metadata": {},
   "outputs": [],
   "source": [
    "y = df.loc[:,'PURCHASE_FLG']"
   ]
  },
  {
   "cell_type": "code",
   "execution_count": 30,
   "metadata": {},
   "outputs": [],
   "source": [
    "tree1 = DecisionTreeClassifier(criterion='entropy', max_depth=1, random_state=0).fit(X, y)"
   ]
  },
  {
   "cell_type": "code",
   "execution_count": 31,
   "metadata": {},
   "outputs": [],
   "source": [
    "a, b = cls_conf(X, y,DecisionTreeClassifier(criterion='entropy', max_depth=1, random_state=0) )"
   ]
  },
  {
   "cell_type": "code",
   "execution_count": 32,
   "metadata": {},
   "outputs": [
    {
     "data": {
      "text/plain": [
       "1.0"
      ]
     },
     "execution_count": 32,
     "metadata": {},
     "output_type": "execute_result"
    }
   ],
   "source": [
    "tree1.score(X,y)"
   ]
  },
  {
   "cell_type": "code",
   "execution_count": 33,
   "metadata": {},
   "outputs": [
    {
     "data": {
      "text/plain": [
       "array([1, 1, 1, ..., 1, 1, 1], dtype=int64)"
      ]
     },
     "execution_count": 33,
     "metadata": {},
     "output_type": "execute_result"
    }
   ],
   "source": [
    "tree1.predict(X)"
   ]
  },
  {
   "cell_type": "code",
   "execution_count": 34,
   "metadata": {},
   "outputs": [
    {
     "data": {
      "text/plain": [
       "0         1\n",
       "1         1\n",
       "2         1\n",
       "3         1\n",
       "4         1\n",
       "5         1\n",
       "6         1\n",
       "7         1\n",
       "8         1\n",
       "9         1\n",
       "10        1\n",
       "11        1\n",
       "12        1\n",
       "13        1\n",
       "14        1\n",
       "15        1\n",
       "16        1\n",
       "17        1\n",
       "18        1\n",
       "19        1\n",
       "20        1\n",
       "21        1\n",
       "22        1\n",
       "23        1\n",
       "24        1\n",
       "25        1\n",
       "26        1\n",
       "27        1\n",
       "28        1\n",
       "29        1\n",
       "         ..\n",
       "122359    1\n",
       "122360    1\n",
       "122361    1\n",
       "122362    1\n",
       "122363    1\n",
       "122364    1\n",
       "122365    1\n",
       "122366    1\n",
       "122367    1\n",
       "122368    1\n",
       "122369    1\n",
       "122370    1\n",
       "122371    1\n",
       "122372    1\n",
       "122373    1\n",
       "122374    1\n",
       "122375    1\n",
       "122376    1\n",
       "122377    1\n",
       "122378    1\n",
       "122379    1\n",
       "122380    1\n",
       "122381    1\n",
       "122382    1\n",
       "122383    1\n",
       "122384    1\n",
       "122385    1\n",
       "122386    1\n",
       "122387    1\n",
       "122388    1\n",
       "Name: PURCHASE_FLG, Length: 122389, dtype: int64"
      ]
     },
     "execution_count": 34,
     "metadata": {},
     "output_type": "execute_result"
    }
   ],
   "source": [
    "y"
   ]
  },
  {
   "cell_type": "code",
   "execution_count": 35,
   "metadata": {},
   "outputs": [
    {
     "data": {
      "text/plain": [
       "1    122389\n",
       "Name: PURCHASE_FLG, dtype: int64"
      ]
     },
     "execution_count": 35,
     "metadata": {},
     "output_type": "execute_result"
    }
   ],
   "source": [
    "y.value_counts()"
   ]
  },
  {
   "cell_type": "code",
   "execution_count": 36,
   "metadata": {},
   "outputs": [
    {
     "data": {
      "text/plain": [
       "array([1], dtype=int64)"
      ]
     },
     "execution_count": 36,
     "metadata": {},
     "output_type": "execute_result"
    }
   ],
   "source": [
    "np.unique(tree1.predict(X))"
   ]
  },
  {
   "cell_type": "code",
   "execution_count": 37,
   "metadata": {},
   "outputs": [
    {
     "data": {
      "text/plain": [
       "array([[78.],\n",
       "       [78.],\n",
       "       [78.],\n",
       "       ...,\n",
       "       [51.],\n",
       "       [50.],\n",
       "       [50.]])"
      ]
     },
     "execution_count": 37,
     "metadata": {},
     "output_type": "execute_result"
    }
   ],
   "source": [
    "df[\"PRICE_RATE\"].as_matrix()[None].T.astype(np.float)"
   ]
  },
  {
   "cell_type": "code",
   "execution_count": null,
   "metadata": {},
   "outputs": [],
   "source": []
  }
 ],
 "metadata": {
  "kernelspec": {
   "display_name": "Python 3",
   "language": "python",
   "name": "python3"
  },
  "language_info": {
   "codemirror_mode": {
    "name": "ipython",
    "version": 3
   },
   "file_extension": ".py",
   "mimetype": "text/x-python",
   "name": "python",
   "nbconvert_exporter": "python",
   "pygments_lexer": "ipython3",
   "version": "3.6.4"
  }
 },
 "nbformat": 4,
 "nbformat_minor": 2
}
