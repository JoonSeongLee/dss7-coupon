{
 "cells": [
  {
   "cell_type": "code",
   "execution_count": 1,
   "metadata": {},
   "outputs": [],
   "source": [
    "import pandas as pd\n",
    "import numpy as np\n",
    "import os\n",
    "from sklearn.base import BaseEstimator, TransformerMixin\n",
    "from sklearn.pipeline import FeatureUnion\n",
    "from sklearn.linear_model.logistic import LogisticRegression\n",
    "from sklearn.preprocessing import OneHotEncoder\n",
    "from sklearn.preprocessing import LabelEncoder\n",
    "\n",
    "class Get_Price_Rate(BaseEstimator, TransformerMixin):\n",
    "    '''\n",
    "    get price rate\n",
    "    '''\n",
    "\n",
    "    def get_feature_names(self):\n",
    "\n",
    "        return [self.__class__.__name__]\n",
    "\n",
    "    def fit(self, date_frame, y=None):\n",
    "        '''\n",
    "        fit\n",
    "\n",
    "        :param pandas.DataFrame: all data\n",
    "        :rtype: Get_Price_Rate\n",
    "        '''\n",
    "\n",
    "        return self\n",
    "\n",
    "    def transform(self, date_frame):\n",
    "        '''\n",
    "        transform\n",
    "\n",
    "        :param pandas.DataFrame: all data\n",
    "        :rtype: array\n",
    "        '''\n",
    "\n",
    "        return date_frame[\"PRICE_RATE\"].as_matrix()[None].T.astype(np.float)\n",
    "\n",
    "\n",
    "class Get_Match_Pref(BaseEstimator, TransformerMixin):\n",
    "    '''\n",
    "    get user pref is match coupon area\n",
    "    '''\n",
    "\n",
    "    def get_feature_names(self):\n",
    "\n",
    "        return [self.__class__.__name__]\n",
    "\n",
    "    def fit(self, date_frame, y=None):\n",
    "        '''\n",
    "        fit\n",
    "\n",
    "        :param pandas.DataFrame: all data\n",
    "        :rtype: Get_Price_Rate\n",
    "        '''\n",
    "\n",
    "        return self\n",
    "\n",
    "    def transform(self, date_frame):\n",
    "        '''\n",
    "        transform\n",
    "\n",
    "        :param pandas.DataFrame: all data\n",
    "        :rtype: array\n",
    "        '''\n",
    "        res_sr = date_frame[\"PREF_NAME\"] == date_frame[\"ken_name\"]\n",
    "\n",
    "        return res_sr.as_matrix()[None].T.astype(np.float)\n",
    "\n",
    "\n",
    "def top_merge(df, n=10, column=\"predict\", merge_column=\"COUPON_ID_hash\"):\n",
    "    '''\n",
    "    get top n row\n",
    "\n",
    "    :param pandas.DataFrame df:\n",
    "    :param int n:\n",
    "    :param str column:\n",
    "    :rtype: pandas.DataFrame\n",
    "    '''\n",
    "\n",
    "    return \" \".join(df.sort_index(by=column)[-n:][merge_column])\n",
    "\n",
    "feature_list = [\n",
    "    ('PRICE_RATE', Get_Price_Rate()),\n",
    "    ('MATCH_PREF', Get_Match_Pref()),\n",
    "]"
   ]
  },
  {
   "cell_type": "code",
   "execution_count": 2,
   "metadata": {},
   "outputs": [],
   "source": [
    "# import csv\n",
    "user_df = pd.read_csv(\"../data/user_list.csv\")\n",
    "train_coupon_df = pd.read_csv(\"../data/coupon_list_train.csv\")\n",
    "train_visit_df = pd.read_csv(\"../data/coupon_visit_train.csv\")\n",
    "test_coupon_df = pd.read_csv(\"../data/coupon_list_test.csv\")"
   ]
  },
  {
   "cell_type": "code",
   "execution_count": 3,
   "metadata": {},
   "outputs": [],
   "source": [
    "# create train_df\n",
    "train_df = pd.merge(train_visit_df, train_coupon_df,\n",
    "                    left_on=\"VIEW_COUPON_ID_hash\", right_on=\"COUPON_ID_hash\")\n",
    "train_df = pd.merge(train_df, user_df,\n",
    "                    left_on=\"USER_ID_hash\", right_on=\"USER_ID_hash\")"
   ]
  },
  {
   "cell_type": "code",
   "execution_count": 4,
   "metadata": {},
   "outputs": [],
   "source": [
    "del train_visit_df\n",
    "del train_coupon_df"
   ]
  },
  {
   "cell_type": "code",
   "execution_count": 5,
   "metadata": {},
   "outputs": [],
   "source": [
    "# create test_df\n",
    "test_coupon_df[\"cross\"] = 1\n",
    "user_df[\"cross\"] = 1\n",
    "test_df = pd.merge(test_coupon_df, user_df, on=\"cross\")"
   ]
  },
  {
   "cell_type": "code",
   "execution_count": 6,
   "metadata": {},
   "outputs": [],
   "source": [
    "del test_coupon_df\n",
    "del user_df"
   ]
  },
  {
   "cell_type": "markdown",
   "metadata": {},
   "source": [
    "# GENRE_NAME, DISCOUNT_PRICE, KEN_NAME, AGE, SEX_ID"
   ]
  },
  {
   "cell_type": "code",
   "execution_count": 7,
   "metadata": {},
   "outputs": [
    {
     "data": {
      "text/plain": [
       "Index(['PURCHASE_FLG', 'I_DATE', 'PAGE_SERIAL', 'REFERRER_hash',\n",
       "       'VIEW_COUPON_ID_hash', 'USER_ID_hash', 'SESSION_ID_hash',\n",
       "       'PURCHASEID_hash', 'Unnamed: 0_x', 'CAPSULE_TEXT', 'GENRE_NAME',\n",
       "       'PRICE_RATE', 'CATALOG_PRICE', 'DISCOUNT_PRICE', 'DISPFROM', 'DISPEND',\n",
       "       'DISPPERIOD', 'VALIDFROM', 'VALIDEND', 'VALIDPERIOD', 'USABLE_DATE_MON',\n",
       "       'USABLE_DATE_TUE', 'USABLE_DATE_WED', 'USABLE_DATE_THU',\n",
       "       'USABLE_DATE_FRI', 'USABLE_DATE_SAT', 'USABLE_DATE_SUN',\n",
       "       'USABLE_DATE_HOLIDAY', 'USABLE_DATE_BEFORE_HOLIDAY', 'large_area_name',\n",
       "       'ken_name', 'small_area_name', 'COUPON_ID_hash', 'Unnamed: 0_y',\n",
       "       'REG_DATE', 'SEX_ID', 'AGE', 'WITHDRAW_DATE', 'PREF_NAME'],\n",
       "      dtype='object')"
      ]
     },
     "execution_count": 7,
     "metadata": {},
     "output_type": "execute_result"
    }
   ],
   "source": [
    "train_df.columns"
   ]
  },
  {
   "cell_type": "code",
   "execution_count": 8,
   "metadata": {},
   "outputs": [
    {
     "data": {
      "text/plain": [
       "Index(['Unnamed: 0_x', 'CAPSULE_TEXT', 'GENRE_NAME', 'PRICE_RATE',\n",
       "       'CATALOG_PRICE', 'DISCOUNT_PRICE', 'DISPFROM', 'DISPEND', 'DISPPERIOD',\n",
       "       'VALIDFROM', 'VALIDEND', 'VALIDPERIOD', 'USABLE_DATE_MON',\n",
       "       'USABLE_DATE_TUE', 'USABLE_DATE_WED', 'USABLE_DATE_THU',\n",
       "       'USABLE_DATE_FRI', 'USABLE_DATE_SAT', 'USABLE_DATE_SUN',\n",
       "       'USABLE_DATE_HOLIDAY', 'USABLE_DATE_BEFORE_HOLIDAY', 'large_area_name',\n",
       "       'ken_name', 'small_area_name', 'COUPON_ID_hash', 'cross',\n",
       "       'Unnamed: 0_y', 'REG_DATE', 'SEX_ID', 'AGE', 'WITHDRAW_DATE',\n",
       "       'PREF_NAME', 'USER_ID_hash'],\n",
       "      dtype='object')"
      ]
     },
     "execution_count": 8,
     "metadata": {},
     "output_type": "execute_result"
    }
   ],
   "source": [
    "test_df.columns"
   ]
  },
  {
   "cell_type": "code",
   "execution_count": 9,
   "metadata": {},
   "outputs": [],
   "source": [
    "# length = len(train_df)\n",
    "# a = train_df['GENRE_NAME']\n",
    "# b = train_df['DISCOUNT_PRICE'].values.reshape(length,1)\n",
    "# c = train_df['ken_name']\n",
    "# d = train_df['SEX_ID']"
   ]
  },
  {
   "cell_type": "code",
   "execution_count": 10,
   "metadata": {},
   "outputs": [],
   "source": [
    "# length = len(test_df)\n",
    "# A = test_df['GENRE_NAME']\n",
    "# B = test_df['DISCOUNT_PRICE'].values.reshape(length, 1)\n",
    "# C = test_df['ken_name']\n",
    "# D = test_df['SEX_ID']"
   ]
  },
  {
   "cell_type": "code",
   "execution_count": 11,
   "metadata": {},
   "outputs": [],
   "source": [
    "def category_to_ohe(train_col, test_col):\n",
    "    le = LabelEncoder()\n",
    "    le.fit(train_col)\n",
    "    \n",
    "    labeled_train_col = le.transform(train_col)\n",
    "    labeled_train_col = labeled_train_col.reshape(len(labeled_train_col),1)\n",
    "    \n",
    "    labeled_test_col = le.transform(test_col)\n",
    "    labeled_test_col = labeled_test_col.reshape(len(labeled_test_col),1)\n",
    "    \n",
    "    ohe = OneHotEncoder()\n",
    "    ohe.fit(labeled_train_col)\n",
    "    \n",
    "    ohe_train_col = ohe.transform(labeled_train_col).toarray()\n",
    "    ohe_test_col = ohe.transform(labeled_test_col).toarray()\n",
    "    \n",
    "    return ohe_train_col, ohe_test_col"
   ]
  },
  {
   "cell_type": "code",
   "execution_count": 12,
   "metadata": {},
   "outputs": [],
   "source": [
    "from sklearn.preprocessing import Imputer\n",
    "imp = Imputer(missing_values='NaN', strategy='mean', axis=0)\n",
    "train_df['VALIDPERIOD'] = imp.fit_transform(train_df['VALIDPERIOD'].values.reshape(len(train_df),1))\n",
    "test_df['VALIDPERIOD'] = imp.fit_transform(test_df['VALIDPERIOD'].values.reshape(len(test_df),1))"
   ]
  },
  {
   "cell_type": "code",
   "execution_count": 13,
   "metadata": {},
   "outputs": [
    {
     "name": "stderr",
     "output_type": "stream",
     "text": [
      "d:\\anaconda\\lib\\site-packages\\ipykernel_launcher.py:6: SettingWithCopyWarning: \n",
      "A value is trying to be set on a copy of a slice from a DataFrame\n",
      "\n",
      "See the caveats in the documentation: http://pandas.pydata.org/pandas-docs/stable/indexing.html#indexing-view-versus-copy\n",
      "  \n",
      "d:\\anaconda\\lib\\site-packages\\ipykernel_launcher.py:7: SettingWithCopyWarning: \n",
      "A value is trying to be set on a copy of a slice from a DataFrame\n",
      "\n",
      "See the caveats in the documentation: http://pandas.pydata.org/pandas-docs/stable/indexing.html#indexing-view-versus-copy\n",
      "  import sys\n",
      "d:\\anaconda\\lib\\site-packages\\ipykernel_launcher.py:10: SettingWithCopyWarning: \n",
      "A value is trying to be set on a copy of a slice from a DataFrame\n",
      "\n",
      "See the caveats in the documentation: http://pandas.pydata.org/pandas-docs/stable/indexing.html#indexing-view-versus-copy\n",
      "  # Remove the CWD from sys.path while we load stuff.\n",
      "d:\\anaconda\\lib\\site-packages\\ipykernel_launcher.py:11: SettingWithCopyWarning: \n",
      "A value is trying to be set on a copy of a slice from a DataFrame\n",
      "\n",
      "See the caveats in the documentation: http://pandas.pydata.org/pandas-docs/stable/indexing.html#indexing-view-versus-copy\n",
      "  # This is added back by InteractiveShellApp.init_path()\n"
     ]
    }
   ],
   "source": [
    "usable_date = ['USABLE_DATE_MON', 'USABLE_DATE_TUE', 'USABLE_DATE_WED', 'USABLE_DATE_THU',\n",
    "               'USABLE_DATE_FRI', 'USABLE_DATE_SAT', 'USABLE_DATE_SUN', 'USABLE_DATE_HOLIDAY']\n",
    "\n",
    "for each in usable_date:\n",
    "    tmp = train_df[each]\n",
    "    tmp[tmp==2] = 1\n",
    "    tmp[tmp.isnull()] = 1\n",
    "\n",
    "    tmp = test_df[each]\n",
    "    tmp[tmp==2] = 1\n",
    "    tmp[tmp.isnull()] = 1"
   ]
  },
  {
   "cell_type": "code",
   "execution_count": 14,
   "metadata": {},
   "outputs": [],
   "source": [
    "index = train_df['PREF_NAME'] == train_df['ken_name']\n",
    "train_df['PREF_MATCH'] = index\n",
    "train_df['PREF_MATCH'] = train_df['PREF_MATCH'].apply(lambda x: 1 if x == True else 0)"
   ]
  },
  {
   "cell_type": "code",
   "execution_count": 15,
   "metadata": {},
   "outputs": [],
   "source": [
    "index = test_df['PREF_NAME'] == test_df['ken_name']\n",
    "test_df['PREF_MATCH'] = index\n",
    "test_df['PREF_MATCH'] = test_df['PREF_MATCH'].apply(lambda x: 1 if x == True else 0)"
   ]
  },
  {
   "cell_type": "code",
   "execution_count": 16,
   "metadata": {},
   "outputs": [],
   "source": [
    "train_cols, test_cols = [], []"
   ]
  },
  {
   "cell_type": "code",
   "execution_count": 25,
   "metadata": {},
   "outputs": [],
   "source": [
    "train_df['twenty'] = train_df['AGE'].apply(lambda age: 1 if 20<=age<30 else 0)\n",
    "train_df['thirty'] = train_df['AGE'].apply(lambda age: 1 if 30<=age<40 else 0)\n",
    "train_df['forty'] = train_df['AGE'].apply(lambda age: 1 if 40<=age<50 else 0)\n",
    "train_df['fifty'] = train_df['AGE'].apply(lambda age: 1 if 50<=age<60 else 0)\n",
    "\n",
    "test_df['twenty'] = test_df['AGE'].apply(lambda age: 1 if 20<=age<30 else 0)\n",
    "test_df['thirty'] = test_df['AGE'].apply(lambda age: 1 if 30<=age<40 else 0)\n",
    "test_df['forty'] = test_df['AGE'].apply(lambda age: 1 if 40<=age<50 else 0)\n",
    "test_df['fifty'] = test_df['AGE'].apply(lambda age: 1 if 50<=age<60 else 0)"
   ]
  },
  {
   "cell_type": "code",
   "execution_count": 26,
   "metadata": {},
   "outputs": [],
   "source": [
    "category = ['GENRE_NAME','PREF_MATCH','twenty','thirty','forty','fifty']\n",
    "continuous = ['PRICE_RATE','VALIDPERIOD','DISPPERIOD']"
   ]
  },
  {
   "cell_type": "code",
   "execution_count": 27,
   "metadata": {},
   "outputs": [
    {
     "name": "stdout",
     "output_type": "stream",
     "text": [
      "GENRE_NAME  finished !\n",
      "PREF_MATCH  finished !\n",
      "twenty  finished !\n",
      "thirty  finished !\n",
      "forty  finished !\n",
      "fifty  finished !\n"
     ]
    }
   ],
   "source": [
    "for cat in category:\n",
    "    train_tok, test_tok = category_to_ohe(train_df[cat],test_df[cat])\n",
    "    train_cols.append(train_tok)\n",
    "    test_cols.append(test_tok)\n",
    "    print(cat,' finished !')"
   ]
  },
  {
   "cell_type": "code",
   "execution_count": 28,
   "metadata": {},
   "outputs": [],
   "source": [
    "for con in continuous:\n",
    "    train_cols.append(train_df[con].values.reshape(len(train_df),1))\n",
    "    test_cols.append(test_df[con].values.reshape(len(test_df),1))"
   ]
  },
  {
   "cell_type": "code",
   "execution_count": 31,
   "metadata": {},
   "outputs": [],
   "source": [
    "X_train = np.hstack(tuple(each for each in train_cols))\n",
    "X_test = np.hstack(tuple(each for each in test_cols))\n",
    "y_train = train_df['PURCHASE_FLG']"
   ]
  },
  {
   "cell_type": "code",
   "execution_count": 32,
   "metadata": {},
   "outputs": [],
   "source": [
    "del train_cols\n",
    "del test_cols"
   ]
  },
  {
   "cell_type": "code",
   "execution_count": 33,
   "metadata": {},
   "outputs": [],
   "source": [
    "del train_df"
   ]
  },
  {
   "cell_type": "code",
   "execution_count": 34,
   "metadata": {},
   "outputs": [
    {
     "data": {
      "text/plain": [
       "LogisticRegression(C=1.0, class_weight=None, dual=False, fit_intercept=True,\n",
       "          intercept_scaling=1, max_iter=100, multi_class='ovr', n_jobs=1,\n",
       "          penalty='l2', random_state=None, solver='liblinear', tol=0.0001,\n",
       "          verbose=0, warm_start=False)"
      ]
     },
     "execution_count": 34,
     "metadata": {},
     "output_type": "execute_result"
    }
   ],
   "source": [
    "clf = LogisticRegression()\n",
    "clf.fit(X_train, y_train)"
   ]
  },
  {
   "cell_type": "code",
   "execution_count": 35,
   "metadata": {},
   "outputs": [
    {
     "name": "stderr",
     "output_type": "stream",
     "text": [
      "d:\\anaconda\\lib\\site-packages\\ipykernel_launcher.py:81: FutureWarning: by argument to sort_index is deprecated, pls use .sort_values(by=...)\n"
     ]
    }
   ],
   "source": [
    "from datetime import datetime\n",
    "# predict test data\n",
    "predict_proba = clf.predict_proba(X_test)\n",
    "\n",
    "# 클래스가 1이면 산다라고 분류a\n",
    "# 그러니까 아래 코드는 사는 놈들의 스코어를 위한 인덱스\n",
    "pos_idx = np.where(clf.classes_ == True)[0][0]\n",
    "\n",
    "now = datetime.now()\n",
    "cur_time = now.strftime('%Y-%m-%d %H-%M-%S')\n",
    "\n",
    "test_df[\"predict\"] = predict_proba[:, pos_idx]\n",
    "top10_coupon = test_df.groupby(\"USER_ID_hash\").apply(top_merge)\n",
    "top10_coupon.name = \"PURCHASED_COUPONS\"\n",
    "top10_coupon.to_csv(\"submission/logistic\"+ cur_time +\".csv\", header=True)"
   ]
  },
  {
   "cell_type": "code",
   "execution_count": 28,
   "metadata": {},
   "outputs": [],
   "source": [
    "# predict_proba[:,pos_idx]"
   ]
  },
  {
   "cell_type": "code",
   "execution_count": 29,
   "metadata": {},
   "outputs": [],
   "source": [
    "# test_df.sort_index(by='predict')[-10:]"
   ]
  },
  {
   "cell_type": "code",
   "execution_count": 30,
   "metadata": {},
   "outputs": [],
   "source": [
    "# test_df.sort_index(by='predict')"
   ]
  },
  {
   "cell_type": "code",
   "execution_count": 39,
   "metadata": {},
   "outputs": [
    {
     "data": {
      "text/plain": [
       "array([0, 0, 0, ..., 0, 0, 0], dtype=int64)"
      ]
     },
     "execution_count": 39,
     "metadata": {},
     "output_type": "execute_result"
    }
   ],
   "source": [
    "clf.predict(X_train)"
   ]
  },
  {
   "cell_type": "code",
   "execution_count": 42,
   "metadata": {},
   "outputs": [
    {
     "data": {
      "text/plain": [
       "array([0, 0, 0, ..., 0, 1, 1], dtype=int64)"
      ]
     },
     "execution_count": 42,
     "metadata": {},
     "output_type": "execute_result"
    }
   ],
   "source": [
    "y_train.values"
   ]
  },
  {
   "cell_type": "code",
   "execution_count": 43,
   "metadata": {},
   "outputs": [
    {
     "data": {
      "text/plain": [
       "1.0"
      ]
     },
     "execution_count": 43,
     "metadata": {},
     "output_type": "execute_result"
    }
   ],
   "source": [
    "len(y_train.values == clf.predict(X_train))/len(y_train)"
   ]
  },
  {
   "cell_type": "code",
   "execution_count": 45,
   "metadata": {},
   "outputs": [
    {
     "data": {
      "text/plain": [
       "array([0, 0, 0, ..., 0, 1, 1], dtype=int64)"
      ]
     },
     "execution_count": 45,
     "metadata": {},
     "output_type": "execute_result"
    }
   ],
   "source": [
    "y_train.values"
   ]
  },
  {
   "cell_type": "code",
   "execution_count": 46,
   "metadata": {},
   "outputs": [
    {
     "data": {
      "text/plain": [
       "array([0, 0, 0, ..., 0, 0, 0], dtype=int64)"
      ]
     },
     "execution_count": 46,
     "metadata": {},
     "output_type": "execute_result"
    }
   ],
   "source": [
    "clf.predict(X_train)"
   ]
  },
  {
   "cell_type": "code",
   "execution_count": 52,
   "metadata": {},
   "outputs": [],
   "source": [
    "a = y_train.values == clf.predict(X_train)"
   ]
  },
  {
   "cell_type": "code",
   "execution_count": 55,
   "metadata": {},
   "outputs": [
    {
     "data": {
      "text/plain": [
       "2394817"
      ]
     },
     "execution_count": 55,
     "metadata": {},
     "output_type": "execute_result"
    }
   ],
   "source": [
    "len(a[a==True])"
   ]
  },
  {
   "cell_type": "code",
   "execution_count": 56,
   "metadata": {},
   "outputs": [
    {
     "data": {
      "text/plain": [
       "0.9513790289710099"
      ]
     },
     "execution_count": 56,
     "metadata": {},
     "output_type": "execute_result"
    }
   ],
   "source": [
    "len(a[a==True]) / len(y_train.values)"
   ]
  },
  {
   "cell_type": "code",
   "execution_count": null,
   "metadata": {},
   "outputs": [],
   "source": []
  }
 ],
 "metadata": {
  "kernelspec": {
   "display_name": "Python 3",
   "language": "python",
   "name": "python3"
  },
  "language_info": {
   "codemirror_mode": {
    "name": "ipython",
    "version": 3
   },
   "file_extension": ".py",
   "mimetype": "text/x-python",
   "name": "python",
   "nbconvert_exporter": "python",
   "pygments_lexer": "ipython3",
   "version": "3.6.3"
  }
 },
 "nbformat": 4,
 "nbformat_minor": 2
}
