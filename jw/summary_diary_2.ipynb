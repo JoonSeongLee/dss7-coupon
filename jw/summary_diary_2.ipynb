{
 "cells": [
  {
   "cell_type": "markdown",
   "metadata": {},
   "source": [
    "# 180330\n",
    "\n",
    "## EDA List\n",
    "1. 제일 많이 보는 시간대에서 보는 쿠폰종류\n",
    "\n",
    "2. 제일 많이 사는 시간대에서 사는 쿠폰종류 + 갯수\n",
    "\n",
    "3. 고객이 제일 많은 지역에서의 본, 산 쿠폰종류\n",
    "\n",
    "4. 홈페이지에서 쿠폰을 보고 사는데까지 시간이 얼마나 걸리나\n",
    "\n",
    "--------\n",
    "\n",
    "# view\n",
    "1. PAGE_SERIAL은 쿠폰판매웹페이지 식별자인 듯, 갈수록 hit수가 떨어진다. 페이지를 많이 넘겨보는 사람은 갈수록 적어진다\n",
    "2. __연말(11,12)에 평소보다 많이 봄__\n",
    "3. 주말보다 __주중__에 조회수가 더 많다. 이는 USABLE_DATE와도 똑같다\n",
    "4. 점심시간, 취침 전에 쿠폰을 자주 방문한다\n",
    "\n",
    "# purchase\n",
    "1. 쿠폰 구매시 주로 1~2개씩 삼\n",
    "2. 11월엔 평소보다 많이 사고 12월엔 반대\n",
    "3. 12월엔 쿠폰을 잘 안삼\n",
    "\n",
    "## view면서 PURCHASE_FLG==1\n",
    "= 보면서 산 쿠폰들\n",
    "\n",
    "## view면서 PURCHASE_FLAG==1이면서 purchase랑 JOIN\n",
    "= 본 시간 + 산 시간이 같이 들어있는 view데이터, (purchase의 나머지 column은 대부분 view와 중복)\n",
    "\n",
    "# view, purchase, view /\\ FLAG==1 들의 row수\n",
    "1. view = 280만개\n",
    "2. purchase = 16만개\n",
    "3. view /\\ FLAG==1 = 12만개"
   ]
  },
  {
   "cell_type": "code",
   "execution_count": null,
   "metadata": {},
   "outputs": [],
   "source": []
  }
 ],
 "metadata": {
  "kernelspec": {
   "display_name": "Python 3",
   "language": "python",
   "name": "python3"
  },
  "language_info": {
   "codemirror_mode": {
    "name": "ipython",
    "version": 3
   },
   "file_extension": ".py",
   "mimetype": "text/x-python",
   "name": "python",
   "nbconvert_exporter": "python",
   "pygments_lexer": "ipython3",
   "version": "3.6.4"
  }
 },
 "nbformat": 4,
 "nbformat_minor": 2
}
