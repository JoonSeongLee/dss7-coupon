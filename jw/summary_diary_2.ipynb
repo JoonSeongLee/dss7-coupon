{
 "cells": [
  {
   "cell_type": "markdown",
   "metadata": {},
   "source": [
    "# 180330\n",
    "\n",
    "## EDA List\n",
    "1. 제일 많이 보는 시간대에서 보는 쿠폰종류\n",
    "(오전 11, 12시 / 저녁8시 ~ 11시)\n",
    "= 전체의 경향과 같음 (Delivery -> Food)\n",
    "\n",
    "2. 제일 많이 사는 시간대에서 사는 쿠폰종류 + 갯수\n",
    "= Food -> Delivery, 주로 1~2개가 많이 팔림\n",
    "\n",
    "3. 고객이 제일 많은 지역에서의 본, 산 쿠폰종류\n",
    "= 조회한 쿠폰은 원래와 크게 다르지 않음\n",
    "= 구매한 쿠폰은 원래 3위인 Hotel이 5위로 밀려남\n",
    "= 인구밀집지역에선 숙박업이 외곽지역보단 덜 인기있다\n",
    "\n",
    "4. 홈페이지에서 쿠폰을 보고 사는데까지 시간이 얼마나 걸리나\n",
    "= 알 수 없음\n",
    "\n",
    "5. 어떤 쿠폰이 이득이 제일 많이 남나\n",
    "= 알 수 없음\n",
    "\n",
    "6. 연령대별로 어떤 쿠폰이 잘 팔리나\n",
    "= Delivery -> Food로 감\n",
    "\n",
    "# 요약\n",
    "1. 이 회사는 거의 배달, 음식에 관한 쿠폰으로 먹고 산다\n",
    "2. 고객들이 점심, 취침 전 시간대에 주로 이용한다\n",
    "\n",
    "--------\n",
    "\n",
    "# view\n",
    "1. PAGE_SERIAL은 쿠폰판매웹페이지 식별자인 듯, 갈수록 hit수가 떨어진다. 페이지를 많이 넘겨보는 사람은 갈수록 적어진다\n",
    "2. __연말(11,12)에 평소보다 많이 봄__\n",
    "3. 주말보다 __주중__에 조회수가 더 많다. 이는 USABLE_DATE와도 똑같다\n",
    "4. 점심시간, 취침 전에 쿠폰을 자주 방문한다\n",
    "\n",
    "# purchase\n",
    "1. 쿠폰 구매시 주로 1~2개씩 삼\n",
    "2. 점심에, 자기전 시간에 많이 삼\n",
    "3. 11월엔 평소보다 많이 사고 12월엔 반대\n",
    "4. 12월엔 쿠폰을 잘 안삼\n",
    "\n",
    "# view, purchase 공통점\n",
    "= 점심시간, 취침 전에 제일 많이 홈페이지를 이용함\n",
    "\n",
    "## view면서 PURCHASE_FLG==1\n",
    "= 보면서 산 쿠폰들\n",
    "\n",
    "## view면서 PURCHASE_FLAG==1이면서 purchase랑 JOIN\n",
    "= 본 시간 + 산 시간이 같이 들어있는 view데이터, (purchase의 나머지 column은 대부분 view와 중복)\n",
    "\n",
    "# view, purchase, view /\\ FLAG==1 들의 row수\n",
    "1. view = 280만개\n",
    "2. purchase = 16만개\n",
    "3. view /\\ FLAG==1 = 12만개\n",
    "\n",
    "# 그럼 purchase엔 있고 view엔 없는 쿠폰들은 뭘까\n",
    "= 아마 홈페이지를 거치지 않고 바로 결제해서 구매하는 쿠폰들"
   ]
  },
  {
   "cell_type": "markdown",
   "metadata": {},
   "source": [
    "----------------"
   ]
  },
  {
   "cell_type": "markdown",
   "metadata": {},
   "source": [
    "# 로지스틱 회귀 모델링\n",
    "1. Y = PURCHASE_FLAG (0 = 안삼, 1 = 삼)\n",
    "2. X = up to our decision\n",
    "\n",
    "# 왜 로지스틱 회귀를 썼습니까?\n",
    "= 제공받은 데이터의 feature에 카테고리 변수가 많음 (카테고리, 성별, 지역, USABLE_day(클래스당 데이터 별로 없는 애들은 아웃라이어로 간주해서 데이터에서 뺀 후 넣음)\n",
    "\n",
    "= 만약 우리가 하려는 예측문제가 카테고리 변수를 충실히 반영해야 한다면 로지스틱 회귀로 고려\n",
    "\n",
    "(sm.LOS.from_formula('Y ~ C(X1) + C(X2) ... ')\n",
    "\n",
    "# 어떤 고객이 어떤 쿠폰을 살 진 어떻게 알까?\n",
    "= model에 fit할 때 column에 넣진 않지만 (고객ID, 쿠폰ID)를 X, y의 각 data와 순서를 맞춰서 따로 저장 (아니면 줘도 됨, 그땐 모델링 따로)\n",
    "\n",
    "= 만약 어떤 X의 예측값 y의 결과가 나오면 그 결과가 따로 저장한 (고객ID, 쿠폰ID)의 결과가 됨"
   ]
  },
  {
   "cell_type": "markdown",
   "metadata": {},
   "source": [
    "-------------"
   ]
  },
  {
   "cell_type": "markdown",
   "metadata": {},
   "source": [
    "1. view.I_DATE = 조회날짜\n",
    "2. view.I_DATE that PUCHASE_FLAG==1 = 구매날짜\n",
    "3. 쿠폰 지역이랑 고객 지역 헷갈리지 말 것"
   ]
  },
  {
   "cell_type": "code",
   "execution_count": null,
   "metadata": {},
   "outputs": [],
   "source": []
  }
 ],
 "metadata": {
  "kernelspec": {
   "display_name": "Python 3",
   "language": "python",
   "name": "python3"
  },
  "language_info": {
   "codemirror_mode": {
    "name": "ipython",
    "version": 3
   },
   "file_extension": ".py",
   "mimetype": "text/x-python",
   "name": "python",
   "nbconvert_exporter": "python",
   "pygments_lexer": "ipython3",
   "version": "3.6.3"
  }
 },
 "nbformat": 4,
 "nbformat_minor": 2
}
