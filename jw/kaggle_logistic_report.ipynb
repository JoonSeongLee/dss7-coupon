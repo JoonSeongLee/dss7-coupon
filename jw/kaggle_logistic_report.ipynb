{
 "cells": [
  {
   "cell_type": "markdown",
   "metadata": {},
   "source": [
    "# 캐글홈페이지에서 로지스틱 리그레션 코드 따옴\n",
    "# 쿠폰 채점방식은 MAP (높을수록 좋다)\n",
    "# 그대로 따온 점수는 0.000321\n",
    "# 여기에 DISCOUNT_PRICE까지 더한 점수 0.000492"
   ]
  },
  {
   "cell_type": "code",
   "execution_count": null,
   "metadata": {},
   "outputs": [],
   "source": []
  }
 ],
 "metadata": {
  "kernelspec": {
   "display_name": "Python 3",
   "language": "python",
   "name": "python3"
  },
  "language_info": {
   "codemirror_mode": {
    "name": "ipython",
    "version": 3
   },
   "file_extension": ".py",
   "mimetype": "text/x-python",
   "name": "python",
   "nbconvert_exporter": "python",
   "pygments_lexer": "ipython3",
   "version": "3.6.4"
  }
 },
 "nbformat": 4,
 "nbformat_minor": 2
}
