{
 "cells": [
  {
   "cell_type": "markdown",
   "metadata": {},
   "source": [
    "## 1. Ponpare는 뭐하는 애들인가\n",
    "= 강의, 맛집, 여행 등 쿠폰 파는 회사"
   ]
  },
  {
   "cell_type": "markdown",
   "metadata": {},
   "source": [
    "## 2. 우리는 뭘 해야 되는가\n",
    "= Ponpare의 각 고객들에게 __추천 쿠폰 리스트__를 줘야 함\n",
    "\n",
    "= 고객에 대한 정보는 user_list.csv"
   ]
  },
  {
   "cell_type": "markdown",
   "metadata": {},
   "source": [
    "## 3. DataFrame구조\n",
    "= documentation/ERDiagram.xlsx"
   ]
  },
  {
   "cell_type": "markdown",
   "metadata": {},
   "source": [
    "## 4. training, test data 날짜\n",
    "1. training = 2011/7/1 ~ 2012/6/23\n",
    "2. test = 2012/6/24 ~ 2012/6/30"
   ]
  },
  {
   "cell_type": "markdown",
   "metadata": {},
   "source": [
    "# 파일 설명\n",
    "https://www.kaggle.com/c/coupon-purchase-prediction/data"
   ]
  },
  {
   "cell_type": "code",
   "execution_count": null,
   "metadata": {},
   "outputs": [],
   "source": []
  }
 ],
 "metadata": {
  "kernelspec": {
   "display_name": "Python 3",
   "language": "python",
   "name": "python3"
  },
  "language_info": {
   "codemirror_mode": {
    "name": "ipython",
    "version": 3
   },
   "file_extension": ".py",
   "mimetype": "text/x-python",
   "name": "python",
   "nbconvert_exporter": "python",
   "pygments_lexer": "ipython3",
   "version": "3.6.3"
  }
 },
 "nbformat": 4,
 "nbformat_minor": 2
}
